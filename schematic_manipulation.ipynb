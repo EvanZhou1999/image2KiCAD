{
 "cells": [
  {
   "cell_type": "markdown",
   "metadata": {},
   "source": [
    "## GPT/Claude based Schematic component recognition"
   ]
  },
  {
   "cell_type": "code",
   "execution_count": 70,
   "metadata": {},
   "outputs": [
    {
     "name": "stdout",
     "output_type": "stream",
     "text": [
      "\u001b[32;1m\u001b[1;3m[chain/start]\u001b[0m \u001b[1m[1:chain:RunnableSequence] Entering Chain run with input:\n",
      "\u001b[0m{\n",
      "  \"image_path\": \"diode_capacitor.png\",\n",
      "  \"prompt\": \"\\n   Given the image which contains a circuit schematic drawing, provide the following information:\\n   - A count of how many components are in the image\\n   - A list of wires present on this schematic drawing, including start and end position on the image (you may approaximate using pixel locations)\\n   - A list of components present on this schematic drawing, including their name, position on the image, and orientation (you may approaximate using pixel locations)\\n   - A list of connections made by the components, you must make sure all the referneces stays consistent throught your answer!\\n   Please just reply ONLY in JSON output and nothing else!\\n   \"\n",
      "}\n",
      "\u001b[32;1m\u001b[1;3m[chain/start]\u001b[0m \u001b[1m[1:chain:RunnableSequence > 2:chain:TransformChain] Entering Chain run with input:\n",
      "\u001b[0m{\n",
      "  \"image_path\": \"diode_capacitor.png\",\n",
      "  \"prompt\": \"\\n   Given the image which contains a circuit schematic drawing, provide the following information:\\n   - A count of how many components are in the image\\n   - A list of wires present on this schematic drawing, including start and end position on the image (you may approaximate using pixel locations)\\n   - A list of components present on this schematic drawing, including their name, position on the image, and orientation (you may approaximate using pixel locations)\\n   - A list of connections made by the components, you must make sure all the referneces stays consistent throught your answer!\\n   Please just reply ONLY in JSON output and nothing else!\\n   \"\n",
      "}\n",
      "\u001b[36;1m\u001b[1;3m[chain/end]\u001b[0m \u001b[1m[1:chain:RunnableSequence > 2:chain:TransformChain] [1ms] Exiting Chain run with output:\n",
      "\u001b[0m{\n",
      "  \"image\": \"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\"\n",
      "}\n",
      "\u001b[32;1m\u001b[1;3m[chain/start]\u001b[0m \u001b[1m[1:chain:RunnableSequence > 3:chain:image_model] Entering Chain run with input:\n",
      "\u001b[0m{\n",
      "  \"image_path\": \"diode_capacitor.png\",\n",
      "  \"prompt\": \"\\n   Given the image which contains a circuit schematic drawing, provide the following information:\\n   - A count of how many components are in the image\\n   - A list of wires present on this schematic drawing, including start and end position on the image (you may approaximate using pixel locations)\\n   - A list of components present on this schematic drawing, including their name, position on the image, and orientation (you may approaximate using pixel locations)\\n   - A list of connections made by the components, you must make sure all the referneces stays consistent throught your answer!\\n   Please just reply ONLY in JSON output and nothing else!\\n   \",\n",
      "  \"image\": \"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\"\n",
      "}\n",
      "\u001b[32;1m\u001b[1;3m[llm/start]\u001b[0m \u001b[1m[1:chain:RunnableSequence > 3:chain:image_model > 4:llm:ChatOpenAI] Entering LLM run with input:\n",
      "\u001b[0m{\n",
      "  \"prompts\": [\n",
      "    \"Human: [{'type': 'text', 'text': '\\\\n   Given the image which contains a circuit schematic drawing, provide the following information:\\\\n   - A count of how many components are in the image\\\\n   - A list of wires present on this schematic drawing, including start and end position on the image (you may approaximate using pixel locations)\\\\n   - A list of components present on this schematic drawing, including their name, position on the image, and orientation (you may approaximate using pixel locations)\\\\n   - A list of connections made by the components, you must make sure all the referneces stays consistent throught your answer!\\\\n   Please just reply ONLY in JSON output and nothing else!\\\\n   '}, {'type': 'text', 'text': 'The output should be formatted as a JSON instance that conforms to the JSON schema below.\\\\n\\\\nAs an example, for the schema {\\\"properties\\\": {\\\"foo\\\": {\\\"title\\\": \\\"Foo\\\", \\\"description\\\": \\\"a list of strings\\\", \\\"type\\\": \\\"array\\\", \\\"items\\\": {\\\"type\\\": \\\"string\\\"}}}, \\\"required\\\": [\\\"foo\\\"]}\\\\nthe object {\\\"foo\\\": [\\\"bar\\\", \\\"baz\\\"]} is a well-formatted instance of the schema. The object {\\\"properties\\\": {\\\"foo\\\": [\\\"bar\\\", \\\"baz\\\"]}} is not well-formatted.\\\\n\\\\nHere is the output schema:\\\\n```\\\\n{\\\"description\\\": \\\"Information that describes the schematics\\\", \\\"properties\\\": {\\\"detected_wires\\\": {\\\"title\\\": \\\"Detected Wires\\\", \\\"description\\\": \\\"list of dictionary containing beginning and end coordinates of the wire\\\", \\\"type\\\": \\\"array\\\", \\\"items\\\": {\\\"$ref\\\": \\\"#/definitions/Wire\\\"}}, \\\"detected_components\\\": {\\\"title\\\": \\\"Detected Components\\\", \\\"description\\\": \\\"list of dictionary containing the name,XY coordinates, angle and reference for a circuit component\\\", \\\"type\\\": \\\"array\\\", \\\"items\\\": {\\\"$ref\\\": \\\"#/definitions/Component\\\"}}, \\\"component_connections\\\": {\\\"title\\\": \\\"Component Connections\\\", \\\"description\\\": \\\"list of discitonaty containing the connections from one pin of a reference to the pin of another reference\\\", \\\"type\\\": \\\"array\\\", \\\"items\\\": {\\\"$ref\\\": \\\"#/definitions/Connections\\\"}}}, \\\"required\\\": [\\\"detected_wires\\\", \\\"detected_components\\\", \\\"component_connections\\\"], \\\"definitions\\\": {\\\"Wire\\\": {\\\"title\\\": \\\"Wire\\\", \\\"type\\\": \\\"object\\\", \\\"properties\\\": {\\\"x\\\": {\\\"title\\\": \\\"X\\\", \\\"type\\\": \\\"number\\\"}, \\\"y\\\": {\\\"title\\\": \\\"Y\\\", \\\"type\\\": \\\"number\\\"}, \\\"end_x\\\": {\\\"title\\\": \\\"End X\\\", \\\"type\\\": \\\"number\\\"}, \\\"end_y\\\": {\\\"title\\\": \\\"End Y\\\", \\\"type\\\": \\\"number\\\"}}, \\\"required\\\": [\\\"x\\\", \\\"y\\\", \\\"end_x\\\", \\\"end_y\\\"]}, \\\"Component\\\": {\\\"title\\\": \\\"Component\\\", \\\"type\\\": \\\"object\\\", \\\"properties\\\": {\\\"lib_id\\\": {\\\"title\\\": \\\"Lib Id\\\", \\\"type\\\": \\\"string\\\"}, \\\"x\\\": {\\\"title\\\": \\\"X\\\", \\\"type\\\": \\\"number\\\"}, \\\"y\\\": {\\\"title\\\": \\\"Y\\\", \\\"type\\\": \\\"number\\\"}, \\\"angle\\\": {\\\"title\\\": \\\"Angle\\\", \\\"type\\\": \\\"number\\\"}, \\\"reference\\\": {\\\"title\\\": \\\"Reference\\\", \\\"type\\\": \\\"string\\\"}, \\\"value\\\": {\\\"title\\\": \\\"Value\\\", \\\"type\\\": \\\"string\\\"}}, \\\"required\\\": [\\\"lib_id\\\", \\\"x\\\", \\\"y\\\", \\\"angle\\\", \\\"reference\\\", \\\"value\\\"]}, \\\"Connections\\\": {\\\"title\\\": \\\"Connections\\\", \\\"type\\\": \\\"object\\\", \\\"properties\\\": {\\\"componentA_reference\\\": {\\\"title\\\": \\\"Componenta Reference\\\", \\\"type\\\": \\\"string\\\"}, \\\"componentA_pin\\\": {\\\"title\\\": \\\"Componenta Pin\\\", \\\"type\\\": \\\"integer\\\"}, \\\"componentB_reference\\\": {\\\"title\\\": \\\"Componentb Reference\\\", \\\"type\\\": \\\"string\\\"}, \\\"componentB_pin\\\": {\\\"title\\\": \\\"Componentb Pin\\\", \\\"type\\\": \\\"integer\\\"}}, \\\"required\\\": [\\\"componentA_reference\\\", \\\"componentA_pin\\\", \\\"componentB_reference\\\", \\\"componentB_pin\\\"]}}}\\\\n```'}, {'type': 'image_url', 'image_url': {'url': 'data:image/png;base64,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'}}]\"\n",
      "  ]\n",
      "}\n",
      "\u001b[36;1m\u001b[1;3m[llm/end]\u001b[0m \u001b[1m[1:chain:RunnableSequence > 3:chain:image_model > 4:llm:ChatOpenAI] [13.71s] Exiting LLM run with output:\n",
      "\u001b[0m{\n",
      "  \"generations\": [\n",
      "    [\n",
      "      {\n",
      "        \"text\": \"```json\\n{\\n  \\\"detected_wires\\\": [\\n    {\\n      \\\"x\\\": 50,\\n      \\\"y\\\": 40,\\n      \\\"end_x\\\": 150,\\n      \\\"end_y\\\": 40\\n    },\\n    {\\n      \\\"x\\\": 150,\\n      \\\"y\\\": 40,\\n      \\\"end_x\\\": 250,\\n      \\\"end_y\\\": 40\\n    },\\n    {\\n      \\\"x\\\": 250,\\n      \\\"y\\\": 40,\\n      \\\"end_x\\\": 350,\\n      \\\"end_y\\\": 40\\n    },\\n    {\\n      \\\"x\\\": 350,\\n      \\\"y\\\": 40,\\n      \\\"end_x\\\": 350,\\n      \\\"end_y\\\": 90\\n    },\\n    {\\n      \\\"x\\\": 350,\\n      \\\"y\\\": 90,\\n      \\\"end_x\\\": 50,\\n      \\\"end_y\\\": 90\\n    },\\n    {\\n      \\\"x\\\": 50,\\n      \\\"y\\\": 90,\\n      \\\"end_x\\\": 50,\\n      \\\"end_y\\\": 40\\n    }\\n  ],\\n  \\\"detected_components\\\": [\\n    {\\n      \\\"lib_id\\\": \\\"LED\\\",\\n      \\\"x\\\": 100,\\n      \\\"y\\\": 40,\\n      \\\"angle\\\": 0,\\n      \\\"reference\\\": \\\"D1\\\",\\n      \\\"value\\\": \\\"LED\\\"\\n    },\\n    {\\n      \\\"lib_id\\\": \\\"C_Small\\\",\\n      \\\"x\\\": 300,\\n      \\\"y\\\": 40,\\n      \\\"angle\\\": 90,\\n      \\\"reference\\\": \\\"C1\\\",\\n      \\\"value\\\": \\\"C_Small\\\"\\n    }\\n  ],\\n  \\\"component_connections\\\": [\\n    {\\n      \\\"componentA_reference\\\": \\\"D1\\\",\\n      \\\"componentA_pin\\\": 1,\\n      \\\"componentB_reference\\\": \\\"C1\\\",\\n      \\\"componentB_pin\\\": 1\\n    },\\n    {\\n      \\\"componentA_reference\\\": \\\"D1\\\",\\n      \\\"componentA_pin\\\": 2,\\n      \\\"componentB_reference\\\": \\\"C1\\\",\\n      \\\"componentB_pin\\\": 2\\n    }\\n  ]\\n}\\n```\",\n",
      "        \"generation_info\": {\n",
      "          \"finish_reason\": \"stop\",\n",
      "          \"logprobs\": null\n",
      "        },\n",
      "        \"type\": \"ChatGeneration\",\n",
      "        \"message\": {\n",
      "          \"lc\": 1,\n",
      "          \"type\": \"constructor\",\n",
      "          \"id\": [\n",
      "            \"langchain\",\n",
      "            \"schema\",\n",
      "            \"messages\",\n",
      "            \"AIMessage\"\n",
      "          ],\n",
      "          \"kwargs\": {\n",
      "            \"content\": \"```json\\n{\\n  \\\"detected_wires\\\": [\\n    {\\n      \\\"x\\\": 50,\\n      \\\"y\\\": 40,\\n      \\\"end_x\\\": 150,\\n      \\\"end_y\\\": 40\\n    },\\n    {\\n      \\\"x\\\": 150,\\n      \\\"y\\\": 40,\\n      \\\"end_x\\\": 250,\\n      \\\"end_y\\\": 40\\n    },\\n    {\\n      \\\"x\\\": 250,\\n      \\\"y\\\": 40,\\n      \\\"end_x\\\": 350,\\n      \\\"end_y\\\": 40\\n    },\\n    {\\n      \\\"x\\\": 350,\\n      \\\"y\\\": 40,\\n      \\\"end_x\\\": 350,\\n      \\\"end_y\\\": 90\\n    },\\n    {\\n      \\\"x\\\": 350,\\n      \\\"y\\\": 90,\\n      \\\"end_x\\\": 50,\\n      \\\"end_y\\\": 90\\n    },\\n    {\\n      \\\"x\\\": 50,\\n      \\\"y\\\": 90,\\n      \\\"end_x\\\": 50,\\n      \\\"end_y\\\": 40\\n    }\\n  ],\\n  \\\"detected_components\\\": [\\n    {\\n      \\\"lib_id\\\": \\\"LED\\\",\\n      \\\"x\\\": 100,\\n      \\\"y\\\": 40,\\n      \\\"angle\\\": 0,\\n      \\\"reference\\\": \\\"D1\\\",\\n      \\\"value\\\": \\\"LED\\\"\\n    },\\n    {\\n      \\\"lib_id\\\": \\\"C_Small\\\",\\n      \\\"x\\\": 300,\\n      \\\"y\\\": 40,\\n      \\\"angle\\\": 90,\\n      \\\"reference\\\": \\\"C1\\\",\\n      \\\"value\\\": \\\"C_Small\\\"\\n    }\\n  ],\\n  \\\"component_connections\\\": [\\n    {\\n      \\\"componentA_reference\\\": \\\"D1\\\",\\n      \\\"componentA_pin\\\": 1,\\n      \\\"componentB_reference\\\": \\\"C1\\\",\\n      \\\"componentB_pin\\\": 1\\n    },\\n    {\\n      \\\"componentA_reference\\\": \\\"D1\\\",\\n      \\\"componentA_pin\\\": 2,\\n      \\\"componentB_reference\\\": \\\"C1\\\",\\n      \\\"componentB_pin\\\": 2\\n    }\\n  ]\\n}\\n```\",\n",
      "            \"additional_kwargs\": {}\n",
      "          }\n",
      "        }\n",
      "      }\n",
      "    ]\n",
      "  ],\n",
      "  \"llm_output\": {\n",
      "    \"token_usage\": {\n",
      "      \"completion_tokens\": 421,\n",
      "      \"prompt_tokens\": 1066,\n",
      "      \"total_tokens\": 1487\n",
      "    },\n",
      "    \"model_name\": \"gpt-4-vision-preview\",\n",
      "    \"system_fingerprint\": null\n",
      "  },\n",
      "  \"run\": null\n",
      "}\n",
      "\u001b[36;1m\u001b[1;3m[chain/end]\u001b[0m \u001b[1m[1:chain:RunnableSequence > 3:chain:image_model] [13.88s] Exiting Chain run with output:\n",
      "\u001b[0m{\n",
      "  \"output\": \"```json\\n{\\n  \\\"detected_wires\\\": [\\n    {\\n      \\\"x\\\": 50,\\n      \\\"y\\\": 40,\\n      \\\"end_x\\\": 150,\\n      \\\"end_y\\\": 40\\n    },\\n    {\\n      \\\"x\\\": 150,\\n      \\\"y\\\": 40,\\n      \\\"end_x\\\": 250,\\n      \\\"end_y\\\": 40\\n    },\\n    {\\n      \\\"x\\\": 250,\\n      \\\"y\\\": 40,\\n      \\\"end_x\\\": 350,\\n      \\\"end_y\\\": 40\\n    },\\n    {\\n      \\\"x\\\": 350,\\n      \\\"y\\\": 40,\\n      \\\"end_x\\\": 350,\\n      \\\"end_y\\\": 90\\n    },\\n    {\\n      \\\"x\\\": 350,\\n      \\\"y\\\": 90,\\n      \\\"end_x\\\": 50,\\n      \\\"end_y\\\": 90\\n    },\\n    {\\n      \\\"x\\\": 50,\\n      \\\"y\\\": 90,\\n      \\\"end_x\\\": 50,\\n      \\\"end_y\\\": 40\\n    }\\n  ],\\n  \\\"detected_components\\\": [\\n    {\\n      \\\"lib_id\\\": \\\"LED\\\",\\n      \\\"x\\\": 100,\\n      \\\"y\\\": 40,\\n      \\\"angle\\\": 0,\\n      \\\"reference\\\": \\\"D1\\\",\\n      \\\"value\\\": \\\"LED\\\"\\n    },\\n    {\\n      \\\"lib_id\\\": \\\"C_Small\\\",\\n      \\\"x\\\": 300,\\n      \\\"y\\\": 40,\\n      \\\"angle\\\": 90,\\n      \\\"reference\\\": \\\"C1\\\",\\n      \\\"value\\\": \\\"C_Small\\\"\\n    }\\n  ],\\n  \\\"component_connections\\\": [\\n    {\\n      \\\"componentA_reference\\\": \\\"D1\\\",\\n      \\\"componentA_pin\\\": 1,\\n      \\\"componentB_reference\\\": \\\"C1\\\",\\n      \\\"componentB_pin\\\": 1\\n    },\\n    {\\n      \\\"componentA_reference\\\": \\\"D1\\\",\\n      \\\"componentA_pin\\\": 2,\\n      \\\"componentB_reference\\\": \\\"C1\\\",\\n      \\\"componentB_pin\\\": 2\\n    }\\n  ]\\n}\\n```\"\n",
      "}\n",
      "\u001b[32;1m\u001b[1;3m[chain/start]\u001b[0m \u001b[1m[1:chain:RunnableSequence > 5:parser:JsonOutputParser] Entering Parser run with input:\n",
      "\u001b[0m{\n",
      "  \"input\": \"```json\\n{\\n  \\\"detected_wires\\\": [\\n    {\\n      \\\"x\\\": 50,\\n      \\\"y\\\": 40,\\n      \\\"end_x\\\": 150,\\n      \\\"end_y\\\": 40\\n    },\\n    {\\n      \\\"x\\\": 150,\\n      \\\"y\\\": 40,\\n      \\\"end_x\\\": 250,\\n      \\\"end_y\\\": 40\\n    },\\n    {\\n      \\\"x\\\": 250,\\n      \\\"y\\\": 40,\\n      \\\"end_x\\\": 350,\\n      \\\"end_y\\\": 40\\n    },\\n    {\\n      \\\"x\\\": 350,\\n      \\\"y\\\": 40,\\n      \\\"end_x\\\": 350,\\n      \\\"end_y\\\": 90\\n    },\\n    {\\n      \\\"x\\\": 350,\\n      \\\"y\\\": 90,\\n      \\\"end_x\\\": 50,\\n      \\\"end_y\\\": 90\\n    },\\n    {\\n      \\\"x\\\": 50,\\n      \\\"y\\\": 90,\\n      \\\"end_x\\\": 50,\\n      \\\"end_y\\\": 40\\n    }\\n  ],\\n  \\\"detected_components\\\": [\\n    {\\n      \\\"lib_id\\\": \\\"LED\\\",\\n      \\\"x\\\": 100,\\n      \\\"y\\\": 40,\\n      \\\"angle\\\": 0,\\n      \\\"reference\\\": \\\"D1\\\",\\n      \\\"value\\\": \\\"LED\\\"\\n    },\\n    {\\n      \\\"lib_id\\\": \\\"C_Small\\\",\\n      \\\"x\\\": 300,\\n      \\\"y\\\": 40,\\n      \\\"angle\\\": 90,\\n      \\\"reference\\\": \\\"C1\\\",\\n      \\\"value\\\": \\\"C_Small\\\"\\n    }\\n  ],\\n  \\\"component_connections\\\": [\\n    {\\n      \\\"componentA_reference\\\": \\\"D1\\\",\\n      \\\"componentA_pin\\\": 1,\\n      \\\"componentB_reference\\\": \\\"C1\\\",\\n      \\\"componentB_pin\\\": 1\\n    },\\n    {\\n      \\\"componentA_reference\\\": \\\"D1\\\",\\n      \\\"componentA_pin\\\": 2,\\n      \\\"componentB_reference\\\": \\\"C1\\\",\\n      \\\"componentB_pin\\\": 2\\n    }\\n  ]\\n}\\n```\"\n",
      "}\n",
      "\u001b[36;1m\u001b[1;3m[chain/end]\u001b[0m \u001b[1m[1:chain:RunnableSequence > 5:parser:JsonOutputParser] [1ms] Exiting Parser run with output:\n",
      "\u001b[0m{\n",
      "  \"detected_wires\": [\n",
      "    {\n",
      "      \"x\": 50,\n",
      "      \"y\": 40,\n",
      "      \"end_x\": 150,\n",
      "      \"end_y\": 40\n",
      "    },\n",
      "    {\n",
      "      \"x\": 150,\n",
      "      \"y\": 40,\n",
      "      \"end_x\": 250,\n",
      "      \"end_y\": 40\n",
      "    },\n",
      "    {\n",
      "      \"x\": 250,\n",
      "      \"y\": 40,\n",
      "      \"end_x\": 350,\n",
      "      \"end_y\": 40\n",
      "    },\n",
      "    {\n",
      "      \"x\": 350,\n",
      "      \"y\": 40,\n",
      "      \"end_x\": 350,\n",
      "      \"end_y\": 90\n",
      "    },\n",
      "    {\n",
      "      \"x\": 350,\n",
      "      \"y\": 90,\n",
      "      \"end_x\": 50,\n",
      "      \"end_y\": 90\n",
      "    },\n",
      "    {\n",
      "      \"x\": 50,\n",
      "      \"y\": 90,\n",
      "      \"end_x\": 50,\n",
      "      \"end_y\": 40\n",
      "    }\n",
      "  ],\n",
      "  \"detected_components\": [\n",
      "    {\n",
      "      \"lib_id\": \"LED\",\n",
      "      \"x\": 100,\n",
      "      \"y\": 40,\n",
      "      \"angle\": 0,\n",
      "      \"reference\": \"D1\",\n",
      "      \"value\": \"LED\"\n",
      "    },\n",
      "    {\n",
      "      \"lib_id\": \"C_Small\",\n",
      "      \"x\": 300,\n",
      "      \"y\": 40,\n",
      "      \"angle\": 90,\n",
      "      \"reference\": \"C1\",\n",
      "      \"value\": \"C_Small\"\n",
      "    }\n",
      "  ],\n",
      "  \"component_connections\": [\n",
      "    {\n",
      "      \"componentA_reference\": \"D1\",\n",
      "      \"componentA_pin\": 1,\n",
      "      \"componentB_reference\": \"C1\",\n",
      "      \"componentB_pin\": 1\n",
      "    },\n",
      "    {\n",
      "      \"componentA_reference\": \"D1\",\n",
      "      \"componentA_pin\": 2,\n",
      "      \"componentB_reference\": \"C1\",\n",
      "      \"componentB_pin\": 2\n",
      "    }\n",
      "  ]\n",
      "}\n",
      "\u001b[36;1m\u001b[1;3m[chain/end]\u001b[0m \u001b[1m[1:chain:RunnableSequence] [13.88s] Exiting Chain run with output:\n",
      "\u001b[0m{\n",
      "  \"detected_wires\": [\n",
      "    {\n",
      "      \"x\": 50,\n",
      "      \"y\": 40,\n",
      "      \"end_x\": 150,\n",
      "      \"end_y\": 40\n",
      "    },\n",
      "    {\n",
      "      \"x\": 150,\n",
      "      \"y\": 40,\n",
      "      \"end_x\": 250,\n",
      "      \"end_y\": 40\n",
      "    },\n",
      "    {\n",
      "      \"x\": 250,\n",
      "      \"y\": 40,\n",
      "      \"end_x\": 350,\n",
      "      \"end_y\": 40\n",
      "    },\n",
      "    {\n",
      "      \"x\": 350,\n",
      "      \"y\": 40,\n",
      "      \"end_x\": 350,\n",
      "      \"end_y\": 90\n",
      "    },\n",
      "    {\n",
      "      \"x\": 350,\n",
      "      \"y\": 90,\n",
      "      \"end_x\": 50,\n",
      "      \"end_y\": 90\n",
      "    },\n",
      "    {\n",
      "      \"x\": 50,\n",
      "      \"y\": 90,\n",
      "      \"end_x\": 50,\n",
      "      \"end_y\": 40\n",
      "    }\n",
      "  ],\n",
      "  \"detected_components\": [\n",
      "    {\n",
      "      \"lib_id\": \"LED\",\n",
      "      \"x\": 100,\n",
      "      \"y\": 40,\n",
      "      \"angle\": 0,\n",
      "      \"reference\": \"D1\",\n",
      "      \"value\": \"LED\"\n",
      "    },\n",
      "    {\n",
      "      \"lib_id\": \"C_Small\",\n",
      "      \"x\": 300,\n",
      "      \"y\": 40,\n",
      "      \"angle\": 90,\n",
      "      \"reference\": \"C1\",\n",
      "      \"value\": \"C_Small\"\n",
      "    }\n",
      "  ],\n",
      "  \"component_connections\": [\n",
      "    {\n",
      "      \"componentA_reference\": \"D1\",\n",
      "      \"componentA_pin\": 1,\n",
      "      \"componentB_reference\": \"C1\",\n",
      "      \"componentB_pin\": 1\n",
      "    },\n",
      "    {\n",
      "      \"componentA_reference\": \"D1\",\n",
      "      \"componentA_pin\": 2,\n",
      "      \"componentB_reference\": \"C1\",\n",
      "      \"componentB_pin\": 2\n",
      "    }\n",
      "  ]\n",
      "}\n"
     ]
    }
   ],
   "source": [
    "from LLMToSchematics import image_to_schematics\n",
    "\n",
    "result= image_to_schematics(\"diode_capacitor.png\")"
   ]
  },
  {
   "cell_type": "markdown",
   "metadata": {},
   "source": [
    "# GPT Output processing"
   ]
  },
  {
   "cell_type": "code",
   "execution_count": 71,
   "metadata": {},
   "outputs": [],
   "source": [
    "# save the result\n",
    "\n",
    "# save the result dictionary to a file\n",
    "import json\n",
    "with open('result.json', 'w') as f:\n",
    "    json.dump(result, f, indent=4)\n",
    "\n",
    "\n"
   ]
  },
  {
   "cell_type": "code",
   "execution_count": 1,
   "metadata": {},
   "outputs": [],
   "source": [
    "# load the dictionary from the file\n",
    "import json\n",
    "with open('result.json', 'r') as f:\n",
    "    result = json.load(f)"
   ]
  },
  {
   "cell_type": "code",
   "execution_count": 2,
   "metadata": {},
   "outputs": [
    {
     "name": "stdout",
     "output_type": "stream",
     "text": [
      "LED\n",
      "C_Small\n"
     ]
    }
   ],
   "source": [
    "# iterate through the list of dicts results and remove empty dicts\n",
    "for i in range(len(result['detected_components'])):\n",
    "    if not result['detected_components'][i]:\n",
    "        del result['detected_components'][i]\n",
    "for component in result[\"detected_components\"]:\n",
    "    print(component[\"lib_id\"])"
   ]
  },
  {
   "cell_type": "code",
   "execution_count": 3,
   "metadata": {},
   "outputs": [
    {
     "name": "stdout",
     "output_type": "stream",
     "text": [
      "LED 100 40 0 D1\n",
      "C_Small 300 40 90 C1\n"
     ]
    }
   ],
   "source": [
    "import kicad_utils\n",
    "kicad_schematic_path = \"testProject/testProject.kicad_sch\"\n",
    "list_of_component_dict =[]\n",
    "\n",
    "\n",
    "for symbol in result[\"detected_components\"]:\n",
    "    print(symbol[\"lib_id\"], symbol[\"x\"], symbol[\"y\"], symbol[\"angle\"], symbol[\"reference\"])\n",
    "    \n",
    "    # Add the component to the list\n",
    "    list_of_component_dict.append({\"lib_id\": kicad_utils.match_libId(symbol[\"lib_id\"]), \"x\": symbol[\"x\"], \"y\": symbol[\"y\"], \"angle\": symbol[\"angle\"], \"reference_name\": symbol[\"reference\"]})\n",
    "\n",
    "\n",
    "    "
   ]
  },
  {
   "cell_type": "code",
   "execution_count": 4,
   "metadata": {},
   "outputs": [
    {
     "name": "stdout",
     "output_type": "stream",
     "text": [
      "Modified file testProject/testProject.kicad_sch\n"
     ]
    },
    {
     "data": {
      "text/plain": [
       "'(kicad_sch\\n\\t(version 20231120)\\n\\t(generator \"eeschema\")\\n\\t(generator_version \"8.0\")\\n\\t(uuid \"dea647a7-e0d8-45e4-9bce-23c7e387cf2b\")\\n\\t(paper \"A4\")\\n\\t(lib_symbols\\n (symbol \"Device:C\"\\n\\t\\t(pin_numbers hide)\\n\\t\\t(pin_names\\n\\t\\t\\t(offset 0.254)\\n\\t\\t)\\n\\t\\t(exclude_from_sim no)\\n\\t\\t(in_bom yes)\\n\\t\\t(on_board yes)\\n\\t\\t(property \"Reference\" \"C\"\\n\\t\\t\\t(at 0.635 2.54 0)\\n\\t\\t\\t(effects\\n\\t\\t\\t\\t(font\\n\\t\\t\\t\\t\\t(size 1.27 1.27)\\n\\t\\t\\t\\t)\\n\\t\\t\\t\\t(justify left)\\n\\t\\t\\t)\\n\\t\\t)\\n\\t\\t(property \"Value\" \"C\"\\n\\t\\t\\t(at 0.635 -2.54 0)\\n\\t\\t\\t(effects\\n\\t\\t\\t\\t(font\\n\\t\\t\\t\\t\\t(size 1.27 1.27)\\n\\t\\t\\t\\t)\\n\\t\\t\\t\\t(justify left)\\n\\t\\t\\t)\\n\\t\\t)\\n\\t\\t(property \"Footprint\" \"\"\\n\\t\\t\\t(at 0.9652 -3.81 0)\\n\\t\\t\\t(effects\\n\\t\\t\\t\\t(font\\n\\t\\t\\t\\t\\t(size 1.27 1.27)\\n\\t\\t\\t\\t)\\n\\t\\t\\t\\t(hide yes)\\n\\t\\t\\t)\\n\\t\\t)\\n\\t\\t(property \"Datasheet\" \"~\"\\n\\t\\t\\t(at 0 0 0)\\n\\t\\t\\t(effects\\n\\t\\t\\t\\t(font\\n\\t\\t\\t\\t\\t(size 1.27 1.27)\\n\\t\\t\\t\\t)\\n\\t\\t\\t\\t(hide yes)\\n\\t\\t\\t)\\n\\t\\t)\\n\\t\\t(property \"Description\" \"Unpolarized capacitor\"\\n\\t\\t\\t(at 0 0 0)\\n\\t\\t\\t(effects\\n\\t\\t\\t\\t(font\\n\\t\\t\\t\\t\\t(size 1.27 1.27)\\n\\t\\t\\t\\t)\\n\\t\\t\\t\\t(hide yes)\\n\\t\\t\\t)\\n\\t\\t)\\n\\t\\t(property \"ki_keywords\" \"cap capacitor\"\\n\\t\\t\\t(at 0 0 0)\\n\\t\\t\\t(effects\\n\\t\\t\\t\\t(font\\n\\t\\t\\t\\t\\t(size 1.27 1.27)\\n\\t\\t\\t\\t)\\n\\t\\t\\t\\t(hide yes)\\n\\t\\t\\t)\\n\\t\\t)\\n\\t\\t(property \"ki_fp_filters\" \"C_*\"\\n\\t\\t\\t(at 0 0 0)\\n\\t\\t\\t(effects\\n\\t\\t\\t\\t(font\\n\\t\\t\\t\\t\\t(size 1.27 1.27)\\n\\t\\t\\t\\t)\\n\\t\\t\\t\\t(hide yes)\\n\\t\\t\\t)\\n\\t\\t)\\n\\t\\t(symbol \"C_0_1\"\\n\\t\\t\\t(polyline\\n\\t\\t\\t\\t(pts\\n\\t\\t\\t\\t\\t(xy -2.032 -0.762) (xy 2.032 -0.762)\\n\\t\\t\\t\\t)\\n\\t\\t\\t\\t(stroke\\n\\t\\t\\t\\t\\t(width 0.508)\\n\\t\\t\\t\\t\\t(type default)\\n\\t\\t\\t\\t)\\n\\t\\t\\t\\t(fill\\n\\t\\t\\t\\t\\t(type none)\\n\\t\\t\\t\\t)\\n\\t\\t\\t)\\n\\t\\t\\t(polyline\\n\\t\\t\\t\\t(pts\\n\\t\\t\\t\\t\\t(xy -2.032 0.762) (xy 2.032 0.762)\\n\\t\\t\\t\\t)\\n\\t\\t\\t\\t(stroke\\n\\t\\t\\t\\t\\t(width 0.508)\\n\\t\\t\\t\\t\\t(type default)\\n\\t\\t\\t\\t)\\n\\t\\t\\t\\t(fill\\n\\t\\t\\t\\t\\t(type none)\\n\\t\\t\\t\\t)\\n\\t\\t\\t)\\n\\t\\t)\\n\\t\\t(symbol \"C_1_1\"\\n\\t\\t\\t(pin passive line\\n\\t\\t\\t\\t(at 0 3.81 270)\\n\\t\\t\\t\\t(length 2.794)\\n\\t\\t\\t\\t(name \"~\"\\n\\t\\t\\t\\t\\t(effects\\n\\t\\t\\t\\t\\t\\t(font\\n\\t\\t\\t\\t\\t\\t\\t(size 1.27 1.27)\\n\\t\\t\\t\\t\\t\\t)\\n\\t\\t\\t\\t\\t)\\n\\t\\t\\t\\t)\\n\\t\\t\\t\\t(number \"1\"\\n\\t\\t\\t\\t\\t(effects\\n\\t\\t\\t\\t\\t\\t(font\\n\\t\\t\\t\\t\\t\\t\\t(size 1.27 1.27)\\n\\t\\t\\t\\t\\t\\t)\\n\\t\\t\\t\\t\\t)\\n\\t\\t\\t\\t)\\n\\t\\t\\t)\\n\\t\\t\\t(pin passive line\\n\\t\\t\\t\\t(at 0 -3.81 90)\\n\\t\\t\\t\\t(length 2.794)\\n\\t\\t\\t\\t(name \"~\"\\n\\t\\t\\t\\t\\t(effects\\n\\t\\t\\t\\t\\t\\t(font\\n\\t\\t\\t\\t\\t\\t\\t(size 1.27 1.27)\\n\\t\\t\\t\\t\\t\\t)\\n\\t\\t\\t\\t\\t)\\n\\t\\t\\t\\t)\\n\\t\\t\\t\\t(number \"2\"\\n\\t\\t\\t\\t\\t(effects\\n\\t\\t\\t\\t\\t\\t(font\\n\\t\\t\\t\\t\\t\\t\\t(size 1.27 1.27)\\n\\t\\t\\t\\t\\t\\t)\\n\\t\\t\\t\\t\\t)\\n\\t\\t\\t\\t)\\n\\t\\t\\t)\\n\\t\\t)\\n\\t) \\n \\n (symbol \"Device:LED\"\\n\\t\\t(pin_numbers hide)\\n\\t\\t(pin_names\\n\\t\\t\\t(offset 1.016) hide)\\n\\t\\t(exclude_from_sim no)\\n\\t\\t(in_bom yes)\\n\\t\\t(on_board yes)\\n\\t\\t(property \"Reference\" \"D\"\\n\\t\\t\\t(at 0 2.54 0)\\n\\t\\t\\t(effects\\n\\t\\t\\t\\t(font\\n\\t\\t\\t\\t\\t(size 1.27 1.27)\\n\\t\\t\\t\\t)\\n\\t\\t\\t)\\n\\t\\t)\\n\\t\\t(property \"Value\" \"LED\"\\n\\t\\t\\t(at 0 -2.54 0)\\n\\t\\t\\t(effects\\n\\t\\t\\t\\t(font\\n\\t\\t\\t\\t\\t(size 1.27 1.27)\\n\\t\\t\\t\\t)\\n\\t\\t\\t)\\n\\t\\t)\\n\\t\\t(property \"Footprint\" \"\"\\n\\t\\t\\t(at 0 0 0)\\n\\t\\t\\t(effects\\n\\t\\t\\t\\t(font\\n\\t\\t\\t\\t\\t(size 1.27 1.27)\\n\\t\\t\\t\\t)\\n\\t\\t\\t\\t(hide yes)\\n\\t\\t\\t)\\n\\t\\t)\\n\\t\\t(property \"Datasheet\" \"~\"\\n\\t\\t\\t(at 0 0 0)\\n\\t\\t\\t(effects\\n\\t\\t\\t\\t(font\\n\\t\\t\\t\\t\\t(size 1.27 1.27)\\n\\t\\t\\t\\t)\\n\\t\\t\\t\\t(hide yes)\\n\\t\\t\\t)\\n\\t\\t)\\n\\t\\t(property \"Description\" \"Light emitting diode\"\\n\\t\\t\\t(at 0 0 0)\\n\\t\\t\\t(effects\\n\\t\\t\\t\\t(font\\n\\t\\t\\t\\t\\t(size 1.27 1.27)\\n\\t\\t\\t\\t)\\n\\t\\t\\t\\t(hide yes)\\n\\t\\t\\t)\\n\\t\\t)\\n\\t\\t(property \"ki_keywords\" \"LED diode\"\\n\\t\\t\\t(at 0 0 0)\\n\\t\\t\\t(effects\\n\\t\\t\\t\\t(font\\n\\t\\t\\t\\t\\t(size 1.27 1.27)\\n\\t\\t\\t\\t)\\n\\t\\t\\t\\t(hide yes)\\n\\t\\t\\t)\\n\\t\\t)\\n\\t\\t(property \"ki_fp_filters\" \"LED* LED_SMD:* LED_THT:*\"\\n\\t\\t\\t(at 0 0 0)\\n\\t\\t\\t(effects\\n\\t\\t\\t\\t(font\\n\\t\\t\\t\\t\\t(size 1.27 1.27)\\n\\t\\t\\t\\t)\\n\\t\\t\\t\\t(hide yes)\\n\\t\\t\\t)\\n\\t\\t)\\n\\t\\t(symbol \"LED_0_1\"\\n\\t\\t\\t(polyline\\n\\t\\t\\t\\t(pts\\n\\t\\t\\t\\t\\t(xy -1.27 -1.27) (xy -1.27 1.27)\\n\\t\\t\\t\\t)\\n\\t\\t\\t\\t(stroke\\n\\t\\t\\t\\t\\t(width 0.254)\\n\\t\\t\\t\\t\\t(type default)\\n\\t\\t\\t\\t)\\n\\t\\t\\t\\t(fill\\n\\t\\t\\t\\t\\t(type none)\\n\\t\\t\\t\\t)\\n\\t\\t\\t)\\n\\t\\t\\t(polyline\\n\\t\\t\\t\\t(pts\\n\\t\\t\\t\\t\\t(xy -1.27 0) (xy 1.27 0)\\n\\t\\t\\t\\t)\\n\\t\\t\\t\\t(stroke\\n\\t\\t\\t\\t\\t(width 0)\\n\\t\\t\\t\\t\\t(type default)\\n\\t\\t\\t\\t)\\n\\t\\t\\t\\t(fill\\n\\t\\t\\t\\t\\t(type none)\\n\\t\\t\\t\\t)\\n\\t\\t\\t)\\n\\t\\t\\t(polyline\\n\\t\\t\\t\\t(pts\\n\\t\\t\\t\\t\\t(xy 1.27 -1.27) (xy 1.27 1.27) (xy -1.27 0) (xy 1.27 -1.27)\\n\\t\\t\\t\\t)\\n\\t\\t\\t\\t(stroke\\n\\t\\t\\t\\t\\t(width 0.254)\\n\\t\\t\\t\\t\\t(type default)\\n\\t\\t\\t\\t)\\n\\t\\t\\t\\t(fill\\n\\t\\t\\t\\t\\t(type none)\\n\\t\\t\\t\\t)\\n\\t\\t\\t)\\n\\t\\t\\t(polyline\\n\\t\\t\\t\\t(pts\\n\\t\\t\\t\\t\\t(xy -3.048 -0.762) (xy -4.572 -2.286) (xy -3.81 -2.286) (xy -4.572 -2.286) (xy -4.572 -1.524)\\n\\t\\t\\t\\t)\\n\\t\\t\\t\\t(stroke\\n\\t\\t\\t\\t\\t(width 0)\\n\\t\\t\\t\\t\\t(type default)\\n\\t\\t\\t\\t)\\n\\t\\t\\t\\t(fill\\n\\t\\t\\t\\t\\t(type none)\\n\\t\\t\\t\\t)\\n\\t\\t\\t)\\n\\t\\t\\t(polyline\\n\\t\\t\\t\\t(pts\\n\\t\\t\\t\\t\\t(xy -1.778 -0.762) (xy -3.302 -2.286) (xy -2.54 -2.286) (xy -3.302 -2.286) (xy -3.302 -1.524)\\n\\t\\t\\t\\t)\\n\\t\\t\\t\\t(stroke\\n\\t\\t\\t\\t\\t(width 0)\\n\\t\\t\\t\\t\\t(type default)\\n\\t\\t\\t\\t)\\n\\t\\t\\t\\t(fill\\n\\t\\t\\t\\t\\t(type none)\\n\\t\\t\\t\\t)\\n\\t\\t\\t)\\n\\t\\t)\\n\\t\\t(symbol \"LED_1_1\"\\n\\t\\t\\t(pin passive line\\n\\t\\t\\t\\t(at -3.81 0 0)\\n\\t\\t\\t\\t(length 2.54)\\n\\t\\t\\t\\t(name \"K\"\\n\\t\\t\\t\\t\\t(effects\\n\\t\\t\\t\\t\\t\\t(font\\n\\t\\t\\t\\t\\t\\t\\t(size 1.27 1.27)\\n\\t\\t\\t\\t\\t\\t)\\n\\t\\t\\t\\t\\t)\\n\\t\\t\\t\\t)\\n\\t\\t\\t\\t(number \"1\"\\n\\t\\t\\t\\t\\t(effects\\n\\t\\t\\t\\t\\t\\t(font\\n\\t\\t\\t\\t\\t\\t\\t(size 1.27 1.27)\\n\\t\\t\\t\\t\\t\\t)\\n\\t\\t\\t\\t\\t)\\n\\t\\t\\t\\t)\\n\\t\\t\\t)\\n\\t\\t\\t(pin passive line\\n\\t\\t\\t\\t(at 3.81 0 180)\\n\\t\\t\\t\\t(length 2.54)\\n\\t\\t\\t\\t(name \"A\"\\n\\t\\t\\t\\t\\t(effects\\n\\t\\t\\t\\t\\t\\t(font\\n\\t\\t\\t\\t\\t\\t\\t(size 1.27 1.27)\\n\\t\\t\\t\\t\\t\\t)\\n\\t\\t\\t\\t\\t)\\n\\t\\t\\t\\t)\\n\\t\\t\\t\\t(number \"2\"\\n\\t\\t\\t\\t\\t(effects\\n\\t\\t\\t\\t\\t\\t(font\\n\\t\\t\\t\\t\\t\\t\\t(size 1.27 1.27)\\n\\t\\t\\t\\t\\t\\t)\\n\\t\\t\\t\\t\\t)\\n\\t\\t\\t\\t)\\n\\t\\t\\t)\\n\\t\\t)\\n\\t) \\n )\\n\\n \\n(symbol\\n        (lib_id \"Device:C\")\\n        (at 300 40 90)\\n        (unit 1)\\n        (exclude_from_sim no)\\n        (in_bom yes)\\n        (on_board yes)\\n        (dnp no)\\n        (fields_autoplaced yes)\\n        (uuid \"af8b06a4-aaf5-494e-b37b-a1705c069e35\")\\n        (property \"Reference\" \"C1\"\\n            (at 300 40 0)\\n            (effects\\n                (font\\n                    (size 1.27 1.27)\\n                )\\n            )\\n        )\\n        (property \"Value\" \"\"\\n            (at 300 40 0)\\n            (effects\\n                (font\\n                    (size 1.27 1.27)\\n                )\\n            )\\n        )\\n        (property \"Footprint\" \"\"\\n            (at 300 40 0)\\n            (effects\\n                (font\\n                    (size 1.27 1.27)\\n                )\\n                (hide yes)\\n            )\\n        )\\n        (property \"Datasheet\" \"~\"\\n            (at 300 40 0)\\n            (effects\\n                (font\\n                    (size 1.27 1.27)\\n                )\\n                (hide yes)\\n            )\\n        )\\n        (property \"Description\" \"npolarized capacitor\"\\n            (at 300 40 0)\\n            (effects\\n                (font\\n                    (size 1.27 1.27)\\n                )\\n                (hide yes)\\n            )\\n        )\\n        (instances\\n            (project \"temp_dea647a7-e0d8-45e4-9bce-23c7e387cf2b\"\\n                (path \"/dea647a7-e0d8-45e4-9bce-23c7e387cf2b\"\\n                    (reference \"C1\")\\n                    (unit 1)\\n                )\\n            )\\n        )\\n    )    \\n \\n \\n \\n(symbol\\n        (lib_id \"Device:LED\")\\n        (at 100 40 0)\\n        (unit 1)\\n        (exclude_from_sim no)\\n        (in_bom yes)\\n        (on_board yes)\\n        (dnp no)\\n        (fields_autoplaced yes)\\n        (uuid \"3af05d33-155a-4f38-94e9-e137cd37324c\")\\n        (property \"Reference\" \"D1\"\\n            (at 100 40 0)\\n            (effects\\n                (font\\n                    (size 1.27 1.27)\\n                )\\n            )\\n        )\\n        (property \"Value\" \"ED\"\\n            (at 100 40 0)\\n            (effects\\n                (font\\n                    (size 1.27 1.27)\\n                )\\n            )\\n        )\\n        (property \"Footprint\" \"\"\\n            (at 100 40 0)\\n            (effects\\n                (font\\n                    (size 1.27 1.27)\\n                )\\n                (hide yes)\\n            )\\n        )\\n        (property \"Datasheet\" \"~\"\\n            (at 100 40 0)\\n            (effects\\n                (font\\n                    (size 1.27 1.27)\\n                )\\n                (hide yes)\\n            )\\n        )\\n        (property \"Description\" \"ight emitting diode\"\\n            (at 100 40 0)\\n            (effects\\n                (font\\n                    (size 1.27 1.27)\\n                )\\n                (hide yes)\\n            )\\n        )\\n        (instances\\n            (project \"temp_dea647a7-e0d8-45e4-9bce-23c7e387cf2b\"\\n                (path \"/dea647a7-e0d8-45e4-9bce-23c7e387cf2b\"\\n                    (reference \"D1\")\\n                    (unit 1)\\n                )\\n            )\\n        )\\n    )    \\n \\n \\t(sheet_instances\\n\\t\\t(path \"/\"\\n\\t\\t\\t(page \"1\")\\n\\t\\t)\\n\\t)\\n)'"
      ]
     },
     "execution_count": 4,
     "metadata": {},
     "output_type": "execute_result"
    }
   ],
   "source": [
    "kicad_utils.modify_kicad_sch_file(components = list_of_component_dict, file_path=kicad_schematic_path)"
   ]
  },
  {
   "cell_type": "code",
   "execution_count": 11,
   "metadata": {},
   "outputs": [
    {
     "name": "stdout",
     "output_type": "stream",
     "text": [
      "Modified file testProject/testProject.kicad_sch\n"
     ]
    },
    {
     "data": {
      "text/plain": [
       "'(kicad_sch\\n\\t(version 20231120)\\n\\t(generator \"eeschema\")\\n\\t(generator_version \"8.0\")\\n\\t(uuid \"dea647a7-e0d8-45e4-9bce-23c7e387cf2b\")\\n\\t(paper \"A4\")\\n\\t(lib_symbols\\n (symbol \"Device:C\"\\n\\t\\t(pin_numbers hide)\\n\\t\\t(pin_names\\n\\t\\t\\t(offset 0.254)\\n\\t\\t)\\n\\t\\t(exclude_from_sim no)\\n\\t\\t(in_bom yes)\\n\\t\\t(on_board yes)\\n\\t\\t(property \"Reference\" \"C\"\\n\\t\\t\\t(at 0.635 2.54 0)\\n\\t\\t\\t(effects\\n\\t\\t\\t\\t(font\\n\\t\\t\\t\\t\\t(size 1.27 1.27)\\n\\t\\t\\t\\t)\\n\\t\\t\\t\\t(justify left)\\n\\t\\t\\t)\\n\\t\\t)\\n\\t\\t(property \"Value\" \"C\"\\n\\t\\t\\t(at 0.635 -2.54 0)\\n\\t\\t\\t(effects\\n\\t\\t\\t\\t(font\\n\\t\\t\\t\\t\\t(size 1.27 1.27)\\n\\t\\t\\t\\t)\\n\\t\\t\\t\\t(justify left)\\n\\t\\t\\t)\\n\\t\\t)\\n\\t\\t(property \"Footprint\" \"\"\\n\\t\\t\\t(at 0.9652 -3.81 0)\\n\\t\\t\\t(effects\\n\\t\\t\\t\\t(font\\n\\t\\t\\t\\t\\t(size 1.27 1.27)\\n\\t\\t\\t\\t)\\n\\t\\t\\t\\t(hide yes)\\n\\t\\t\\t)\\n\\t\\t)\\n\\t\\t(property \"Datasheet\" \"~\"\\n\\t\\t\\t(at 0 0 0)\\n\\t\\t\\t(effects\\n\\t\\t\\t\\t(font\\n\\t\\t\\t\\t\\t(size 1.27 1.27)\\n\\t\\t\\t\\t)\\n\\t\\t\\t\\t(hide yes)\\n\\t\\t\\t)\\n\\t\\t)\\n\\t\\t(property \"Description\" \"Unpolarized capacitor\"\\n\\t\\t\\t(at 0 0 0)\\n\\t\\t\\t(effects\\n\\t\\t\\t\\t(font\\n\\t\\t\\t\\t\\t(size 1.27 1.27)\\n\\t\\t\\t\\t)\\n\\t\\t\\t\\t(hide yes)\\n\\t\\t\\t)\\n\\t\\t)\\n\\t\\t(property \"ki_keywords\" \"cap capacitor\"\\n\\t\\t\\t(at 0 0 0)\\n\\t\\t\\t(effects\\n\\t\\t\\t\\t(font\\n\\t\\t\\t\\t\\t(size 1.27 1.27)\\n\\t\\t\\t\\t)\\n\\t\\t\\t\\t(hide yes)\\n\\t\\t\\t)\\n\\t\\t)\\n\\t\\t(property \"ki_fp_filters\" \"C_*\"\\n\\t\\t\\t(at 0 0 0)\\n\\t\\t\\t(effects\\n\\t\\t\\t\\t(font\\n\\t\\t\\t\\t\\t(size 1.27 1.27)\\n\\t\\t\\t\\t)\\n\\t\\t\\t\\t(hide yes)\\n\\t\\t\\t)\\n\\t\\t)\\n\\t\\t(symbol \"C_0_1\"\\n\\t\\t\\t(polyline\\n\\t\\t\\t\\t(pts\\n\\t\\t\\t\\t\\t(xy -2.032 -0.762) (xy 2.032 -0.762)\\n\\t\\t\\t\\t)\\n\\t\\t\\t\\t(stroke\\n\\t\\t\\t\\t\\t(width 0.508)\\n\\t\\t\\t\\t\\t(type default)\\n\\t\\t\\t\\t)\\n\\t\\t\\t\\t(fill\\n\\t\\t\\t\\t\\t(type none)\\n\\t\\t\\t\\t)\\n\\t\\t\\t)\\n\\t\\t\\t(polyline\\n\\t\\t\\t\\t(pts\\n\\t\\t\\t\\t\\t(xy -2.032 0.762) (xy 2.032 0.762)\\n\\t\\t\\t\\t)\\n\\t\\t\\t\\t(stroke\\n\\t\\t\\t\\t\\t(width 0.508)\\n\\t\\t\\t\\t\\t(type default)\\n\\t\\t\\t\\t)\\n\\t\\t\\t\\t(fill\\n\\t\\t\\t\\t\\t(type none)\\n\\t\\t\\t\\t)\\n\\t\\t\\t)\\n\\t\\t)\\n\\t\\t(symbol \"C_1_1\"\\n\\t\\t\\t(pin passive line\\n\\t\\t\\t\\t(at 0 3.81 270)\\n\\t\\t\\t\\t(length 2.794)\\n\\t\\t\\t\\t(name \"~\"\\n\\t\\t\\t\\t\\t(effects\\n\\t\\t\\t\\t\\t\\t(font\\n\\t\\t\\t\\t\\t\\t\\t(size 1.27 1.27)\\n\\t\\t\\t\\t\\t\\t)\\n\\t\\t\\t\\t\\t)\\n\\t\\t\\t\\t)\\n\\t\\t\\t\\t(number \"1\"\\n\\t\\t\\t\\t\\t(effects\\n\\t\\t\\t\\t\\t\\t(font\\n\\t\\t\\t\\t\\t\\t\\t(size 1.27 1.27)\\n\\t\\t\\t\\t\\t\\t)\\n\\t\\t\\t\\t\\t)\\n\\t\\t\\t\\t)\\n\\t\\t\\t)\\n\\t\\t\\t(pin passive line\\n\\t\\t\\t\\t(at 0 -3.81 90)\\n\\t\\t\\t\\t(length 2.794)\\n\\t\\t\\t\\t(name \"~\"\\n\\t\\t\\t\\t\\t(effects\\n\\t\\t\\t\\t\\t\\t(font\\n\\t\\t\\t\\t\\t\\t\\t(size 1.27 1.27)\\n\\t\\t\\t\\t\\t\\t)\\n\\t\\t\\t\\t\\t)\\n\\t\\t\\t\\t)\\n\\t\\t\\t\\t(number \"2\"\\n\\t\\t\\t\\t\\t(effects\\n\\t\\t\\t\\t\\t\\t(font\\n\\t\\t\\t\\t\\t\\t\\t(size 1.27 1.27)\\n\\t\\t\\t\\t\\t\\t)\\n\\t\\t\\t\\t\\t)\\n\\t\\t\\t\\t)\\n\\t\\t\\t)\\n\\t\\t)\\n\\t) \\n \\n (symbol \"Device:R\"\\n\\t\\t(pin_numbers hide)\\n\\t\\t(pin_names\\n\\t\\t\\t(offset 0)\\n\\t\\t)\\n\\t\\t(exclude_from_sim no)\\n\\t\\t(in_bom yes)\\n\\t\\t(on_board yes)\\n\\t\\t(property \"Reference\" \"R\"\\n\\t\\t\\t(at 2.032 0 90)\\n\\t\\t\\t(effects\\n\\t\\t\\t\\t(font\\n\\t\\t\\t\\t\\t(size 1.27 1.27)\\n\\t\\t\\t\\t)\\n\\t\\t\\t)\\n\\t\\t)\\n\\t\\t(property \"Value\" \"R\"\\n\\t\\t\\t(at 0 0 90)\\n\\t\\t\\t(effects\\n\\t\\t\\t\\t(font\\n\\t\\t\\t\\t\\t(size 1.27 1.27)\\n\\t\\t\\t\\t)\\n\\t\\t\\t)\\n\\t\\t)\\n\\t\\t(property \"Footprint\" \"\"\\n\\t\\t\\t(at -1.778 0 90)\\n\\t\\t\\t(effects\\n\\t\\t\\t\\t(font\\n\\t\\t\\t\\t\\t(size 1.27 1.27)\\n\\t\\t\\t\\t)\\n\\t\\t\\t\\t(hide yes)\\n\\t\\t\\t)\\n\\t\\t)\\n\\t\\t(property \"Datasheet\" \"~\"\\n\\t\\t\\t(at 0 0 0)\\n\\t\\t\\t(effects\\n\\t\\t\\t\\t(font\\n\\t\\t\\t\\t\\t(size 1.27 1.27)\\n\\t\\t\\t\\t)\\n\\t\\t\\t\\t(hide yes)\\n\\t\\t\\t)\\n\\t\\t)\\n\\t\\t(property \"Description\" \"Resistor\"\\n\\t\\t\\t(at 0 0 0)\\n\\t\\t\\t(effects\\n\\t\\t\\t\\t(font\\n\\t\\t\\t\\t\\t(size 1.27 1.27)\\n\\t\\t\\t\\t)\\n\\t\\t\\t\\t(hide yes)\\n\\t\\t\\t)\\n\\t\\t)\\n\\t\\t(property \"ki_keywords\" \"R res resistor\"\\n\\t\\t\\t(at 0 0 0)\\n\\t\\t\\t(effects\\n\\t\\t\\t\\t(font\\n\\t\\t\\t\\t\\t(size 1.27 1.27)\\n\\t\\t\\t\\t)\\n\\t\\t\\t\\t(hide yes)\\n\\t\\t\\t)\\n\\t\\t)\\n\\t\\t(property \"ki_fp_filters\" \"R_*\"\\n\\t\\t\\t(at 0 0 0)\\n\\t\\t\\t(effects\\n\\t\\t\\t\\t(font\\n\\t\\t\\t\\t\\t(size 1.27 1.27)\\n\\t\\t\\t\\t)\\n\\t\\t\\t\\t(hide yes)\\n\\t\\t\\t)\\n\\t\\t)\\n\\t\\t(symbol \"R_0_1\"\\n\\t\\t\\t(rectangle\\n\\t\\t\\t\\t(start -1.016 -2.54)\\n\\t\\t\\t\\t(end 1.016 2.54)\\n\\t\\t\\t\\t(stroke\\n\\t\\t\\t\\t\\t(width 0.254)\\n\\t\\t\\t\\t\\t(type default)\\n\\t\\t\\t\\t)\\n\\t\\t\\t\\t(fill\\n\\t\\t\\t\\t\\t(type none)\\n\\t\\t\\t\\t)\\n\\t\\t\\t)\\n\\t\\t)\\n\\t\\t(symbol \"R_1_1\"\\n\\t\\t\\t(pin passive line\\n\\t\\t\\t\\t(at 0 3.81 270)\\n\\t\\t\\t\\t(length 1.27)\\n\\t\\t\\t\\t(name \"~\"\\n\\t\\t\\t\\t\\t(effects\\n\\t\\t\\t\\t\\t\\t(font\\n\\t\\t\\t\\t\\t\\t\\t(size 1.27 1.27)\\n\\t\\t\\t\\t\\t\\t)\\n\\t\\t\\t\\t\\t)\\n\\t\\t\\t\\t)\\n\\t\\t\\t\\t(number \"1\"\\n\\t\\t\\t\\t\\t(effects\\n\\t\\t\\t\\t\\t\\t(font\\n\\t\\t\\t\\t\\t\\t\\t(size 1.27 1.27)\\n\\t\\t\\t\\t\\t\\t)\\n\\t\\t\\t\\t\\t)\\n\\t\\t\\t\\t)\\n\\t\\t\\t)\\n\\t\\t\\t(pin passive line\\n\\t\\t\\t\\t(at 0 -3.81 90)\\n\\t\\t\\t\\t(length 1.27)\\n\\t\\t\\t\\t(name \"~\"\\n\\t\\t\\t\\t\\t(effects\\n\\t\\t\\t\\t\\t\\t(font\\n\\t\\t\\t\\t\\t\\t\\t(size 1.27 1.27)\\n\\t\\t\\t\\t\\t\\t)\\n\\t\\t\\t\\t\\t)\\n\\t\\t\\t\\t)\\n\\t\\t\\t\\t(number \"2\"\\n\\t\\t\\t\\t\\t(effects\\n\\t\\t\\t\\t\\t\\t(font\\n\\t\\t\\t\\t\\t\\t\\t(size 1.27 1.27)\\n\\t\\t\\t\\t\\t\\t)\\n\\t\\t\\t\\t\\t)\\n\\t\\t\\t\\t)\\n\\t\\t\\t)\\n\\t\\t)\\n\\t) \\n \\n (symbol \"Device:R\"\\n\\t\\t(pin_numbers hide)\\n\\t\\t(pin_names\\n\\t\\t\\t(offset 0)\\n\\t\\t)\\n\\t\\t(exclude_from_sim no)\\n\\t\\t(in_bom yes)\\n\\t\\t(on_board yes)\\n\\t\\t(property \"Reference\" \"R\"\\n\\t\\t\\t(at 2.032 0 90)\\n\\t\\t\\t(effects\\n\\t\\t\\t\\t(font\\n\\t\\t\\t\\t\\t(size 1.27 1.27)\\n\\t\\t\\t\\t)\\n\\t\\t\\t)\\n\\t\\t)\\n\\t\\t(property \"Value\" \"R\"\\n\\t\\t\\t(at 0 0 90)\\n\\t\\t\\t(effects\\n\\t\\t\\t\\t(font\\n\\t\\t\\t\\t\\t(size 1.27 1.27)\\n\\t\\t\\t\\t)\\n\\t\\t\\t)\\n\\t\\t)\\n\\t\\t(property \"Footprint\" \"\"\\n\\t\\t\\t(at -1.778 0 90)\\n\\t\\t\\t(effects\\n\\t\\t\\t\\t(font\\n\\t\\t\\t\\t\\t(size 1.27 1.27)\\n\\t\\t\\t\\t)\\n\\t\\t\\t\\t(hide yes)\\n\\t\\t\\t)\\n\\t\\t)\\n\\t\\t(property \"Datasheet\" \"~\"\\n\\t\\t\\t(at 0 0 0)\\n\\t\\t\\t(effects\\n\\t\\t\\t\\t(font\\n\\t\\t\\t\\t\\t(size 1.27 1.27)\\n\\t\\t\\t\\t)\\n\\t\\t\\t\\t(hide yes)\\n\\t\\t\\t)\\n\\t\\t)\\n\\t\\t(property \"Description\" \"Resistor\"\\n\\t\\t\\t(at 0 0 0)\\n\\t\\t\\t(effects\\n\\t\\t\\t\\t(font\\n\\t\\t\\t\\t\\t(size 1.27 1.27)\\n\\t\\t\\t\\t)\\n\\t\\t\\t\\t(hide yes)\\n\\t\\t\\t)\\n\\t\\t)\\n\\t\\t(property \"ki_keywords\" \"R res resistor\"\\n\\t\\t\\t(at 0 0 0)\\n\\t\\t\\t(effects\\n\\t\\t\\t\\t(font\\n\\t\\t\\t\\t\\t(size 1.27 1.27)\\n\\t\\t\\t\\t)\\n\\t\\t\\t\\t(hide yes)\\n\\t\\t\\t)\\n\\t\\t)\\n\\t\\t(property \"ki_fp_filters\" \"R_*\"\\n\\t\\t\\t(at 0 0 0)\\n\\t\\t\\t(effects\\n\\t\\t\\t\\t(font\\n\\t\\t\\t\\t\\t(size 1.27 1.27)\\n\\t\\t\\t\\t)\\n\\t\\t\\t\\t(hide yes)\\n\\t\\t\\t)\\n\\t\\t)\\n\\t\\t(symbol \"R_0_1\"\\n\\t\\t\\t(rectangle\\n\\t\\t\\t\\t(start -1.016 -2.54)\\n\\t\\t\\t\\t(end 1.016 2.54)\\n\\t\\t\\t\\t(stroke\\n\\t\\t\\t\\t\\t(width 0.254)\\n\\t\\t\\t\\t\\t(type default)\\n\\t\\t\\t\\t)\\n\\t\\t\\t\\t(fill\\n\\t\\t\\t\\t\\t(type none)\\n\\t\\t\\t\\t)\\n\\t\\t\\t)\\n\\t\\t)\\n\\t\\t(symbol \"R_1_1\"\\n\\t\\t\\t(pin passive line\\n\\t\\t\\t\\t(at 0 3.81 270)\\n\\t\\t\\t\\t(length 1.27)\\n\\t\\t\\t\\t(name \"~\"\\n\\t\\t\\t\\t\\t(effects\\n\\t\\t\\t\\t\\t\\t(font\\n\\t\\t\\t\\t\\t\\t\\t(size 1.27 1.27)\\n\\t\\t\\t\\t\\t\\t)\\n\\t\\t\\t\\t\\t)\\n\\t\\t\\t\\t)\\n\\t\\t\\t\\t(number \"1\"\\n\\t\\t\\t\\t\\t(effects\\n\\t\\t\\t\\t\\t\\t(font\\n\\t\\t\\t\\t\\t\\t\\t(size 1.27 1.27)\\n\\t\\t\\t\\t\\t\\t)\\n\\t\\t\\t\\t\\t)\\n\\t\\t\\t\\t)\\n\\t\\t\\t)\\n\\t\\t\\t(pin passive line\\n\\t\\t\\t\\t(at 0 -3.81 90)\\n\\t\\t\\t\\t(length 1.27)\\n\\t\\t\\t\\t(name \"~\"\\n\\t\\t\\t\\t\\t(effects\\n\\t\\t\\t\\t\\t\\t(font\\n\\t\\t\\t\\t\\t\\t\\t(size 1.27 1.27)\\n\\t\\t\\t\\t\\t\\t)\\n\\t\\t\\t\\t\\t)\\n\\t\\t\\t\\t)\\n\\t\\t\\t\\t(number \"2\"\\n\\t\\t\\t\\t\\t(effects\\n\\t\\t\\t\\t\\t\\t(font\\n\\t\\t\\t\\t\\t\\t\\t(size 1.27 1.27)\\n\\t\\t\\t\\t\\t\\t)\\n\\t\\t\\t\\t\\t)\\n\\t\\t\\t\\t)\\n\\t\\t\\t)\\n\\t\\t)\\n\\t) \\n )\\n\\n (wire\\n\\t\\t(pts\\n\\t\\t\\t(xy 150 75) (xy 150 125)\\n\\t\\t)\\n\\t\\t(stroke\\n\\t\\t\\t(width 0)\\n\\t\\t\\t(type default)\\n\\t\\t)\\n\\t\\t(uuid \"137ee4e8-9dc4-455c-acae-9ea06b79deca\")\\n\\t) \\n \\n (wire\\n\\t\\t(pts\\n\\t\\t\\t(xy 100 75) (xy 100 125)\\n\\t\\t)\\n\\t\\t(stroke\\n\\t\\t\\t(width 0)\\n\\t\\t\\t(type default)\\n\\t\\t)\\n\\t\\t(uuid \"823b7b80-daca-48f6-ad13-2007dc638a77\")\\n\\t) \\n \\n (wire\\n\\t\\t(pts\\n\\t\\t\\t(xy 200 75) (xy 250 75)\\n\\t\\t)\\n\\t\\t(stroke\\n\\t\\t\\t(width 0)\\n\\t\\t\\t(type default)\\n\\t\\t)\\n\\t\\t(uuid \"6c33d0b6-62e1-4fd7-b4dd-7f9a1ba43d9d\")\\n\\t) \\n \\n (wire\\n\\t\\t(pts\\n\\t\\t\\t(xy 150 75) (xy 200 75)\\n\\t\\t)\\n\\t\\t(stroke\\n\\t\\t\\t(width 0)\\n\\t\\t\\t(type default)\\n\\t\\t)\\n\\t\\t(uuid \"f7110f99-9869-471f-9802-1163270a9057\")\\n\\t) \\n \\n (wire\\n\\t\\t(pts\\n\\t\\t\\t(xy 100 75) (xy 150 75)\\n\\t\\t)\\n\\t\\t(stroke\\n\\t\\t\\t(width 0)\\n\\t\\t\\t(type default)\\n\\t\\t)\\n\\t\\t(uuid \"5cf7cf63-a5b6-42c2-b8c0-c94d884f1aeb\")\\n\\t) \\n \\n (wire\\n\\t\\t(pts\\n\\t\\t\\t(xy 50 75) (xy 100 75)\\n\\t\\t)\\n\\t\\t(stroke\\n\\t\\t\\t(width 0)\\n\\t\\t\\t(type default)\\n\\t\\t)\\n\\t\\t(uuid \"77ca7216-37f6-46f9-9192-ea05a41b4ec3\")\\n\\t) \\n \\n \\n(symbol\\n        (lib_id \"Device:C\")\\n        (at 225 75 0)\\n        (unit 1)\\n        (exclude_from_sim no)\\n        (in_bom yes)\\n        (on_board yes)\\n        (dnp no)\\n        (fields_autoplaced yes)\\n        (uuid \"9ceacf4c-9392-4bc3-9ab8-47838afb58bf\")\\n        (property \"Reference\" \"C1\"\\n            (at 225 75 0)\\n            (effects\\n                (font\\n                    (size 1.27 1.27)\\n                )\\n            )\\n        )\\n        (property \"Value\" \"\"\\n            (at 225 75 0)\\n            (effects\\n                (font\\n                    (size 1.27 1.27)\\n                )\\n            )\\n        )\\n        (property \"Footprint\" \"\"\\n            (at 225 75 0)\\n            (effects\\n                (font\\n                    (size 1.27 1.27)\\n                )\\n                (hide yes)\\n            )\\n        )\\n        (property \"Datasheet\" \"~\"\\n            (at 225 75 0)\\n            (effects\\n                (font\\n                    (size 1.27 1.27)\\n                )\\n                (hide yes)\\n            )\\n        )\\n        (property \"Description\" \"npolarized capacitor\"\\n            (at 225 75 0)\\n            (effects\\n                (font\\n                    (size 1.27 1.27)\\n                )\\n                (hide yes)\\n            )\\n        )\\n        (instances\\n            (project \"temp_dea647a7-e0d8-45e4-9bce-23c7e387cf2b\"\\n                (path \"/dea647a7-e0d8-45e4-9bce-23c7e387cf2b\"\\n                    (reference \"C1\")\\n                    (unit 1)\\n                )\\n            )\\n        )\\n    )    \\n \\n \\n \\n(symbol\\n        (lib_id \"Device:R\")\\n        (at 125 75 0)\\n        (unit 1)\\n        (exclude_from_sim no)\\n        (in_bom yes)\\n        (on_board yes)\\n        (dnp no)\\n        (fields_autoplaced yes)\\n        (uuid \"17550ec0-3429-47f4-90a3-253af2d4ea19\")\\n        (property \"Reference\" \"R1\"\\n            (at 125 75 0)\\n            (effects\\n                (font\\n                    (size 1.27 1.27)\\n                )\\n            )\\n        )\\n        (property \"Value\" \"\"\\n            (at 125 75 0)\\n            (effects\\n                (font\\n                    (size 1.27 1.27)\\n                )\\n            )\\n        )\\n        (property \"Footprint\" \"\"\\n            (at 125 75 0)\\n            (effects\\n                (font\\n                    (size 1.27 1.27)\\n                )\\n                (hide yes)\\n            )\\n        )\\n        (property \"Datasheet\" \"~\"\\n            (at 125 75 0)\\n            (effects\\n                (font\\n                    (size 1.27 1.27)\\n                )\\n                (hide yes)\\n            )\\n        )\\n        (property \"Description\" \"esistor\"\\n            (at 125 75 0)\\n            (effects\\n                (font\\n                    (size 1.27 1.27)\\n                )\\n                (hide yes)\\n            )\\n        )\\n        (instances\\n            (project \"temp_dea647a7-e0d8-45e4-9bce-23c7e387cf2b\"\\n                (path \"/dea647a7-e0d8-45e4-9bce-23c7e387cf2b\"\\n                    (reference \"R1\")\\n                    (unit 1)\\n                )\\n            )\\n        )\\n    )    \\n \\n \\n \\n(symbol\\n        (lib_id \"Device:R\")\\n        (at 75 75 0)\\n        (unit 1)\\n        (exclude_from_sim no)\\n        (in_bom yes)\\n        (on_board yes)\\n        (dnp no)\\n        (fields_autoplaced yes)\\n        (uuid \"dc64b28f-d851-46c7-9216-a2c580ba9868\")\\n        (property \"Reference\" \"R2\"\\n            (at 75 75 0)\\n            (effects\\n                (font\\n                    (size 1.27 1.27)\\n                )\\n            )\\n        )\\n        (property \"Value\" \"\"\\n            (at 75 75 0)\\n            (effects\\n                (font\\n                    (size 1.27 1.27)\\n                )\\n            )\\n        )\\n        (property \"Footprint\" \"\"\\n            (at 75 75 0)\\n            (effects\\n                (font\\n                    (size 1.27 1.27)\\n                )\\n                (hide yes)\\n            )\\n        )\\n        (property \"Datasheet\" \"~\"\\n            (at 75 75 0)\\n            (effects\\n                (font\\n                    (size 1.27 1.27)\\n                )\\n                (hide yes)\\n            )\\n        )\\n        (property \"Description\" \"esistor\"\\n            (at 75 75 0)\\n            (effects\\n                (font\\n                    (size 1.27 1.27)\\n                )\\n                (hide yes)\\n            )\\n        )\\n        (instances\\n            (project \"temp_dea647a7-e0d8-45e4-9bce-23c7e387cf2b\"\\n                (path \"/dea647a7-e0d8-45e4-9bce-23c7e387cf2b\"\\n                    (reference \"R2\")\\n                    (unit 1)\\n                )\\n            )\\n        )\\n    )    \\n \\n \\t(sheet_instances\\n\\t\\t(path \"/\"\\n\\t\\t\\t(page \"1\")\\n\\t\\t)\\n\\t)\\n)'"
      ]
     },
     "execution_count": 11,
     "metadata": {},
     "output_type": "execute_result"
    }
   ],
   "source": [
    "# kicad_utils.modify_kicad_sch_file(wires= result['detected_wires'], file_path=kicad_schematic_path)"
   ]
  },
  {
   "cell_type": "code",
   "execution_count": 5,
   "metadata": {},
   "outputs": [
    {
     "name": "stdout",
     "output_type": "stream",
     "text": [
      "D1 1 C1 1\n",
      "D1 2 C1 2\n"
     ]
    }
   ],
   "source": [
    "for connection in result[\"component_connections\"]:\n",
    "    print(connection['componentA_reference'], connection['componentA_pin'], connection['componentB_reference'], connection['componentB_pin'])\n",
    "\n",
    "    "
   ]
  },
  {
   "cell_type": "code",
   "execution_count": null,
   "metadata": {},
   "outputs": [],
   "source": [
    "# code which maps R2.1 to x and y position\n"
   ]
  },
  {
   "cell_type": "code",
   "execution_count": null,
   "metadata": {},
   "outputs": [],
   "source": []
  },
  {
   "cell_type": "markdown",
   "metadata": {},
   "source": [
    "# THIS IS THE MOST IMPORTANT CELL"
   ]
  },
  {
   "cell_type": "code",
   "execution_count": 10,
   "metadata": {},
   "outputs": [
    {
     "name": "stdout",
     "output_type": "stream",
     "text": [
      "C1\n",
      "D1\n"
     ]
    }
   ],
   "source": [
    "# result[\"component_connections\"][0]['componentA_reference']\n",
    "import skip\n",
    "schem = skip.Schematic(\"testProject/testProject.kicad_sch\")\n",
    "wire_list = []\n",
    "\n",
    "for symbol in schem.symbol:\n",
    "    print(symbol.property.Reference.value)\n",
    "    \n"
   ]
  },
  {
   "cell_type": "code",
   "execution_count": 15,
   "metadata": {},
   "outputs": [
    {
     "name": "stdout",
     "output_type": "stream",
     "text": [
      "None\n"
     ]
    },
    {
     "ename": "TypeError",
     "evalue": "'NoneType' object is not subscriptable",
     "output_type": "error",
     "traceback": [
      "\u001b[0;31m---------------------------------------------------------------------------\u001b[0m",
      "\u001b[0;31mTypeError\u001b[0m                                 Traceback (most recent call last)",
      "Cell \u001b[0;32mIn[15], line 7\u001b[0m\n\u001b[1;32m      5\u001b[0m found_symbol \u001b[38;5;241m=\u001b[39m find_component_in_schem(\u001b[38;5;124m\"\u001b[39m\u001b[38;5;124mC1\u001b[39m\u001b[38;5;124m\"\u001b[39m, schem)\n\u001b[1;32m      6\u001b[0m \u001b[38;5;28mprint\u001b[39m(found_symbol\u001b[38;5;241m.\u001b[39mpin)\n\u001b[0;32m----> 7\u001b[0m \u001b[38;5;28mprint\u001b[39m(\u001b[43mfound_symbol\u001b[49m\u001b[38;5;241;43m.\u001b[39;49m\u001b[43mpin\u001b[49m\u001b[43m[\u001b[49m\u001b[38;5;241;43m0\u001b[39;49m\u001b[43m]\u001b[49m\u001b[38;5;241m.\u001b[39mlocation\u001b[38;5;241m.\u001b[39mx)\n",
      "\u001b[0;31mTypeError\u001b[0m: 'NoneType' object is not subscriptable"
     ]
    }
   ],
   "source": [
    "def find_component_in_schem(component_reference, skip_schematic):\n",
    "    for symbol in skip_schematic.symbol:\n",
    "        if symbol.property.Reference.value == component_reference:\n",
    "            return symbol\n",
    "found_symbol = find_component_in_schem(\"C1\", schem)\n",
    "print(found_symbol.pin)\n",
    "print(found_symbol.pin[0].location.x)"
   ]
  },
  {
   "cell_type": "code",
   "execution_count": 8,
   "metadata": {},
   "outputs": [
    {
     "name": "stdout",
     "output_type": "stream",
     "text": [
      "C1\n",
      "D1\n"
     ]
    },
    {
     "ename": "TypeError",
     "evalue": "'NoneType' object is not subscriptable",
     "output_type": "error",
     "traceback": [
      "\u001b[0;31m---------------------------------------------------------------------------\u001b[0m",
      "\u001b[0;31mTypeError\u001b[0m                                 Traceback (most recent call last)",
      "Cell \u001b[0;32mIn[8], line 18\u001b[0m\n\u001b[1;32m     15\u001b[0m \u001b[38;5;28;01mfor\u001b[39;00m curr_connection \u001b[38;5;129;01min\u001b[39;00m all_connections:\n\u001b[1;32m     16\u001b[0m     \u001b[38;5;66;03m# if curr component is compA in curr connection\u001b[39;00m\n\u001b[1;32m     17\u001b[0m     \u001b[38;5;28;01mif\u001b[39;00m curr_connection[\u001b[38;5;124m'\u001b[39m\u001b[38;5;124mcomponentA_reference\u001b[39m\u001b[38;5;124m'\u001b[39m] \u001b[38;5;241m==\u001b[39m curr_component_ref:\n\u001b[0;32m---> 18\u001b[0m         curr_component_A_pin \u001b[38;5;241m=\u001b[39m \u001b[43mcurr_component\u001b[49m\u001b[38;5;241;43m.\u001b[39;49m\u001b[43mpin\u001b[49m\u001b[43m[\u001b[49m\u001b[43mcurr_connection\u001b[49m\u001b[43m[\u001b[49m\u001b[38;5;124;43m'\u001b[39;49m\u001b[38;5;124;43mcomponentA_pin\u001b[39;49m\u001b[38;5;124;43m'\u001b[39;49m\u001b[43m]\u001b[49m\u001b[38;5;241;43m-\u001b[39;49m\u001b[38;5;241;43m1\u001b[39;49m\u001b[43m]\u001b[49m\n\u001b[1;32m     19\u001b[0m         \u001b[38;5;66;03m#find component B\u001b[39;00m\n\u001b[1;32m     20\u001b[0m         curr_component_B \u001b[38;5;241m=\u001b[39m find_component_in_schem(curr_connection[\u001b[38;5;124m'\u001b[39m\u001b[38;5;124mcomponentB_reference\u001b[39m\u001b[38;5;124m'\u001b[39m], schem)\n",
      "\u001b[0;31mTypeError\u001b[0m: 'NoneType' object is not subscriptable"
     ]
    }
   ],
   "source": [
    "# Pseudo code\n",
    "import skip\n",
    "schem = skip.Schematic(\"testProject/testProject.kicad_sch\")\n",
    "wire_list = []\n",
    "\n",
    "\n",
    "# make a copy of detected connections\n",
    "all_connections = result[\"component_connections\"].copy()\n",
    "\n",
    "# Iterate through the list of generated components in kicad shematic\n",
    "for curr_component in schem.symbol:\n",
    "    print(curr_component.property.Reference.value)\n",
    "    curr_component_ref = curr_component.property.Reference.value\n",
    "#   iterate through the list of detected connections\n",
    "    for curr_connection in all_connections:\n",
    "        # if curr component is compA in curr connection\n",
    "        if curr_connection['componentA_reference'] == curr_component_ref:\n",
    "            curr_component_A_pin = curr_component.pin[curr_connection['componentA_pin']-1]\n",
    "            #find component B\n",
    "            curr_component_B = find_component_in_schem(curr_connection['componentB_reference'], schem)\n",
    "            curr_component_B_pin = curr_component_B.pin[curr_connection['componentB_pin']-1]\n",
    "            # add a wire to connect\n",
    "            wire_list.append({\"x\": curr_component_A_pin.location.x, \"y\": curr_component_A_pin.location.y, \"end_x\": curr_component_B_pin.location.x, \"end_y\":curr_component_B_pin.location.y})\n",
    "\n",
    "print(\"Wire List\")\n"
   ]
  },
  {
   "cell_type": "code",
   "execution_count": 9,
   "metadata": {},
   "outputs": [
    {
     "data": {
      "text/plain": [
       "[]"
      ]
     },
     "execution_count": 9,
     "metadata": {},
     "output_type": "execute_result"
    }
   ],
   "source": [
    "wire_list"
   ]
  },
  {
   "cell_type": "code",
   "execution_count": 66,
   "metadata": {},
   "outputs": [
    {
     "name": "stdout",
     "output_type": "stream",
     "text": [
      "Modified file testProject/testProject.kicad_sch\n"
     ]
    },
    {
     "data": {
      "text/plain": [
       "'(kicad_sch\\n\\t(version 20231120)\\n\\t(generator \"eeschema\")\\n\\t(generator_version \"8.0\")\\n\\t(uuid \"dea647a7-e0d8-45e4-9bce-23c7e387cf2b\")\\n\\t(paper \"A4\")\\n\\t(lib_symbols\\n\\t\\t(symbol \"Device:C\"\\n\\t\\t\\t(pin_numbers hide)\\n\\t\\t\\t(pin_names\\n\\t\\t\\t\\t(offset 0.254)\\n\\t\\t\\t)\\n\\t\\t\\t(exclude_from_sim no)\\n\\t\\t\\t(in_bom yes)\\n\\t\\t\\t(on_board yes)\\n\\t\\t\\t(property \"Reference\" \"C\"\\n\\t\\t\\t\\t(at 0.635 2.54 0)\\n\\t\\t\\t\\t(effects\\n\\t\\t\\t\\t\\t(font\\n\\t\\t\\t\\t\\t\\t(size 1.27 1.27)\\n\\t\\t\\t\\t\\t)\\n\\t\\t\\t\\t\\t(justify left)\\n\\t\\t\\t\\t)\\n\\t\\t\\t)\\n\\t\\t\\t(property \"Value\" \"C\"\\n\\t\\t\\t\\t(at 0.635 -2.54 0)\\n\\t\\t\\t\\t(effects\\n\\t\\t\\t\\t\\t(font\\n\\t\\t\\t\\t\\t\\t(size 1.27 1.27)\\n\\t\\t\\t\\t\\t)\\n\\t\\t\\t\\t\\t(justify left)\\n\\t\\t\\t\\t)\\n\\t\\t\\t)\\n\\t\\t\\t(property \"Footprint\" \"\"\\n\\t\\t\\t\\t(at 0.9652 -3.81 0)\\n\\t\\t\\t\\t(effects\\n\\t\\t\\t\\t\\t(font\\n\\t\\t\\t\\t\\t\\t(size 1.27 1.27)\\n\\t\\t\\t\\t\\t)\\n\\t\\t\\t\\t\\t(hide yes)\\n\\t\\t\\t\\t)\\n\\t\\t\\t)\\n\\t\\t\\t(property \"Datasheet\" \"~\"\\n\\t\\t\\t\\t(at 0 0 0)\\n\\t\\t\\t\\t(effects\\n\\t\\t\\t\\t\\t(font\\n\\t\\t\\t\\t\\t\\t(size 1.27 1.27)\\n\\t\\t\\t\\t\\t)\\n\\t\\t\\t\\t\\t(hide yes)\\n\\t\\t\\t\\t)\\n\\t\\t\\t)\\n\\t\\t\\t(property \"Description\" \"Unpolarized capacitor\"\\n\\t\\t\\t\\t(at 0 0 0)\\n\\t\\t\\t\\t(effects\\n\\t\\t\\t\\t\\t(font\\n\\t\\t\\t\\t\\t\\t(size 1.27 1.27)\\n\\t\\t\\t\\t\\t)\\n\\t\\t\\t\\t\\t(hide yes)\\n\\t\\t\\t\\t)\\n\\t\\t\\t)\\n\\t\\t\\t(property \"ki_keywords\" \"cap capacitor\"\\n\\t\\t\\t\\t(at 0 0 0)\\n\\t\\t\\t\\t(effects\\n\\t\\t\\t\\t\\t(font\\n\\t\\t\\t\\t\\t\\t(size 1.27 1.27)\\n\\t\\t\\t\\t\\t)\\n\\t\\t\\t\\t\\t(hide yes)\\n\\t\\t\\t\\t)\\n\\t\\t\\t)\\n\\t\\t\\t(property \"ki_fp_filters\" \"C_*\"\\n\\t\\t\\t\\t(at 0 0 0)\\n\\t\\t\\t\\t(effects\\n\\t\\t\\t\\t\\t(font\\n\\t\\t\\t\\t\\t\\t(size 1.27 1.27)\\n\\t\\t\\t\\t\\t)\\n\\t\\t\\t\\t\\t(hide yes)\\n\\t\\t\\t\\t)\\n\\t\\t\\t)\\n\\t\\t\\t(symbol \"C_0_1\"\\n\\t\\t\\t\\t(polyline\\n\\t\\t\\t\\t\\t(pts\\n\\t\\t\\t\\t\\t\\t(xy -2.032 -0.762) (xy 2.032 -0.762)\\n\\t\\t\\t\\t\\t)\\n\\t\\t\\t\\t\\t(stroke\\n\\t\\t\\t\\t\\t\\t(width 0.508)\\n\\t\\t\\t\\t\\t\\t(type default)\\n\\t\\t\\t\\t\\t)\\n\\t\\t\\t\\t\\t(fill\\n\\t\\t\\t\\t\\t\\t(type none)\\n\\t\\t\\t\\t\\t)\\n\\t\\t\\t\\t)\\n\\t\\t\\t\\t(polyline\\n\\t\\t\\t\\t\\t(pts\\n\\t\\t\\t\\t\\t\\t(xy -2.032 0.762) (xy 2.032 0.762)\\n\\t\\t\\t\\t\\t)\\n\\t\\t\\t\\t\\t(stroke\\n\\t\\t\\t\\t\\t\\t(width 0.508)\\n\\t\\t\\t\\t\\t\\t(type default)\\n\\t\\t\\t\\t\\t)\\n\\t\\t\\t\\t\\t(fill\\n\\t\\t\\t\\t\\t\\t(type none)\\n\\t\\t\\t\\t\\t)\\n\\t\\t\\t\\t)\\n\\t\\t\\t)\\n\\t\\t\\t(symbol \"C_1_1\"\\n\\t\\t\\t\\t(pin passive line\\n\\t\\t\\t\\t\\t(at 0 3.81 270)\\n\\t\\t\\t\\t\\t(length 2.794)\\n\\t\\t\\t\\t\\t(name \"~\"\\n\\t\\t\\t\\t\\t\\t(effects\\n\\t\\t\\t\\t\\t\\t\\t(font\\n\\t\\t\\t\\t\\t\\t\\t\\t(size 1.27 1.27)\\n\\t\\t\\t\\t\\t\\t\\t)\\n\\t\\t\\t\\t\\t\\t)\\n\\t\\t\\t\\t\\t)\\n\\t\\t\\t\\t\\t(number \"1\"\\n\\t\\t\\t\\t\\t\\t(effects\\n\\t\\t\\t\\t\\t\\t\\t(font\\n\\t\\t\\t\\t\\t\\t\\t\\t(size 1.27 1.27)\\n\\t\\t\\t\\t\\t\\t\\t)\\n\\t\\t\\t\\t\\t\\t)\\n\\t\\t\\t\\t\\t)\\n\\t\\t\\t\\t)\\n\\t\\t\\t\\t(pin passive line\\n\\t\\t\\t\\t\\t(at 0 -3.81 90)\\n\\t\\t\\t\\t\\t(length 2.794)\\n\\t\\t\\t\\t\\t(name \"~\"\\n\\t\\t\\t\\t\\t\\t(effects\\n\\t\\t\\t\\t\\t\\t\\t(font\\n\\t\\t\\t\\t\\t\\t\\t\\t(size 1.27 1.27)\\n\\t\\t\\t\\t\\t\\t\\t)\\n\\t\\t\\t\\t\\t\\t)\\n\\t\\t\\t\\t\\t)\\n\\t\\t\\t\\t\\t(number \"2\"\\n\\t\\t\\t\\t\\t\\t(effects\\n\\t\\t\\t\\t\\t\\t\\t(font\\n\\t\\t\\t\\t\\t\\t\\t\\t(size 1.27 1.27)\\n\\t\\t\\t\\t\\t\\t\\t)\\n\\t\\t\\t\\t\\t\\t)\\n\\t\\t\\t\\t\\t)\\n\\t\\t\\t\\t)\\n\\t\\t\\t)\\n\\t\\t)\\n\\t\\t(symbol \"Device:R\"\\n\\t\\t\\t(pin_numbers hide)\\n\\t\\t\\t(pin_names\\n\\t\\t\\t\\t(offset 0)\\n\\t\\t\\t)\\n\\t\\t\\t(exclude_from_sim no)\\n\\t\\t\\t(in_bom yes)\\n\\t\\t\\t(on_board yes)\\n\\t\\t\\t(property \"Reference\" \"R\"\\n\\t\\t\\t\\t(at 2.032 0 90)\\n\\t\\t\\t\\t(effects\\n\\t\\t\\t\\t\\t(font\\n\\t\\t\\t\\t\\t\\t(size 1.27 1.27)\\n\\t\\t\\t\\t\\t)\\n\\t\\t\\t\\t)\\n\\t\\t\\t)\\n\\t\\t\\t(property \"Value\" \"R\"\\n\\t\\t\\t\\t(at 0 0 90)\\n\\t\\t\\t\\t(effects\\n\\t\\t\\t\\t\\t(font\\n\\t\\t\\t\\t\\t\\t(size 1.27 1.27)\\n\\t\\t\\t\\t\\t)\\n\\t\\t\\t\\t)\\n\\t\\t\\t)\\n\\t\\t\\t(property \"Footprint\" \"\"\\n\\t\\t\\t\\t(at -1.778 0 90)\\n\\t\\t\\t\\t(effects\\n\\t\\t\\t\\t\\t(font\\n\\t\\t\\t\\t\\t\\t(size 1.27 1.27)\\n\\t\\t\\t\\t\\t)\\n\\t\\t\\t\\t\\t(hide yes)\\n\\t\\t\\t\\t)\\n\\t\\t\\t)\\n\\t\\t\\t(property \"Datasheet\" \"~\"\\n\\t\\t\\t\\t(at 0 0 0)\\n\\t\\t\\t\\t(effects\\n\\t\\t\\t\\t\\t(font\\n\\t\\t\\t\\t\\t\\t(size 1.27 1.27)\\n\\t\\t\\t\\t\\t)\\n\\t\\t\\t\\t\\t(hide yes)\\n\\t\\t\\t\\t)\\n\\t\\t\\t)\\n\\t\\t\\t(property \"Description\" \"Resistor\"\\n\\t\\t\\t\\t(at 0 0 0)\\n\\t\\t\\t\\t(effects\\n\\t\\t\\t\\t\\t(font\\n\\t\\t\\t\\t\\t\\t(size 1.27 1.27)\\n\\t\\t\\t\\t\\t)\\n\\t\\t\\t\\t\\t(hide yes)\\n\\t\\t\\t\\t)\\n\\t\\t\\t)\\n\\t\\t\\t(property \"ki_keywords\" \"R res resistor\"\\n\\t\\t\\t\\t(at 0 0 0)\\n\\t\\t\\t\\t(effects\\n\\t\\t\\t\\t\\t(font\\n\\t\\t\\t\\t\\t\\t(size 1.27 1.27)\\n\\t\\t\\t\\t\\t)\\n\\t\\t\\t\\t\\t(hide yes)\\n\\t\\t\\t\\t)\\n\\t\\t\\t)\\n\\t\\t\\t(property \"ki_fp_filters\" \"R_*\"\\n\\t\\t\\t\\t(at 0 0 0)\\n\\t\\t\\t\\t(effects\\n\\t\\t\\t\\t\\t(font\\n\\t\\t\\t\\t\\t\\t(size 1.27 1.27)\\n\\t\\t\\t\\t\\t)\\n\\t\\t\\t\\t\\t(hide yes)\\n\\t\\t\\t\\t)\\n\\t\\t\\t)\\n\\t\\t\\t(symbol \"R_0_1\"\\n\\t\\t\\t\\t(rectangle\\n\\t\\t\\t\\t\\t(start -1.016 -2.54)\\n\\t\\t\\t\\t\\t(end 1.016 2.54)\\n\\t\\t\\t\\t\\t(stroke\\n\\t\\t\\t\\t\\t\\t(width 0.254)\\n\\t\\t\\t\\t\\t\\t(type default)\\n\\t\\t\\t\\t\\t)\\n\\t\\t\\t\\t\\t(fill\\n\\t\\t\\t\\t\\t\\t(type none)\\n\\t\\t\\t\\t\\t)\\n\\t\\t\\t\\t)\\n\\t\\t\\t)\\n\\t\\t\\t(symbol \"R_1_1\"\\n\\t\\t\\t\\t(pin passive line\\n\\t\\t\\t\\t\\t(at 0 3.81 270)\\n\\t\\t\\t\\t\\t(length 1.27)\\n\\t\\t\\t\\t\\t(name \"~\"\\n\\t\\t\\t\\t\\t\\t(effects\\n\\t\\t\\t\\t\\t\\t\\t(font\\n\\t\\t\\t\\t\\t\\t\\t\\t(size 1.27 1.27)\\n\\t\\t\\t\\t\\t\\t\\t)\\n\\t\\t\\t\\t\\t\\t)\\n\\t\\t\\t\\t\\t)\\n\\t\\t\\t\\t\\t(number \"1\"\\n\\t\\t\\t\\t\\t\\t(effects\\n\\t\\t\\t\\t\\t\\t\\t(font\\n\\t\\t\\t\\t\\t\\t\\t\\t(size 1.27 1.27)\\n\\t\\t\\t\\t\\t\\t\\t)\\n\\t\\t\\t\\t\\t\\t)\\n\\t\\t\\t\\t\\t)\\n\\t\\t\\t\\t)\\n\\t\\t\\t\\t(pin passive line\\n\\t\\t\\t\\t\\t(at 0 -3.81 90)\\n\\t\\t\\t\\t\\t(length 1.27)\\n\\t\\t\\t\\t\\t(name \"~\"\\n\\t\\t\\t\\t\\t\\t(effects\\n\\t\\t\\t\\t\\t\\t\\t(font\\n\\t\\t\\t\\t\\t\\t\\t\\t(size 1.27 1.27)\\n\\t\\t\\t\\t\\t\\t\\t)\\n\\t\\t\\t\\t\\t\\t)\\n\\t\\t\\t\\t\\t)\\n\\t\\t\\t\\t\\t(number \"2\"\\n\\t\\t\\t\\t\\t\\t(effects\\n\\t\\t\\t\\t\\t\\t\\t(font\\n\\t\\t\\t\\t\\t\\t\\t\\t(size 1.27 1.27)\\n\\t\\t\\t\\t\\t\\t\\t)\\n\\t\\t\\t\\t\\t\\t)\\n\\t\\t\\t\\t\\t)\\n\\t\\t\\t\\t)\\n\\t\\t\\t)\\n\\t\\t)\\n\\t)\\n\\n (wire\\n\\t\\t(pts\\n\\t\\t\\t(xy 125 71.19) (xy 225 78.81)\\n\\t\\t)\\n\\t\\t(stroke\\n\\t\\t\\t(width 0)\\n\\t\\t\\t(type default)\\n\\t\\t)\\n\\t\\t(uuid \"48d0a585-b0df-4c58-ab34-d1a7751ddad5\")\\n\\t) \\n \\n (wire\\n\\t\\t(pts\\n\\t\\t\\t(xy 125 78.81) (xy 225 71.19)\\n\\t\\t)\\n\\t\\t(stroke\\n\\t\\t\\t(width 0)\\n\\t\\t\\t(type default)\\n\\t\\t)\\n\\t\\t(uuid \"315b93bd-5a9a-4134-9a07-0f266831786c\")\\n\\t) \\n \\n (wire\\n\\t\\t(pts\\n\\t\\t\\t(xy 75 78.81) (xy 125 71.19)\\n\\t\\t)\\n\\t\\t(stroke\\n\\t\\t\\t(width 0)\\n\\t\\t\\t(type default)\\n\\t\\t)\\n\\t\\t(uuid \"d7624200-0425-456b-bc41-dd9c0901a11a\")\\n\\t) \\n \\n (wire\\n\\t\\t(pts\\n\\t\\t\\t(xy 75 71.19) (xy 125 78.81)\\n\\t\\t)\\n\\t\\t(stroke\\n\\t\\t\\t(width 0)\\n\\t\\t\\t(type default)\\n\\t\\t)\\n\\t\\t(uuid \"1bfd8ee3-86a0-449a-99bb-eec2d70c5e13\")\\n\\t) \\n \\t(symbol\\n\\t\\t(lib_id \"Device:R\")\\n\\t\\t(at 75 75 0)\\n\\t\\t(unit 1)\\n\\t\\t(exclude_from_sim no)\\n\\t\\t(in_bom yes)\\n\\t\\t(on_board yes)\\n\\t\\t(dnp no)\\n\\t\\t(fields_autoplaced yes)\\n\\t\\t(uuid \"73cedef9-f315-438c-8af6-bcee7e6ae0f0\")\\n\\t\\t(property \"Reference\" \"R2\"\\n\\t\\t\\t(at 75 75 0)\\n\\t\\t\\t(effects\\n\\t\\t\\t\\t(font\\n\\t\\t\\t\\t\\t(size 1.27 1.27)\\n\\t\\t\\t\\t)\\n\\t\\t\\t)\\n\\t\\t)\\n\\t\\t(property \"Value\" \"~\"\\n\\t\\t\\t(at 75 75 0)\\n\\t\\t\\t(effects\\n\\t\\t\\t\\t(font\\n\\t\\t\\t\\t\\t(size 1.27 1.27)\\n\\t\\t\\t\\t)\\n\\t\\t\\t)\\n\\t\\t)\\n\\t\\t(property \"Footprint\" \"\"\\n\\t\\t\\t(at 75 75 0)\\n\\t\\t\\t(effects\\n\\t\\t\\t\\t(font\\n\\t\\t\\t\\t\\t(size 1.27 1.27)\\n\\t\\t\\t\\t)\\n\\t\\t\\t\\t(hide yes)\\n\\t\\t\\t)\\n\\t\\t)\\n\\t\\t(property \"Datasheet\" \"~\"\\n\\t\\t\\t(at 75 75 0)\\n\\t\\t\\t(effects\\n\\t\\t\\t\\t(font\\n\\t\\t\\t\\t\\t(size 1.27 1.27)\\n\\t\\t\\t\\t)\\n\\t\\t\\t\\t(hide yes)\\n\\t\\t\\t)\\n\\t\\t)\\n\\t\\t(property \"Description\" \"esistor\"\\n\\t\\t\\t(at 75 75 0)\\n\\t\\t\\t(effects\\n\\t\\t\\t\\t(font\\n\\t\\t\\t\\t\\t(size 1.27 1.27)\\n\\t\\t\\t\\t)\\n\\t\\t\\t\\t(hide yes)\\n\\t\\t\\t)\\n\\t\\t)\\n\\t\\t(pin \"1\"\\n\\t\\t\\t(uuid \"3a5e7659-1a8e-4619-8572-f23a213fd58e\")\\n\\t\\t)\\n\\t\\t(pin \"2\"\\n\\t\\t\\t(uuid \"66a81011-cccc-401b-a673-fe93821c55bf\")\\n\\t\\t)\\n\\t\\t(instances\\n\\t\\t\\t(project \"testProject\"\\n\\t\\t\\t\\t(path \"/dea647a7-e0d8-45e4-9bce-23c7e387cf2b\"\\n\\t\\t\\t\\t\\t(reference \"R2\")\\n\\t\\t\\t\\t\\t(unit 1)\\n\\t\\t\\t\\t)\\n\\t\\t\\t)\\n\\t\\t)\\n\\t)\\n\\t(symbol\\n\\t\\t(lib_id \"Device:R\")\\n\\t\\t(at 125 75 0)\\n\\t\\t(unit 1)\\n\\t\\t(exclude_from_sim no)\\n\\t\\t(in_bom yes)\\n\\t\\t(on_board yes)\\n\\t\\t(dnp no)\\n\\t\\t(fields_autoplaced yes)\\n\\t\\t(uuid \"acc21404-8ca1-4ede-92fa-66a486f159e8\")\\n\\t\\t(property \"Reference\" \"R1\"\\n\\t\\t\\t(at 125 75 0)\\n\\t\\t\\t(effects\\n\\t\\t\\t\\t(font\\n\\t\\t\\t\\t\\t(size 1.27 1.27)\\n\\t\\t\\t\\t)\\n\\t\\t\\t)\\n\\t\\t)\\n\\t\\t(property \"Value\" \"~\"\\n\\t\\t\\t(at 125 75 0)\\n\\t\\t\\t(effects\\n\\t\\t\\t\\t(font\\n\\t\\t\\t\\t\\t(size 1.27 1.27)\\n\\t\\t\\t\\t)\\n\\t\\t\\t)\\n\\t\\t)\\n\\t\\t(property \"Footprint\" \"\"\\n\\t\\t\\t(at 125 75 0)\\n\\t\\t\\t(effects\\n\\t\\t\\t\\t(font\\n\\t\\t\\t\\t\\t(size 1.27 1.27)\\n\\t\\t\\t\\t)\\n\\t\\t\\t\\t(hide yes)\\n\\t\\t\\t)\\n\\t\\t)\\n\\t\\t(property \"Datasheet\" \"~\"\\n\\t\\t\\t(at 125 75 0)\\n\\t\\t\\t(effects\\n\\t\\t\\t\\t(font\\n\\t\\t\\t\\t\\t(size 1.27 1.27)\\n\\t\\t\\t\\t)\\n\\t\\t\\t\\t(hide yes)\\n\\t\\t\\t)\\n\\t\\t)\\n\\t\\t(property \"Description\" \"esistor\"\\n\\t\\t\\t(at 125 75 0)\\n\\t\\t\\t(effects\\n\\t\\t\\t\\t(font\\n\\t\\t\\t\\t\\t(size 1.27 1.27)\\n\\t\\t\\t\\t)\\n\\t\\t\\t\\t(hide yes)\\n\\t\\t\\t)\\n\\t\\t)\\n\\t\\t(pin \"2\"\\n\\t\\t\\t(uuid \"2513bd94-bfb8-43a8-998a-e98e90062413\")\\n\\t\\t)\\n\\t\\t(pin \"1\"\\n\\t\\t\\t(uuid \"9d7ca9f2-918d-458e-9d7f-8320db6ca16a\")\\n\\t\\t)\\n\\t\\t(instances\\n\\t\\t\\t(project \"testProject\"\\n\\t\\t\\t\\t(path \"/dea647a7-e0d8-45e4-9bce-23c7e387cf2b\"\\n\\t\\t\\t\\t\\t(reference \"R1\")\\n\\t\\t\\t\\t\\t(unit 1)\\n\\t\\t\\t\\t)\\n\\t\\t\\t)\\n\\t\\t)\\n\\t)\\n\\t(symbol\\n\\t\\t(lib_id \"Device:C\")\\n\\t\\t(at 225 75 0)\\n\\t\\t(unit 1)\\n\\t\\t(exclude_from_sim no)\\n\\t\\t(in_bom yes)\\n\\t\\t(on_board yes)\\n\\t\\t(dnp no)\\n\\t\\t(fields_autoplaced yes)\\n\\t\\t(uuid \"f31e8111-f572-47f6-9e59-6a53a857f2e7\")\\n\\t\\t(property \"Reference\" \"C1\"\\n\\t\\t\\t(at 225 75 0)\\n\\t\\t\\t(effects\\n\\t\\t\\t\\t(font\\n\\t\\t\\t\\t\\t(size 1.27 1.27)\\n\\t\\t\\t\\t)\\n\\t\\t\\t)\\n\\t\\t)\\n\\t\\t(property \"Value\" \"~\"\\n\\t\\t\\t(at 225 75 0)\\n\\t\\t\\t(effects\\n\\t\\t\\t\\t(font\\n\\t\\t\\t\\t\\t(size 1.27 1.27)\\n\\t\\t\\t\\t)\\n\\t\\t\\t)\\n\\t\\t)\\n\\t\\t(property \"Footprint\" \"\"\\n\\t\\t\\t(at 225 75 0)\\n\\t\\t\\t(effects\\n\\t\\t\\t\\t(font\\n\\t\\t\\t\\t\\t(size 1.27 1.27)\\n\\t\\t\\t\\t)\\n\\t\\t\\t\\t(hide yes)\\n\\t\\t\\t)\\n\\t\\t)\\n\\t\\t(property \"Datasheet\" \"~\"\\n\\t\\t\\t(at 225 75 0)\\n\\t\\t\\t(effects\\n\\t\\t\\t\\t(font\\n\\t\\t\\t\\t\\t(size 1.27 1.27)\\n\\t\\t\\t\\t)\\n\\t\\t\\t\\t(hide yes)\\n\\t\\t\\t)\\n\\t\\t)\\n\\t\\t(property \"Description\" \"npolarized capacitor\"\\n\\t\\t\\t(at 225 75 0)\\n\\t\\t\\t(effects\\n\\t\\t\\t\\t(font\\n\\t\\t\\t\\t\\t(size 1.27 1.27)\\n\\t\\t\\t\\t)\\n\\t\\t\\t\\t(hide yes)\\n\\t\\t\\t)\\n\\t\\t)\\n\\t\\t(pin \"1\"\\n\\t\\t\\t(uuid \"aa722f00-f5ef-4b48-aa32-eb690b9cfe9d\")\\n\\t\\t)\\n\\t\\t(pin \"2\"\\n\\t\\t\\t(uuid \"1f56a5e5-fc57-4abb-b0e0-3f0e4c5da6d8\")\\n\\t\\t)\\n\\t\\t(instances\\n\\t\\t\\t(project \"testProject\"\\n\\t\\t\\t\\t(path \"/dea647a7-e0d8-45e4-9bce-23c7e387cf2b\"\\n\\t\\t\\t\\t\\t(reference \"C1\")\\n\\t\\t\\t\\t\\t(unit 1)\\n\\t\\t\\t\\t)\\n\\t\\t\\t)\\n\\t\\t)\\n\\t)\\n\\t(sheet_instances\\n\\t\\t(path \"/\"\\n\\t\\t\\t(page \"1\")\\n\\t\\t)\\n\\t)\\n)'"
      ]
     },
     "execution_count": 66,
     "metadata": {},
     "output_type": "execute_result"
    }
   ],
   "source": [
    "import kicad_utils\n",
    "kicad_schematic_path = \"testProject/testProject.kicad_sch\"\n",
    "kicad_utils.modify_kicad_sch_file(wires= wire_list, file_path=kicad_schematic_path)"
   ]
  },
  {
   "cell_type": "code",
   "execution_count": null,
   "metadata": {},
   "outputs": [],
   "source": [
    "# find a symbol by reference \"R1\" using skip library\n",
    "\n",
    "\n",
    "schem.symbol"
   ]
  },
  {
   "cell_type": "code",
   "execution_count": 15,
   "metadata": {},
   "outputs": [
    {
     "name": "stdout",
     "output_type": "stream",
     "text": [
      "75\n"
     ]
    }
   ],
   "source": [
    "import skip\n",
    "schem = skip.Schematic(\"testProject/testProject.kicad_sch\")\n",
    "wire_list = []\n",
    "\n",
    "\n",
    "print(schem.symbol[0].pin[0].location.x)"
   ]
  },
  {
   "cell_type": "code",
   "execution_count": 49,
   "metadata": {},
   "outputs": [
    {
     "name": "stdout",
     "output_type": "stream",
     "text": [
      "[{'x': 121.92, 'y': 67.31, 'end_x': 156.21, 'end_y': 67.31}, {'x': 1221.92, 'y': 672.31, 'end_x': 156.21, 'end_y': 67.31}]\n"
     ]
    }
   ],
   "source": [
    "wire_list = []\n",
    "wire_list.append({\"x\": 121.92, \"y\": 67.31, \"end_x\": 156.21, \"end_y\": 67.31})\n",
    "wire_list.append({\"x\": 1221.92, \"y\": 672.31, \"end_x\": 156.21, \"end_y\": 67.31})\n",
    "\n",
    "print(wire_list)"
   ]
  },
  {
   "cell_type": "code",
   "execution_count": 14,
   "metadata": {},
   "outputs": [
    {
     "ename": "SyntaxError",
     "evalue": "expression expected after dictionary key and ':' (2901676847.py, line 8)",
     "output_type": "error",
     "traceback": [
      "\u001b[0;36m  Cell \u001b[0;32mIn[14], line 8\u001b[0;36m\u001b[0m\n\u001b[0;31m    wire_list.append({\"x\":, \"y\": 67.31, \"end_x\": 156.21, \"end_y\": 67.31})\u001b[0m\n\u001b[0m                         ^\u001b[0m\n\u001b[0;31mSyntaxError\u001b[0m\u001b[0;31m:\u001b[0m expression expected after dictionary key and ':'\n"
     ]
    }
   ],
   "source": [
    "\n",
    "for connection in result[\"component_connections\"]:\n",
    "    wire_list.append({\"x\":\"\", \"y\": 67.31, \"end_x\": 156.21, \"end_y\": 67.31})\n",
    "    \n",
    "\n",
    "for component in schem.symbol:\n",
    "    print(component.pin[0].location.x)\n"
   ]
  },
  {
   "cell_type": "code",
   "execution_count": 18,
   "metadata": {},
   "outputs": [
    {
     "name": "stdout",
     "output_type": "stream",
     "text": [
      "Reading file /usr/share/kicad/symbols/Device.kicad_sym\n",
      "Modified file testProject/testProject.kicad_sch\n"
     ]
    },
    {
     "data": {
      "text/plain": [
       "'(kicad_sch\\n\\t(version 20231120)\\n\\t(generator \"eeschema\")\\n\\t(generator_version \"8.0\")\\n\\t(uuid \"59526c9f-d2d4-4c47-ba25-9347dc717d36\")\\n\\t(paper \"A4\")\\n\\t(lib_symbols\\n (symbol \"Device:R\"\\n\\t\\t(pin_numbers hide)\\n\\t\\t(pin_names\\n\\t\\t\\t(offset 0)\\n\\t\\t)\\n\\t\\t(exclude_from_sim no)\\n\\t\\t(in_bom yes)\\n\\t\\t(on_board yes)\\n\\t\\t(property \"Reference\" \"R\"\\n\\t\\t\\t(at 2.032 0 90)\\n\\t\\t\\t(effects\\n\\t\\t\\t\\t(font\\n\\t\\t\\t\\t\\t(size 1.27 1.27)\\n\\t\\t\\t\\t)\\n\\t\\t\\t)\\n\\t\\t)\\n\\t\\t(property \"Value\" \"R\"\\n\\t\\t\\t(at 0 0 90)\\n\\t\\t\\t(effects\\n\\t\\t\\t\\t(font\\n\\t\\t\\t\\t\\t(size 1.27 1.27)\\n\\t\\t\\t\\t)\\n\\t\\t\\t)\\n\\t\\t)\\n\\t\\t(property \"Footprint\" \"\"\\n\\t\\t\\t(at -1.778 0 90)\\n\\t\\t\\t(effects\\n\\t\\t\\t\\t(font\\n\\t\\t\\t\\t\\t(size 1.27 1.27)\\n\\t\\t\\t\\t)\\n\\t\\t\\t\\t(hide yes)\\n\\t\\t\\t)\\n\\t\\t)\\n\\t\\t(property \"Datasheet\" \"~\"\\n\\t\\t\\t(at 0 0 0)\\n\\t\\t\\t(effects\\n\\t\\t\\t\\t(font\\n\\t\\t\\t\\t\\t(size 1.27 1.27)\\n\\t\\t\\t\\t)\\n\\t\\t\\t\\t(hide yes)\\n\\t\\t\\t)\\n\\t\\t)\\n\\t\\t(property \"Description\" \"Resistor\"\\n\\t\\t\\t(at 0 0 0)\\n\\t\\t\\t(effects\\n\\t\\t\\t\\t(font\\n\\t\\t\\t\\t\\t(size 1.27 1.27)\\n\\t\\t\\t\\t)\\n\\t\\t\\t\\t(hide yes)\\n\\t\\t\\t)\\n\\t\\t)\\n\\t\\t(property \"ki_keywords\" \"R res resistor\"\\n\\t\\t\\t(at 0 0 0)\\n\\t\\t\\t(effects\\n\\t\\t\\t\\t(font\\n\\t\\t\\t\\t\\t(size 1.27 1.27)\\n\\t\\t\\t\\t)\\n\\t\\t\\t\\t(hide yes)\\n\\t\\t\\t)\\n\\t\\t)\\n\\t\\t(property \"ki_fp_filters\" \"R_*\"\\n\\t\\t\\t(at 0 0 0)\\n\\t\\t\\t(effects\\n\\t\\t\\t\\t(font\\n\\t\\t\\t\\t\\t(size 1.27 1.27)\\n\\t\\t\\t\\t)\\n\\t\\t\\t\\t(hide yes)\\n\\t\\t\\t)\\n\\t\\t)\\n\\t\\t(symbol \"R_0_1\"\\n\\t\\t\\t(rectangle\\n\\t\\t\\t\\t(start -1.016 -2.54)\\n\\t\\t\\t\\t(end 1.016 2.54)\\n\\t\\t\\t\\t(stroke\\n\\t\\t\\t\\t\\t(width 0.254)\\n\\t\\t\\t\\t\\t(type default)\\n\\t\\t\\t\\t)\\n\\t\\t\\t\\t(fill\\n\\t\\t\\t\\t\\t(type none)\\n\\t\\t\\t\\t)\\n\\t\\t\\t)\\n\\t\\t)\\n\\t\\t(symbol \"R_1_1\"\\n\\t\\t\\t(pin passive line\\n\\t\\t\\t\\t(at 0 3.81 270)\\n\\t\\t\\t\\t(length 1.27)\\n\\t\\t\\t\\t(name \"~\"\\n\\t\\t\\t\\t\\t(effects\\n\\t\\t\\t\\t\\t\\t(font\\n\\t\\t\\t\\t\\t\\t\\t(size 1.27 1.27)\\n\\t\\t\\t\\t\\t\\t)\\n\\t\\t\\t\\t\\t)\\n\\t\\t\\t\\t)\\n\\t\\t\\t\\t(number \"1\"\\n\\t\\t\\t\\t\\t(effects\\n\\t\\t\\t\\t\\t\\t(font\\n\\t\\t\\t\\t\\t\\t\\t(size 1.27 1.27)\\n\\t\\t\\t\\t\\t\\t)\\n\\t\\t\\t\\t\\t)\\n\\t\\t\\t\\t)\\n\\t\\t\\t)\\n\\t\\t\\t(pin passive line\\n\\t\\t\\t\\t(at 0 -3.81 90)\\n\\t\\t\\t\\t(length 1.27)\\n\\t\\t\\t\\t(name \"~\"\\n\\t\\t\\t\\t\\t(effects\\n\\t\\t\\t\\t\\t\\t(font\\n\\t\\t\\t\\t\\t\\t\\t(size 1.27 1.27)\\n\\t\\t\\t\\t\\t\\t)\\n\\t\\t\\t\\t\\t)\\n\\t\\t\\t\\t)\\n\\t\\t\\t\\t(number \"2\"\\n\\t\\t\\t\\t\\t(effects\\n\\t\\t\\t\\t\\t\\t(font\\n\\t\\t\\t\\t\\t\\t\\t(size 1.27 1.27)\\n\\t\\t\\t\\t\\t\\t)\\n\\t\\t\\t\\t\\t)\\n\\t\\t\\t\\t)\\n\\t\\t\\t)\\n\\t\\t)\\n\\t) \\n \\n (symbol \"Device:R\"\\n\\t\\t(pin_numbers hide)\\n\\t\\t(pin_names\\n\\t\\t\\t(offset 0)\\n\\t\\t)\\n\\t\\t(exclude_from_sim no)\\n\\t\\t(in_bom yes)\\n\\t\\t(on_board yes)\\n\\t\\t(property \"Reference\" \"R\"\\n\\t\\t\\t(at 2.032 0 90)\\n\\t\\t\\t(effects\\n\\t\\t\\t\\t(font\\n\\t\\t\\t\\t\\t(size 1.27 1.27)\\n\\t\\t\\t\\t)\\n\\t\\t\\t)\\n\\t\\t)\\n\\t\\t(property \"Value\" \"R\"\\n\\t\\t\\t(at 0 0 90)\\n\\t\\t\\t(effects\\n\\t\\t\\t\\t(font\\n\\t\\t\\t\\t\\t(size 1.27 1.27)\\n\\t\\t\\t\\t)\\n\\t\\t\\t)\\n\\t\\t)\\n\\t\\t(property \"Footprint\" \"\"\\n\\t\\t\\t(at -1.778 0 90)\\n\\t\\t\\t(effects\\n\\t\\t\\t\\t(font\\n\\t\\t\\t\\t\\t(size 1.27 1.27)\\n\\t\\t\\t\\t)\\n\\t\\t\\t\\t(hide yes)\\n\\t\\t\\t)\\n\\t\\t)\\n\\t\\t(property \"Datasheet\" \"~\"\\n\\t\\t\\t(at 0 0 0)\\n\\t\\t\\t(effects\\n\\t\\t\\t\\t(font\\n\\t\\t\\t\\t\\t(size 1.27 1.27)\\n\\t\\t\\t\\t)\\n\\t\\t\\t\\t(hide yes)\\n\\t\\t\\t)\\n\\t\\t)\\n\\t\\t(property \"Description\" \"Resistor\"\\n\\t\\t\\t(at 0 0 0)\\n\\t\\t\\t(effects\\n\\t\\t\\t\\t(font\\n\\t\\t\\t\\t\\t(size 1.27 1.27)\\n\\t\\t\\t\\t)\\n\\t\\t\\t\\t(hide yes)\\n\\t\\t\\t)\\n\\t\\t)\\n\\t\\t(property \"ki_keywords\" \"R res resistor\"\\n\\t\\t\\t(at 0 0 0)\\n\\t\\t\\t(effects\\n\\t\\t\\t\\t(font\\n\\t\\t\\t\\t\\t(size 1.27 1.27)\\n\\t\\t\\t\\t)\\n\\t\\t\\t\\t(hide yes)\\n\\t\\t\\t)\\n\\t\\t)\\n\\t\\t(property \"ki_fp_filters\" \"R_*\"\\n\\t\\t\\t(at 0 0 0)\\n\\t\\t\\t(effects\\n\\t\\t\\t\\t(font\\n\\t\\t\\t\\t\\t(size 1.27 1.27)\\n\\t\\t\\t\\t)\\n\\t\\t\\t\\t(hide yes)\\n\\t\\t\\t)\\n\\t\\t)\\n\\t\\t(symbol \"R_0_1\"\\n\\t\\t\\t(rectangle\\n\\t\\t\\t\\t(start -1.016 -2.54)\\n\\t\\t\\t\\t(end 1.016 2.54)\\n\\t\\t\\t\\t(stroke\\n\\t\\t\\t\\t\\t(width 0.254)\\n\\t\\t\\t\\t\\t(type default)\\n\\t\\t\\t\\t)\\n\\t\\t\\t\\t(fill\\n\\t\\t\\t\\t\\t(type none)\\n\\t\\t\\t\\t)\\n\\t\\t\\t)\\n\\t\\t)\\n\\t\\t(symbol \"R_1_1\"\\n\\t\\t\\t(pin passive line\\n\\t\\t\\t\\t(at 0 3.81 270)\\n\\t\\t\\t\\t(length 1.27)\\n\\t\\t\\t\\t(name \"~\"\\n\\t\\t\\t\\t\\t(effects\\n\\t\\t\\t\\t\\t\\t(font\\n\\t\\t\\t\\t\\t\\t\\t(size 1.27 1.27)\\n\\t\\t\\t\\t\\t\\t)\\n\\t\\t\\t\\t\\t)\\n\\t\\t\\t\\t)\\n\\t\\t\\t\\t(number \"1\"\\n\\t\\t\\t\\t\\t(effects\\n\\t\\t\\t\\t\\t\\t(font\\n\\t\\t\\t\\t\\t\\t\\t(size 1.27 1.27)\\n\\t\\t\\t\\t\\t\\t)\\n\\t\\t\\t\\t\\t)\\n\\t\\t\\t\\t)\\n\\t\\t\\t)\\n\\t\\t\\t(pin passive line\\n\\t\\t\\t\\t(at 0 -3.81 90)\\n\\t\\t\\t\\t(length 1.27)\\n\\t\\t\\t\\t(name \"~\"\\n\\t\\t\\t\\t\\t(effects\\n\\t\\t\\t\\t\\t\\t(font\\n\\t\\t\\t\\t\\t\\t\\t(size 1.27 1.27)\\n\\t\\t\\t\\t\\t\\t)\\n\\t\\t\\t\\t\\t)\\n\\t\\t\\t\\t)\\n\\t\\t\\t\\t(number \"2\"\\n\\t\\t\\t\\t\\t(effects\\n\\t\\t\\t\\t\\t\\t(font\\n\\t\\t\\t\\t\\t\\t\\t(size 1.27 1.27)\\n\\t\\t\\t\\t\\t\\t)\\n\\t\\t\\t\\t\\t)\\n\\t\\t\\t\\t)\\n\\t\\t\\t)\\n\\t\\t)\\n\\t) \\n \\n (symbol \"Device:R\"\\n\\t\\t(pin_numbers hide)\\n\\t\\t(pin_names\\n\\t\\t\\t(offset 0)\\n\\t\\t)\\n\\t\\t(exclude_from_sim no)\\n\\t\\t(in_bom yes)\\n\\t\\t(on_board yes)\\n\\t\\t(property \"Reference\" \"R\"\\n\\t\\t\\t(at 2.032 0 90)\\n\\t\\t\\t(effects\\n\\t\\t\\t\\t(font\\n\\t\\t\\t\\t\\t(size 1.27 1.27)\\n\\t\\t\\t\\t)\\n\\t\\t\\t)\\n\\t\\t)\\n\\t\\t(property \"Value\" \"R\"\\n\\t\\t\\t(at 0 0 90)\\n\\t\\t\\t(effects\\n\\t\\t\\t\\t(font\\n\\t\\t\\t\\t\\t(size 1.27 1.27)\\n\\t\\t\\t\\t)\\n\\t\\t\\t)\\n\\t\\t)\\n\\t\\t(property \"Footprint\" \"\"\\n\\t\\t\\t(at -1.778 0 90)\\n\\t\\t\\t(effects\\n\\t\\t\\t\\t(font\\n\\t\\t\\t\\t\\t(size 1.27 1.27)\\n\\t\\t\\t\\t)\\n\\t\\t\\t\\t(hide yes)\\n\\t\\t\\t)\\n\\t\\t)\\n\\t\\t(property \"Datasheet\" \"~\"\\n\\t\\t\\t(at 0 0 0)\\n\\t\\t\\t(effects\\n\\t\\t\\t\\t(font\\n\\t\\t\\t\\t\\t(size 1.27 1.27)\\n\\t\\t\\t\\t)\\n\\t\\t\\t\\t(hide yes)\\n\\t\\t\\t)\\n\\t\\t)\\n\\t\\t(property \"Description\" \"Resistor\"\\n\\t\\t\\t(at 0 0 0)\\n\\t\\t\\t(effects\\n\\t\\t\\t\\t(font\\n\\t\\t\\t\\t\\t(size 1.27 1.27)\\n\\t\\t\\t\\t)\\n\\t\\t\\t\\t(hide yes)\\n\\t\\t\\t)\\n\\t\\t)\\n\\t\\t(property \"ki_keywords\" \"R res resistor\"\\n\\t\\t\\t(at 0 0 0)\\n\\t\\t\\t(effects\\n\\t\\t\\t\\t(font\\n\\t\\t\\t\\t\\t(size 1.27 1.27)\\n\\t\\t\\t\\t)\\n\\t\\t\\t\\t(hide yes)\\n\\t\\t\\t)\\n\\t\\t)\\n\\t\\t(property \"ki_fp_filters\" \"R_*\"\\n\\t\\t\\t(at 0 0 0)\\n\\t\\t\\t(effects\\n\\t\\t\\t\\t(font\\n\\t\\t\\t\\t\\t(size 1.27 1.27)\\n\\t\\t\\t\\t)\\n\\t\\t\\t\\t(hide yes)\\n\\t\\t\\t)\\n\\t\\t)\\n\\t\\t(symbol \"R_0_1\"\\n\\t\\t\\t(rectangle\\n\\t\\t\\t\\t(start -1.016 -2.54)\\n\\t\\t\\t\\t(end 1.016 2.54)\\n\\t\\t\\t\\t(stroke\\n\\t\\t\\t\\t\\t(width 0.254)\\n\\t\\t\\t\\t\\t(type default)\\n\\t\\t\\t\\t)\\n\\t\\t\\t\\t(fill\\n\\t\\t\\t\\t\\t(type none)\\n\\t\\t\\t\\t)\\n\\t\\t\\t)\\n\\t\\t)\\n\\t\\t(symbol \"R_1_1\"\\n\\t\\t\\t(pin passive line\\n\\t\\t\\t\\t(at 0 3.81 270)\\n\\t\\t\\t\\t(length 1.27)\\n\\t\\t\\t\\t(name \"~\"\\n\\t\\t\\t\\t\\t(effects\\n\\t\\t\\t\\t\\t\\t(font\\n\\t\\t\\t\\t\\t\\t\\t(size 1.27 1.27)\\n\\t\\t\\t\\t\\t\\t)\\n\\t\\t\\t\\t\\t)\\n\\t\\t\\t\\t)\\n\\t\\t\\t\\t(number \"1\"\\n\\t\\t\\t\\t\\t(effects\\n\\t\\t\\t\\t\\t\\t(font\\n\\t\\t\\t\\t\\t\\t\\t(size 1.27 1.27)\\n\\t\\t\\t\\t\\t\\t)\\n\\t\\t\\t\\t\\t)\\n\\t\\t\\t\\t)\\n\\t\\t\\t)\\n\\t\\t\\t(pin passive line\\n\\t\\t\\t\\t(at 0 -3.81 90)\\n\\t\\t\\t\\t(length 1.27)\\n\\t\\t\\t\\t(name \"~\"\\n\\t\\t\\t\\t\\t(effects\\n\\t\\t\\t\\t\\t\\t(font\\n\\t\\t\\t\\t\\t\\t\\t(size 1.27 1.27)\\n\\t\\t\\t\\t\\t\\t)\\n\\t\\t\\t\\t\\t)\\n\\t\\t\\t\\t)\\n\\t\\t\\t\\t(number \"2\"\\n\\t\\t\\t\\t\\t(effects\\n\\t\\t\\t\\t\\t\\t(font\\n\\t\\t\\t\\t\\t\\t\\t(size 1.27 1.27)\\n\\t\\t\\t\\t\\t\\t)\\n\\t\\t\\t\\t\\t)\\n\\t\\t\\t\\t)\\n\\t\\t\\t)\\n\\t\\t)\\n\\t) \\n \\n (symbol \"Device:C\"\\n\\t\\t(pin_numbers hide)\\n\\t\\t(pin_names\\n\\t\\t\\t(offset 0.254)\\n\\t\\t)\\n\\t\\t(exclude_from_sim no)\\n\\t\\t(in_bom yes)\\n\\t\\t(on_board yes)\\n\\t\\t(property \"Reference\" \"C\"\\n\\t\\t\\t(at 0.635 2.54 0)\\n\\t\\t\\t(effects\\n\\t\\t\\t\\t(font\\n\\t\\t\\t\\t\\t(size 1.27 1.27)\\n\\t\\t\\t\\t)\\n\\t\\t\\t\\t(justify left)\\n\\t\\t\\t)\\n\\t\\t)\\n\\t\\t(property \"Value\" \"C\"\\n\\t\\t\\t(at 0.635 -2.54 0)\\n\\t\\t\\t(effects\\n\\t\\t\\t\\t(font\\n\\t\\t\\t\\t\\t(size 1.27 1.27)\\n\\t\\t\\t\\t)\\n\\t\\t\\t\\t(justify left)\\n\\t\\t\\t)\\n\\t\\t)\\n\\t\\t(property \"Footprint\" \"\"\\n\\t\\t\\t(at 0.9652 -3.81 0)\\n\\t\\t\\t(effects\\n\\t\\t\\t\\t(font\\n\\t\\t\\t\\t\\t(size 1.27 1.27)\\n\\t\\t\\t\\t)\\n\\t\\t\\t\\t(hide yes)\\n\\t\\t\\t)\\n\\t\\t)\\n\\t\\t(property \"Datasheet\" \"~\"\\n\\t\\t\\t(at 0 0 0)\\n\\t\\t\\t(effects\\n\\t\\t\\t\\t(font\\n\\t\\t\\t\\t\\t(size 1.27 1.27)\\n\\t\\t\\t\\t)\\n\\t\\t\\t\\t(hide yes)\\n\\t\\t\\t)\\n\\t\\t)\\n\\t\\t(property \"Description\" \"Unpolarized capacitor\"\\n\\t\\t\\t(at 0 0 0)\\n\\t\\t\\t(effects\\n\\t\\t\\t\\t(font\\n\\t\\t\\t\\t\\t(size 1.27 1.27)\\n\\t\\t\\t\\t)\\n\\t\\t\\t\\t(hide yes)\\n\\t\\t\\t)\\n\\t\\t)\\n\\t\\t(property \"ki_keywords\" \"cap capacitor\"\\n\\t\\t\\t(at 0 0 0)\\n\\t\\t\\t(effects\\n\\t\\t\\t\\t(font\\n\\t\\t\\t\\t\\t(size 1.27 1.27)\\n\\t\\t\\t\\t)\\n\\t\\t\\t\\t(hide yes)\\n\\t\\t\\t)\\n\\t\\t)\\n\\t\\t(property \"ki_fp_filters\" \"C_*\"\\n\\t\\t\\t(at 0 0 0)\\n\\t\\t\\t(effects\\n\\t\\t\\t\\t(font\\n\\t\\t\\t\\t\\t(size 1.27 1.27)\\n\\t\\t\\t\\t)\\n\\t\\t\\t\\t(hide yes)\\n\\t\\t\\t)\\n\\t\\t)\\n\\t\\t(symbol \"C_0_1\"\\n\\t\\t\\t(polyline\\n\\t\\t\\t\\t(pts\\n\\t\\t\\t\\t\\t(xy -2.032 -0.762) (xy 2.032 -0.762)\\n\\t\\t\\t\\t)\\n\\t\\t\\t\\t(stroke\\n\\t\\t\\t\\t\\t(width 0.508)\\n\\t\\t\\t\\t\\t(type default)\\n\\t\\t\\t\\t)\\n\\t\\t\\t\\t(fill\\n\\t\\t\\t\\t\\t(type none)\\n\\t\\t\\t\\t)\\n\\t\\t\\t)\\n\\t\\t\\t(polyline\\n\\t\\t\\t\\t(pts\\n\\t\\t\\t\\t\\t(xy -2.032 0.762) (xy 2.032 0.762)\\n\\t\\t\\t\\t)\\n\\t\\t\\t\\t(stroke\\n\\t\\t\\t\\t\\t(width 0.508)\\n\\t\\t\\t\\t\\t(type default)\\n\\t\\t\\t\\t)\\n\\t\\t\\t\\t(fill\\n\\t\\t\\t\\t\\t(type none)\\n\\t\\t\\t\\t)\\n\\t\\t\\t)\\n\\t\\t)\\n\\t\\t(symbol \"C_1_1\"\\n\\t\\t\\t(pin passive line\\n\\t\\t\\t\\t(at 0 3.81 270)\\n\\t\\t\\t\\t(length 2.794)\\n\\t\\t\\t\\t(name \"~\"\\n\\t\\t\\t\\t\\t(effects\\n\\t\\t\\t\\t\\t\\t(font\\n\\t\\t\\t\\t\\t\\t\\t(size 1.27 1.27)\\n\\t\\t\\t\\t\\t\\t)\\n\\t\\t\\t\\t\\t)\\n\\t\\t\\t\\t)\\n\\t\\t\\t\\t(number \"1\"\\n\\t\\t\\t\\t\\t(effects\\n\\t\\t\\t\\t\\t\\t(font\\n\\t\\t\\t\\t\\t\\t\\t(size 1.27 1.27)\\n\\t\\t\\t\\t\\t\\t)\\n\\t\\t\\t\\t\\t)\\n\\t\\t\\t\\t)\\n\\t\\t\\t)\\n\\t\\t\\t(pin passive line\\n\\t\\t\\t\\t(at 0 -3.81 90)\\n\\t\\t\\t\\t(length 2.794)\\n\\t\\t\\t\\t(name \"~\"\\n\\t\\t\\t\\t\\t(effects\\n\\t\\t\\t\\t\\t\\t(font\\n\\t\\t\\t\\t\\t\\t\\t(size 1.27 1.27)\\n\\t\\t\\t\\t\\t\\t)\\n\\t\\t\\t\\t\\t)\\n\\t\\t\\t\\t)\\n\\t\\t\\t\\t(number \"2\"\\n\\t\\t\\t\\t\\t(effects\\n\\t\\t\\t\\t\\t\\t(font\\n\\t\\t\\t\\t\\t\\t\\t(size 1.27 1.27)\\n\\t\\t\\t\\t\\t\\t)\\n\\t\\t\\t\\t\\t)\\n\\t\\t\\t\\t)\\n\\t\\t\\t)\\n\\t\\t)\\n\\t) \\n \\n (symbol \"Device:C\"\\n\\t\\t(pin_numbers hide)\\n\\t\\t(pin_names\\n\\t\\t\\t(offset 0.254)\\n\\t\\t)\\n\\t\\t(exclude_from_sim no)\\n\\t\\t(in_bom yes)\\n\\t\\t(on_board yes)\\n\\t\\t(property \"Reference\" \"C\"\\n\\t\\t\\t(at 0.635 2.54 0)\\n\\t\\t\\t(effects\\n\\t\\t\\t\\t(font\\n\\t\\t\\t\\t\\t(size 1.27 1.27)\\n\\t\\t\\t\\t)\\n\\t\\t\\t\\t(justify left)\\n\\t\\t\\t)\\n\\t\\t)\\n\\t\\t(property \"Value\" \"C\"\\n\\t\\t\\t(at 0.635 -2.54 0)\\n\\t\\t\\t(effects\\n\\t\\t\\t\\t(font\\n\\t\\t\\t\\t\\t(size 1.27 1.27)\\n\\t\\t\\t\\t)\\n\\t\\t\\t\\t(justify left)\\n\\t\\t\\t)\\n\\t\\t)\\n\\t\\t(property \"Footprint\" \"\"\\n\\t\\t\\t(at 0.9652 -3.81 0)\\n\\t\\t\\t(effects\\n\\t\\t\\t\\t(font\\n\\t\\t\\t\\t\\t(size 1.27 1.27)\\n\\t\\t\\t\\t)\\n\\t\\t\\t\\t(hide yes)\\n\\t\\t\\t)\\n\\t\\t)\\n\\t\\t(property \"Datasheet\" \"~\"\\n\\t\\t\\t(at 0 0 0)\\n\\t\\t\\t(effects\\n\\t\\t\\t\\t(font\\n\\t\\t\\t\\t\\t(size 1.27 1.27)\\n\\t\\t\\t\\t)\\n\\t\\t\\t\\t(hide yes)\\n\\t\\t\\t)\\n\\t\\t)\\n\\t\\t(property \"Description\" \"Unpolarized capacitor\"\\n\\t\\t\\t(at 0 0 0)\\n\\t\\t\\t(effects\\n\\t\\t\\t\\t(font\\n\\t\\t\\t\\t\\t(size 1.27 1.27)\\n\\t\\t\\t\\t)\\n\\t\\t\\t\\t(hide yes)\\n\\t\\t\\t)\\n\\t\\t)\\n\\t\\t(property \"ki_keywords\" \"cap capacitor\"\\n\\t\\t\\t(at 0 0 0)\\n\\t\\t\\t(effects\\n\\t\\t\\t\\t(font\\n\\t\\t\\t\\t\\t(size 1.27 1.27)\\n\\t\\t\\t\\t)\\n\\t\\t\\t\\t(hide yes)\\n\\t\\t\\t)\\n\\t\\t)\\n\\t\\t(property \"ki_fp_filters\" \"C_*\"\\n\\t\\t\\t(at 0 0 0)\\n\\t\\t\\t(effects\\n\\t\\t\\t\\t(font\\n\\t\\t\\t\\t\\t(size 1.27 1.27)\\n\\t\\t\\t\\t)\\n\\t\\t\\t\\t(hide yes)\\n\\t\\t\\t)\\n\\t\\t)\\n\\t\\t(symbol \"C_0_1\"\\n\\t\\t\\t(polyline\\n\\t\\t\\t\\t(pts\\n\\t\\t\\t\\t\\t(xy -2.032 -0.762) (xy 2.032 -0.762)\\n\\t\\t\\t\\t)\\n\\t\\t\\t\\t(stroke\\n\\t\\t\\t\\t\\t(width 0.508)\\n\\t\\t\\t\\t\\t(type default)\\n\\t\\t\\t\\t)\\n\\t\\t\\t\\t(fill\\n\\t\\t\\t\\t\\t(type none)\\n\\t\\t\\t\\t)\\n\\t\\t\\t)\\n\\t\\t\\t(polyline\\n\\t\\t\\t\\t(pts\\n\\t\\t\\t\\t\\t(xy -2.032 0.762) (xy 2.032 0.762)\\n\\t\\t\\t\\t)\\n\\t\\t\\t\\t(stroke\\n\\t\\t\\t\\t\\t(width 0.508)\\n\\t\\t\\t\\t\\t(type default)\\n\\t\\t\\t\\t)\\n\\t\\t\\t\\t(fill\\n\\t\\t\\t\\t\\t(type none)\\n\\t\\t\\t\\t)\\n\\t\\t\\t)\\n\\t\\t)\\n\\t\\t(symbol \"C_1_1\"\\n\\t\\t\\t(pin passive line\\n\\t\\t\\t\\t(at 0 3.81 270)\\n\\t\\t\\t\\t(length 2.794)\\n\\t\\t\\t\\t(name \"~\"\\n\\t\\t\\t\\t\\t(effects\\n\\t\\t\\t\\t\\t\\t(font\\n\\t\\t\\t\\t\\t\\t\\t(size 1.27 1.27)\\n\\t\\t\\t\\t\\t\\t)\\n\\t\\t\\t\\t\\t)\\n\\t\\t\\t\\t)\\n\\t\\t\\t\\t(number \"1\"\\n\\t\\t\\t\\t\\t(effects\\n\\t\\t\\t\\t\\t\\t(font\\n\\t\\t\\t\\t\\t\\t\\t(size 1.27 1.27)\\n\\t\\t\\t\\t\\t\\t)\\n\\t\\t\\t\\t\\t)\\n\\t\\t\\t\\t)\\n\\t\\t\\t)\\n\\t\\t\\t(pin passive line\\n\\t\\t\\t\\t(at 0 -3.81 90)\\n\\t\\t\\t\\t(length 2.794)\\n\\t\\t\\t\\t(name \"~\"\\n\\t\\t\\t\\t\\t(effects\\n\\t\\t\\t\\t\\t\\t(font\\n\\t\\t\\t\\t\\t\\t\\t(size 1.27 1.27)\\n\\t\\t\\t\\t\\t\\t)\\n\\t\\t\\t\\t\\t)\\n\\t\\t\\t\\t)\\n\\t\\t\\t\\t(number \"2\"\\n\\t\\t\\t\\t\\t(effects\\n\\t\\t\\t\\t\\t\\t(font\\n\\t\\t\\t\\t\\t\\t\\t(size 1.27 1.27)\\n\\t\\t\\t\\t\\t\\t)\\n\\t\\t\\t\\t\\t)\\n\\t\\t\\t\\t)\\n\\t\\t\\t)\\n\\t\\t)\\n\\t) \\n \\n (symbol \"Device:R\"\\n\\t\\t(pin_numbers hide)\\n\\t\\t(pin_names\\n\\t\\t\\t(offset 0)\\n\\t\\t)\\n\\t\\t(exclude_from_sim no)\\n\\t\\t(in_bom yes)\\n\\t\\t(on_board yes)\\n\\t\\t(property \"Reference\" \"R\"\\n\\t\\t\\t(at 2.032 0 90)\\n\\t\\t\\t(effects\\n\\t\\t\\t\\t(font\\n\\t\\t\\t\\t\\t(size 1.27 1.27)\\n\\t\\t\\t\\t)\\n\\t\\t\\t)\\n\\t\\t)\\n\\t\\t(property \"Value\" \"R\"\\n\\t\\t\\t(at 0 0 90)\\n\\t\\t\\t(effects\\n\\t\\t\\t\\t(font\\n\\t\\t\\t\\t\\t(size 1.27 1.27)\\n\\t\\t\\t\\t)\\n\\t\\t\\t)\\n\\t\\t)\\n\\t\\t(property \"Footprint\" \"\"\\n\\t\\t\\t(at -1.778 0 90)\\n\\t\\t\\t(effects\\n\\t\\t\\t\\t(font\\n\\t\\t\\t\\t\\t(size 1.27 1.27)\\n\\t\\t\\t\\t)\\n\\t\\t\\t\\t(hide yes)\\n\\t\\t\\t)\\n\\t\\t)\\n\\t\\t(property \"Datasheet\" \"~\"\\n\\t\\t\\t(at 0 0 0)\\n\\t\\t\\t(effects\\n\\t\\t\\t\\t(font\\n\\t\\t\\t\\t\\t(size 1.27 1.27)\\n\\t\\t\\t\\t)\\n\\t\\t\\t\\t(hide yes)\\n\\t\\t\\t)\\n\\t\\t)\\n\\t\\t(property \"Description\" \"Resistor\"\\n\\t\\t\\t(at 0 0 0)\\n\\t\\t\\t(effects\\n\\t\\t\\t\\t(font\\n\\t\\t\\t\\t\\t(size 1.27 1.27)\\n\\t\\t\\t\\t)\\n\\t\\t\\t\\t(hide yes)\\n\\t\\t\\t)\\n\\t\\t)\\n\\t\\t(property \"ki_keywords\" \"R res resistor\"\\n\\t\\t\\t(at 0 0 0)\\n\\t\\t\\t(effects\\n\\t\\t\\t\\t(font\\n\\t\\t\\t\\t\\t(size 1.27 1.27)\\n\\t\\t\\t\\t)\\n\\t\\t\\t\\t(hide yes)\\n\\t\\t\\t)\\n\\t\\t)\\n\\t\\t(property \"ki_fp_filters\" \"R_*\"\\n\\t\\t\\t(at 0 0 0)\\n\\t\\t\\t(effects\\n\\t\\t\\t\\t(font\\n\\t\\t\\t\\t\\t(size 1.27 1.27)\\n\\t\\t\\t\\t)\\n\\t\\t\\t\\t(hide yes)\\n\\t\\t\\t)\\n\\t\\t)\\n\\t\\t(symbol \"R_0_1\"\\n\\t\\t\\t(rectangle\\n\\t\\t\\t\\t(start -1.016 -2.54)\\n\\t\\t\\t\\t(end 1.016 2.54)\\n\\t\\t\\t\\t(stroke\\n\\t\\t\\t\\t\\t(width 0.254)\\n\\t\\t\\t\\t\\t(type default)\\n\\t\\t\\t\\t)\\n\\t\\t\\t\\t(fill\\n\\t\\t\\t\\t\\t(type none)\\n\\t\\t\\t\\t)\\n\\t\\t\\t)\\n\\t\\t)\\n\\t\\t(symbol \"R_1_1\"\\n\\t\\t\\t(pin passive line\\n\\t\\t\\t\\t(at 0 3.81 270)\\n\\t\\t\\t\\t(length 1.27)\\n\\t\\t\\t\\t(name \"~\"\\n\\t\\t\\t\\t\\t(effects\\n\\t\\t\\t\\t\\t\\t(font\\n\\t\\t\\t\\t\\t\\t\\t(size 1.27 1.27)\\n\\t\\t\\t\\t\\t\\t)\\n\\t\\t\\t\\t\\t)\\n\\t\\t\\t\\t)\\n\\t\\t\\t\\t(number \"1\"\\n\\t\\t\\t\\t\\t(effects\\n\\t\\t\\t\\t\\t\\t(font\\n\\t\\t\\t\\t\\t\\t\\t(size 1.27 1.27)\\n\\t\\t\\t\\t\\t\\t)\\n\\t\\t\\t\\t\\t)\\n\\t\\t\\t\\t)\\n\\t\\t\\t)\\n\\t\\t\\t(pin passive line\\n\\t\\t\\t\\t(at 0 -3.81 90)\\n\\t\\t\\t\\t(length 1.27)\\n\\t\\t\\t\\t(name \"~\"\\n\\t\\t\\t\\t\\t(effects\\n\\t\\t\\t\\t\\t\\t(font\\n\\t\\t\\t\\t\\t\\t\\t(size 1.27 1.27)\\n\\t\\t\\t\\t\\t\\t)\\n\\t\\t\\t\\t\\t)\\n\\t\\t\\t\\t)\\n\\t\\t\\t\\t(number \"2\"\\n\\t\\t\\t\\t\\t(effects\\n\\t\\t\\t\\t\\t\\t(font\\n\\t\\t\\t\\t\\t\\t\\t(size 1.27 1.27)\\n\\t\\t\\t\\t\\t\\t)\\n\\t\\t\\t\\t\\t)\\n\\t\\t\\t\\t)\\n\\t\\t\\t)\\n\\t\\t)\\n\\t) \\n \\n (symbol \"Device:R\"\\n\\t\\t(pin_numbers hide)\\n\\t\\t(pin_names\\n\\t\\t\\t(offset 0)\\n\\t\\t)\\n\\t\\t(exclude_from_sim no)\\n\\t\\t(in_bom yes)\\n\\t\\t(on_board yes)\\n\\t\\t(property \"Reference\" \"R\"\\n\\t\\t\\t(at 2.032 0 90)\\n\\t\\t\\t(effects\\n\\t\\t\\t\\t(font\\n\\t\\t\\t\\t\\t(size 1.27 1.27)\\n\\t\\t\\t\\t)\\n\\t\\t\\t)\\n\\t\\t)\\n\\t\\t(property \"Value\" \"R\"\\n\\t\\t\\t(at 0 0 90)\\n\\t\\t\\t(effects\\n\\t\\t\\t\\t(font\\n\\t\\t\\t\\t\\t(size 1.27 1.27)\\n\\t\\t\\t\\t)\\n\\t\\t\\t)\\n\\t\\t)\\n\\t\\t(property \"Footprint\" \"\"\\n\\t\\t\\t(at -1.778 0 90)\\n\\t\\t\\t(effects\\n\\t\\t\\t\\t(font\\n\\t\\t\\t\\t\\t(size 1.27 1.27)\\n\\t\\t\\t\\t)\\n\\t\\t\\t\\t(hide yes)\\n\\t\\t\\t)\\n\\t\\t)\\n\\t\\t(property \"Datasheet\" \"~\"\\n\\t\\t\\t(at 0 0 0)\\n\\t\\t\\t(effects\\n\\t\\t\\t\\t(font\\n\\t\\t\\t\\t\\t(size 1.27 1.27)\\n\\t\\t\\t\\t)\\n\\t\\t\\t\\t(hide yes)\\n\\t\\t\\t)\\n\\t\\t)\\n\\t\\t(property \"Description\" \"Resistor\"\\n\\t\\t\\t(at 0 0 0)\\n\\t\\t\\t(effects\\n\\t\\t\\t\\t(font\\n\\t\\t\\t\\t\\t(size 1.27 1.27)\\n\\t\\t\\t\\t)\\n\\t\\t\\t\\t(hide yes)\\n\\t\\t\\t)\\n\\t\\t)\\n\\t\\t(property \"ki_keywords\" \"R res resistor\"\\n\\t\\t\\t(at 0 0 0)\\n\\t\\t\\t(effects\\n\\t\\t\\t\\t(font\\n\\t\\t\\t\\t\\t(size 1.27 1.27)\\n\\t\\t\\t\\t)\\n\\t\\t\\t\\t(hide yes)\\n\\t\\t\\t)\\n\\t\\t)\\n\\t\\t(property \"ki_fp_filters\" \"R_*\"\\n\\t\\t\\t(at 0 0 0)\\n\\t\\t\\t(effects\\n\\t\\t\\t\\t(font\\n\\t\\t\\t\\t\\t(size 1.27 1.27)\\n\\t\\t\\t\\t)\\n\\t\\t\\t\\t(hide yes)\\n\\t\\t\\t)\\n\\t\\t)\\n\\t\\t(symbol \"R_0_1\"\\n\\t\\t\\t(rectangle\\n\\t\\t\\t\\t(start -1.016 -2.54)\\n\\t\\t\\t\\t(end 1.016 2.54)\\n\\t\\t\\t\\t(stroke\\n\\t\\t\\t\\t\\t(width 0.254)\\n\\t\\t\\t\\t\\t(type default)\\n\\t\\t\\t\\t)\\n\\t\\t\\t\\t(fill\\n\\t\\t\\t\\t\\t(type none)\\n\\t\\t\\t\\t)\\n\\t\\t\\t)\\n\\t\\t)\\n\\t\\t(symbol \"R_1_1\"\\n\\t\\t\\t(pin passive line\\n\\t\\t\\t\\t(at 0 3.81 270)\\n\\t\\t\\t\\t(length 1.27)\\n\\t\\t\\t\\t(name \"~\"\\n\\t\\t\\t\\t\\t(effects\\n\\t\\t\\t\\t\\t\\t(font\\n\\t\\t\\t\\t\\t\\t\\t(size 1.27 1.27)\\n\\t\\t\\t\\t\\t\\t)\\n\\t\\t\\t\\t\\t)\\n\\t\\t\\t\\t)\\n\\t\\t\\t\\t(number \"1\"\\n\\t\\t\\t\\t\\t(effects\\n\\t\\t\\t\\t\\t\\t(font\\n\\t\\t\\t\\t\\t\\t\\t(size 1.27 1.27)\\n\\t\\t\\t\\t\\t\\t)\\n\\t\\t\\t\\t\\t)\\n\\t\\t\\t\\t)\\n\\t\\t\\t)\\n\\t\\t\\t(pin passive line\\n\\t\\t\\t\\t(at 0 -3.81 90)\\n\\t\\t\\t\\t(length 1.27)\\n\\t\\t\\t\\t(name \"~\"\\n\\t\\t\\t\\t\\t(effects\\n\\t\\t\\t\\t\\t\\t(font\\n\\t\\t\\t\\t\\t\\t\\t(size 1.27 1.27)\\n\\t\\t\\t\\t\\t\\t)\\n\\t\\t\\t\\t\\t)\\n\\t\\t\\t\\t)\\n\\t\\t\\t\\t(number \"2\"\\n\\t\\t\\t\\t\\t(effects\\n\\t\\t\\t\\t\\t\\t(font\\n\\t\\t\\t\\t\\t\\t\\t(size 1.27 1.27)\\n\\t\\t\\t\\t\\t\\t)\\n\\t\\t\\t\\t\\t)\\n\\t\\t\\t\\t)\\n\\t\\t\\t)\\n\\t\\t)\\n\\t) \\n \\n (symbol \"Device:R\"\\n\\t\\t(pin_numbers hide)\\n\\t\\t(pin_names\\n\\t\\t\\t(offset 0)\\n\\t\\t)\\n\\t\\t(exclude_from_sim no)\\n\\t\\t(in_bom yes)\\n\\t\\t(on_board yes)\\n\\t\\t(property \"Reference\" \"R\"\\n\\t\\t\\t(at 2.032 0 90)\\n\\t\\t\\t(effects\\n\\t\\t\\t\\t(font\\n\\t\\t\\t\\t\\t(size 1.27 1.27)\\n\\t\\t\\t\\t)\\n\\t\\t\\t)\\n\\t\\t)\\n\\t\\t(property \"Value\" \"R\"\\n\\t\\t\\t(at 0 0 90)\\n\\t\\t\\t(effects\\n\\t\\t\\t\\t(font\\n\\t\\t\\t\\t\\t(size 1.27 1.27)\\n\\t\\t\\t\\t)\\n\\t\\t\\t)\\n\\t\\t)\\n\\t\\t(property \"Footprint\" \"\"\\n\\t\\t\\t(at -1.778 0 90)\\n\\t\\t\\t(effects\\n\\t\\t\\t\\t(font\\n\\t\\t\\t\\t\\t(size 1.27 1.27)\\n\\t\\t\\t\\t)\\n\\t\\t\\t\\t(hide yes)\\n\\t\\t\\t)\\n\\t\\t)\\n\\t\\t(property \"Datasheet\" \"~\"\\n\\t\\t\\t(at 0 0 0)\\n\\t\\t\\t(effects\\n\\t\\t\\t\\t(font\\n\\t\\t\\t\\t\\t(size 1.27 1.27)\\n\\t\\t\\t\\t)\\n\\t\\t\\t\\t(hide yes)\\n\\t\\t\\t)\\n\\t\\t)\\n\\t\\t(property \"Description\" \"Resistor\"\\n\\t\\t\\t(at 0 0 0)\\n\\t\\t\\t(effects\\n\\t\\t\\t\\t(font\\n\\t\\t\\t\\t\\t(size 1.27 1.27)\\n\\t\\t\\t\\t)\\n\\t\\t\\t\\t(hide yes)\\n\\t\\t\\t)\\n\\t\\t)\\n\\t\\t(property \"ki_keywords\" \"R res resistor\"\\n\\t\\t\\t(at 0 0 0)\\n\\t\\t\\t(effects\\n\\t\\t\\t\\t(font\\n\\t\\t\\t\\t\\t(size 1.27 1.27)\\n\\t\\t\\t\\t)\\n\\t\\t\\t\\t(hide yes)\\n\\t\\t\\t)\\n\\t\\t)\\n\\t\\t(property \"ki_fp_filters\" \"R_*\"\\n\\t\\t\\t(at 0 0 0)\\n\\t\\t\\t(effects\\n\\t\\t\\t\\t(font\\n\\t\\t\\t\\t\\t(size 1.27 1.27)\\n\\t\\t\\t\\t)\\n\\t\\t\\t\\t(hide yes)\\n\\t\\t\\t)\\n\\t\\t)\\n\\t\\t(symbol \"R_0_1\"\\n\\t\\t\\t(rectangle\\n\\t\\t\\t\\t(start -1.016 -2.54)\\n\\t\\t\\t\\t(end 1.016 2.54)\\n\\t\\t\\t\\t(stroke\\n\\t\\t\\t\\t\\t(width 0.254)\\n\\t\\t\\t\\t\\t(type default)\\n\\t\\t\\t\\t)\\n\\t\\t\\t\\t(fill\\n\\t\\t\\t\\t\\t(type none)\\n\\t\\t\\t\\t)\\n\\t\\t\\t)\\n\\t\\t)\\n\\t\\t(symbol \"R_1_1\"\\n\\t\\t\\t(pin passive line\\n\\t\\t\\t\\t(at 0 3.81 270)\\n\\t\\t\\t\\t(length 1.27)\\n\\t\\t\\t\\t(name \"~\"\\n\\t\\t\\t\\t\\t(effects\\n\\t\\t\\t\\t\\t\\t(font\\n\\t\\t\\t\\t\\t\\t\\t(size 1.27 1.27)\\n\\t\\t\\t\\t\\t\\t)\\n\\t\\t\\t\\t\\t)\\n\\t\\t\\t\\t)\\n\\t\\t\\t\\t(number \"1\"\\n\\t\\t\\t\\t\\t(effects\\n\\t\\t\\t\\t\\t\\t(font\\n\\t\\t\\t\\t\\t\\t\\t(size 1.27 1.27)\\n\\t\\t\\t\\t\\t\\t)\\n\\t\\t\\t\\t\\t)\\n\\t\\t\\t\\t)\\n\\t\\t\\t)\\n\\t\\t\\t(pin passive line\\n\\t\\t\\t\\t(at 0 -3.81 90)\\n\\t\\t\\t\\t(length 1.27)\\n\\t\\t\\t\\t(name \"~\"\\n\\t\\t\\t\\t\\t(effects\\n\\t\\t\\t\\t\\t\\t(font\\n\\t\\t\\t\\t\\t\\t\\t(size 1.27 1.27)\\n\\t\\t\\t\\t\\t\\t)\\n\\t\\t\\t\\t\\t)\\n\\t\\t\\t\\t)\\n\\t\\t\\t\\t(number \"2\"\\n\\t\\t\\t\\t\\t(effects\\n\\t\\t\\t\\t\\t\\t(font\\n\\t\\t\\t\\t\\t\\t\\t(size 1.27 1.27)\\n\\t\\t\\t\\t\\t\\t)\\n\\t\\t\\t\\t\\t)\\n\\t\\t\\t\\t)\\n\\t\\t\\t)\\n\\t\\t)\\n\\t) \\n \\n (symbol \"Device:R\"\\n\\t\\t(pin_numbers hide)\\n\\t\\t(pin_names\\n\\t\\t\\t(offset 0)\\n\\t\\t)\\n\\t\\t(exclude_from_sim no)\\n\\t\\t(in_bom yes)\\n\\t\\t(on_board yes)\\n\\t\\t(property \"Reference\" \"R\"\\n\\t\\t\\t(at 2.032 0 90)\\n\\t\\t\\t(effects\\n\\t\\t\\t\\t(font\\n\\t\\t\\t\\t\\t(size 1.27 1.27)\\n\\t\\t\\t\\t)\\n\\t\\t\\t)\\n\\t\\t)\\n\\t\\t(property \"Value\" \"R\"\\n\\t\\t\\t(at 0 0 90)\\n\\t\\t\\t(effects\\n\\t\\t\\t\\t(font\\n\\t\\t\\t\\t\\t(size 1.27 1.27)\\n\\t\\t\\t\\t)\\n\\t\\t\\t)\\n\\t\\t)\\n\\t\\t(property \"Footprint\" \"\"\\n\\t\\t\\t(at -1.778 0 90)\\n\\t\\t\\t(effects\\n\\t\\t\\t\\t(font\\n\\t\\t\\t\\t\\t(size 1.27 1.27)\\n\\t\\t\\t\\t)\\n\\t\\t\\t\\t(hide yes)\\n\\t\\t\\t)\\n\\t\\t)\\n\\t\\t(property \"Datasheet\" \"~\"\\n\\t\\t\\t(at 0 0 0)\\n\\t\\t\\t(effects\\n\\t\\t\\t\\t(font\\n\\t\\t\\t\\t\\t(size 1.27 1.27)\\n\\t\\t\\t\\t)\\n\\t\\t\\t\\t(hide yes)\\n\\t\\t\\t)\\n\\t\\t)\\n\\t\\t(property \"Description\" \"Resistor\"\\n\\t\\t\\t(at 0 0 0)\\n\\t\\t\\t(effects\\n\\t\\t\\t\\t(font\\n\\t\\t\\t\\t\\t(size 1.27 1.27)\\n\\t\\t\\t\\t)\\n\\t\\t\\t\\t(hide yes)\\n\\t\\t\\t)\\n\\t\\t)\\n\\t\\t(property \"ki_keywords\" \"R res resistor\"\\n\\t\\t\\t(at 0 0 0)\\n\\t\\t\\t(effects\\n\\t\\t\\t\\t(font\\n\\t\\t\\t\\t\\t(size 1.27 1.27)\\n\\t\\t\\t\\t)\\n\\t\\t\\t\\t(hide yes)\\n\\t\\t\\t)\\n\\t\\t)\\n\\t\\t(property \"ki_fp_filters\" \"R_*\"\\n\\t\\t\\t(at 0 0 0)\\n\\t\\t\\t(effects\\n\\t\\t\\t\\t(font\\n\\t\\t\\t\\t\\t(size 1.27 1.27)\\n\\t\\t\\t\\t)\\n\\t\\t\\t\\t(hide yes)\\n\\t\\t\\t)\\n\\t\\t)\\n\\t\\t(symbol \"R_0_1\"\\n\\t\\t\\t(rectangle\\n\\t\\t\\t\\t(start -1.016 -2.54)\\n\\t\\t\\t\\t(end 1.016 2.54)\\n\\t\\t\\t\\t(stroke\\n\\t\\t\\t\\t\\t(width 0.254)\\n\\t\\t\\t\\t\\t(type default)\\n\\t\\t\\t\\t)\\n\\t\\t\\t\\t(fill\\n\\t\\t\\t\\t\\t(type none)\\n\\t\\t\\t\\t)\\n\\t\\t\\t)\\n\\t\\t)\\n\\t\\t(symbol \"R_1_1\"\\n\\t\\t\\t(pin passive line\\n\\t\\t\\t\\t(at 0 3.81 270)\\n\\t\\t\\t\\t(length 1.27)\\n\\t\\t\\t\\t(name \"~\"\\n\\t\\t\\t\\t\\t(effects\\n\\t\\t\\t\\t\\t\\t(font\\n\\t\\t\\t\\t\\t\\t\\t(size 1.27 1.27)\\n\\t\\t\\t\\t\\t\\t)\\n\\t\\t\\t\\t\\t)\\n\\t\\t\\t\\t)\\n\\t\\t\\t\\t(number \"1\"\\n\\t\\t\\t\\t\\t(effects\\n\\t\\t\\t\\t\\t\\t(font\\n\\t\\t\\t\\t\\t\\t\\t(size 1.27 1.27)\\n\\t\\t\\t\\t\\t\\t)\\n\\t\\t\\t\\t\\t)\\n\\t\\t\\t\\t)\\n\\t\\t\\t)\\n\\t\\t\\t(pin passive line\\n\\t\\t\\t\\t(at 0 -3.81 90)\\n\\t\\t\\t\\t(length 1.27)\\n\\t\\t\\t\\t(name \"~\"\\n\\t\\t\\t\\t\\t(effects\\n\\t\\t\\t\\t\\t\\t(font\\n\\t\\t\\t\\t\\t\\t\\t(size 1.27 1.27)\\n\\t\\t\\t\\t\\t\\t)\\n\\t\\t\\t\\t\\t)\\n\\t\\t\\t\\t)\\n\\t\\t\\t\\t(number \"2\"\\n\\t\\t\\t\\t\\t(effects\\n\\t\\t\\t\\t\\t\\t(font\\n\\t\\t\\t\\t\\t\\t\\t(size 1.27 1.27)\\n\\t\\t\\t\\t\\t\\t)\\n\\t\\t\\t\\t\\t)\\n\\t\\t\\t\\t)\\n\\t\\t\\t)\\n\\t\\t)\\n\\t) \\n )\\n\\n \\n(symbol\\n        (lib_id \"Device:R\")\\n        (at 146.05 53.34 90)\\n        (unit 1)\\n        (exclude_from_sim no)\\n        (in_bom yes)\\n        (on_board yes)\\n        (dnp no)\\n        (fields_autoplaced yes)\\n        (uuid \"70e7bec2-984b-4e54-8029-b24bd28c08e3\")\\n        (property \"Reference\" \"R1\"\\n            (at 146.05 53.34 0)\\n            (effects\\n                (font\\n                    (size 1.27 1.27)\\n                )\\n            )\\n        )\\n        (property \"Value\" \"\"\\n            (at 146.05 53.34 0)\\n            (effects\\n                (font\\n                    (size 1.27 1.27)\\n                )\\n            )\\n        )\\n        (property \"Footprint\" \"\"\\n            (at 146.05 53.34 0)\\n            (effects\\n                (font\\n                    (size 1.27 1.27)\\n                )\\n                (hide yes)\\n            )\\n        )\\n        (property \"Datasheet\" \"~\"\\n            (at 146.05 53.34 0)\\n            (effects\\n                (font\\n                    (size 1.27 1.27)\\n                )\\n                (hide yes)\\n            )\\n        )\\n        (property \"Description\" \"esistor\"\\n            (at 146.05 53.34 0)\\n            (effects\\n                (font\\n                    (size 1.27 1.27)\\n                )\\n                (hide yes)\\n            )\\n        )\\n        (instances\\n            (project \"temp_59526c9f-d2d4-4c47-ba25-9347dc717d36\"\\n                (path \"/59526c9f-d2d4-4c47-ba25-9347dc717d36\"\\n                    (reference \"R1\")\\n                    (unit 1)\\n                )\\n            )\\n        )\\n    )    \\n \\n \\n \\n(symbol\\n        (lib_id \"Device:R\")\\n        (at 325 250 0)\\n        (unit 1)\\n        (exclude_from_sim no)\\n        (in_bom yes)\\n        (on_board yes)\\n        (dnp no)\\n        (fields_autoplaced yes)\\n        (uuid \"d3f61c5a-dd33-48f9-ad5e-50da90b63751\")\\n        (property \"Reference\" \"RV1\"\\n            (at 325 250 0)\\n            (effects\\n                (font\\n                    (size 1.27 1.27)\\n                )\\n            )\\n        )\\n        (property \"Value\" \"\"\\n            (at 325 250 0)\\n            (effects\\n                (font\\n                    (size 1.27 1.27)\\n                )\\n            )\\n        )\\n        (property \"Footprint\" \"\"\\n            (at 325 250 0)\\n            (effects\\n                (font\\n                    (size 1.27 1.27)\\n                )\\n                (hide yes)\\n            )\\n        )\\n        (property \"Datasheet\" \"~\"\\n            (at 325 250 0)\\n            (effects\\n                (font\\n                    (size 1.27 1.27)\\n                )\\n                (hide yes)\\n            )\\n        )\\n        (property \"Description\" \"esistor\"\\n            (at 325 250 0)\\n            (effects\\n                (font\\n                    (size 1.27 1.27)\\n                )\\n                (hide yes)\\n            )\\n        )\\n        (instances\\n            (project \"temp_59526c9f-d2d4-4c47-ba25-9347dc717d36\"\\n                (path \"/59526c9f-d2d4-4c47-ba25-9347dc717d36\"\\n                    (reference \"RV1\")\\n                    (unit 1)\\n                )\\n            )\\n        )\\n    )    \\n \\n \\n \\n(symbol\\n        (lib_id \"Device:R\")\\n        (at 175 150 0)\\n        (unit 1)\\n        (exclude_from_sim no)\\n        (in_bom yes)\\n        (on_board yes)\\n        (dnp no)\\n        (fields_autoplaced yes)\\n        (uuid \"0611cab8-9b58-4605-ad7a-57c24ff60c45\")\\n        (property \"Reference\" \"Q1\"\\n            (at 175 150 0)\\n            (effects\\n                (font\\n                    (size 1.27 1.27)\\n                )\\n            )\\n        )\\n        (property \"Value\" \"\"\\n            (at 175 150 0)\\n            (effects\\n                (font\\n                    (size 1.27 1.27)\\n                )\\n            )\\n        )\\n        (property \"Footprint\" \"\"\\n            (at 175 150 0)\\n            (effects\\n                (font\\n                    (size 1.27 1.27)\\n                )\\n                (hide yes)\\n            )\\n        )\\n        (property \"Datasheet\" \"~\"\\n            (at 175 150 0)\\n            (effects\\n                (font\\n                    (size 1.27 1.27)\\n                )\\n                (hide yes)\\n            )\\n        )\\n        (property \"Description\" \"esistor\"\\n            (at 175 150 0)\\n            (effects\\n                (font\\n                    (size 1.27 1.27)\\n                )\\n                (hide yes)\\n            )\\n        )\\n        (instances\\n            (project \"temp_59526c9f-d2d4-4c47-ba25-9347dc717d36\"\\n                (path \"/59526c9f-d2d4-4c47-ba25-9347dc717d36\"\\n                    (reference \"Q1\")\\n                    (unit 1)\\n                )\\n            )\\n        )\\n    )    \\n \\n \\n \\n(symbol\\n        (lib_id \"Device:C\")\\n        (at 275 75 0)\\n        (unit 1)\\n        (exclude_from_sim no)\\n        (in_bom yes)\\n        (on_board yes)\\n        (dnp no)\\n        (fields_autoplaced yes)\\n        (uuid \"e10ef3c5-5fe8-43e9-97c3-5945ce811f32\")\\n        (property \"Reference\" \"C2\"\\n            (at 275 75 0)\\n            (effects\\n                (font\\n                    (size 1.27 1.27)\\n                )\\n            )\\n        )\\n        (property \"Value\" \"\"\\n            (at 275 75 0)\\n            (effects\\n                (font\\n                    (size 1.27 1.27)\\n                )\\n            )\\n        )\\n        (property \"Footprint\" \"\"\\n            (at 275 75 0)\\n            (effects\\n                (font\\n                    (size 1.27 1.27)\\n                )\\n                (hide yes)\\n            )\\n        )\\n        (property \"Datasheet\" \"~\"\\n            (at 275 75 0)\\n            (effects\\n                (font\\n                    (size 1.27 1.27)\\n                )\\n                (hide yes)\\n            )\\n        )\\n        (property \"Description\" \"npolarized capacitor\"\\n            (at 275 75 0)\\n            (effects\\n                (font\\n                    (size 1.27 1.27)\\n                )\\n                (hide yes)\\n            )\\n        )\\n        (instances\\n            (project \"temp_59526c9f-d2d4-4c47-ba25-9347dc717d36\"\\n                (path \"/59526c9f-d2d4-4c47-ba25-9347dc717d36\"\\n                    (reference \"C2\")\\n                    (unit 1)\\n                )\\n            )\\n        )\\n    )    \\n \\n \\n \\n(symbol\\n        (lib_id \"Device:C\")\\n        (at 175 75 0)\\n        (unit 1)\\n        (exclude_from_sim no)\\n        (in_bom yes)\\n        (on_board yes)\\n        (dnp no)\\n        (fields_autoplaced yes)\\n        (uuid \"bb0ec497-8e95-4df1-b3ad-c59beb25ffa7\")\\n        (property \"Reference\" \"C1\"\\n            (at 175 75 0)\\n            (effects\\n                (font\\n                    (size 1.27 1.27)\\n                )\\n            )\\n        )\\n        (property \"Value\" \"\"\\n            (at 175 75 0)\\n            (effects\\n                (font\\n                    (size 1.27 1.27)\\n                )\\n            )\\n        )\\n        (property \"Footprint\" \"\"\\n            (at 175 75 0)\\n            (effects\\n                (font\\n                    (size 1.27 1.27)\\n                )\\n                (hide yes)\\n            )\\n        )\\n        (property \"Datasheet\" \"~\"\\n            (at 175 75 0)\\n            (effects\\n                (font\\n                    (size 1.27 1.27)\\n                )\\n                (hide yes)\\n            )\\n        )\\n        (property \"Description\" \"npolarized capacitor\"\\n            (at 175 75 0)\\n            (effects\\n                (font\\n                    (size 1.27 1.27)\\n                )\\n                (hide yes)\\n            )\\n        )\\n        (instances\\n            (project \"temp_59526c9f-d2d4-4c47-ba25-9347dc717d36\"\\n                (path \"/59526c9f-d2d4-4c47-ba25-9347dc717d36\"\\n                    (reference \"C1\")\\n                    (unit 1)\\n                )\\n            )\\n        )\\n    )    \\n \\n \\n \\n(symbol\\n        (lib_id \"Device:R\")\\n        (at 225 175 90)\\n        (unit 1)\\n        (exclude_from_sim no)\\n        (in_bom yes)\\n        (on_board yes)\\n        (dnp no)\\n        (fields_autoplaced yes)\\n        (uuid \"d57930e8-fc2f-408c-9226-c6428ff83498\")\\n        (property \"Reference\" \"R4\"\\n            (at 225 175 0)\\n            (effects\\n                (font\\n                    (size 1.27 1.27)\\n                )\\n            )\\n        )\\n        (property \"Value\" \"\"\\n            (at 225 175 0)\\n            (effects\\n                (font\\n                    (size 1.27 1.27)\\n                )\\n            )\\n        )\\n        (property \"Footprint\" \"\"\\n            (at 225 175 0)\\n            (effects\\n                (font\\n                    (size 1.27 1.27)\\n                )\\n                (hide yes)\\n            )\\n        )\\n        (property \"Datasheet\" \"~\"\\n            (at 225 175 0)\\n            (effects\\n                (font\\n                    (size 1.27 1.27)\\n                )\\n                (hide yes)\\n            )\\n        )\\n        (property \"Description\" \"esistor\"\\n            (at 225 175 0)\\n            (effects\\n                (font\\n                    (size 1.27 1.27)\\n                )\\n                (hide yes)\\n            )\\n        )\\n        (instances\\n            (project \"temp_59526c9f-d2d4-4c47-ba25-9347dc717d36\"\\n                (path \"/59526c9f-d2d4-4c47-ba25-9347dc717d36\"\\n                    (reference \"R4\")\\n                    (unit 1)\\n                )\\n            )\\n        )\\n    )    \\n \\n \\n \\n(symbol\\n        (lib_id \"Device:R\")\\n        (at 125 175 90)\\n        (unit 1)\\n        (exclude_from_sim no)\\n        (in_bom yes)\\n        (on_board yes)\\n        (dnp no)\\n        (fields_autoplaced yes)\\n        (uuid \"d2348311-54e2-401a-b8d2-1ac202b16b50\")\\n        (property \"Reference\" \"R3\"\\n            (at 125 175 0)\\n            (effects\\n                (font\\n                    (size 1.27 1.27)\\n                )\\n            )\\n        )\\n        (property \"Value\" \"\"\\n            (at 125 175 0)\\n            (effects\\n                (font\\n                    (size 1.27 1.27)\\n                )\\n            )\\n        )\\n        (property \"Footprint\" \"\"\\n            (at 125 175 0)\\n            (effects\\n                (font\\n                    (size 1.27 1.27)\\n                )\\n                (hide yes)\\n            )\\n        )\\n        (property \"Datasheet\" \"~\"\\n            (at 125 175 0)\\n            (effects\\n                (font\\n                    (size 1.27 1.27)\\n                )\\n                (hide yes)\\n            )\\n        )\\n        (property \"Description\" \"esistor\"\\n            (at 125 175 0)\\n            (effects\\n                (font\\n                    (size 1.27 1.27)\\n                )\\n                (hide yes)\\n            )\\n        )\\n        (instances\\n            (project \"temp_59526c9f-d2d4-4c47-ba25-9347dc717d36\"\\n                (path \"/59526c9f-d2d4-4c47-ba25-9347dc717d36\"\\n                    (reference \"R3\")\\n                    (unit 1)\\n                )\\n            )\\n        )\\n    )    \\n \\n \\n \\n(symbol\\n        (lib_id \"Device:R\")\\n        (at 225 75 90)\\n        (unit 1)\\n        (exclude_from_sim no)\\n        (in_bom yes)\\n        (on_board yes)\\n        (dnp no)\\n        (fields_autoplaced yes)\\n        (uuid \"599dc9d1-9adf-40c9-8c2a-331b81f40fa1\")\\n        (property \"Reference\" \"R2\"\\n            (at 225 75 0)\\n            (effects\\n                (font\\n                    (size 1.27 1.27)\\n                )\\n            )\\n        )\\n        (property \"Value\" \"\"\\n            (at 225 75 0)\\n            (effects\\n                (font\\n                    (size 1.27 1.27)\\n                )\\n            )\\n        )\\n        (property \"Footprint\" \"\"\\n            (at 225 75 0)\\n            (effects\\n                (font\\n                    (size 1.27 1.27)\\n                )\\n                (hide yes)\\n            )\\n        )\\n        (property \"Datasheet\" \"~\"\\n            (at 225 75 0)\\n            (effects\\n                (font\\n                    (size 1.27 1.27)\\n                )\\n                (hide yes)\\n            )\\n        )\\n        (property \"Description\" \"esistor\"\\n            (at 225 75 0)\\n            (effects\\n                (font\\n                    (size 1.27 1.27)\\n                )\\n                (hide yes)\\n            )\\n        )\\n        (instances\\n            (project \"temp_59526c9f-d2d4-4c47-ba25-9347dc717d36\"\\n                (path \"/59526c9f-d2d4-4c47-ba25-9347dc717d36\"\\n                    (reference \"R2\")\\n                    (unit 1)\\n                )\\n            )\\n        )\\n    )    \\n \\n \\n \\n(symbol\\n        (lib_id \"Device:R\")\\n        (at 125 75 90)\\n        (unit 1)\\n        (exclude_from_sim no)\\n        (in_bom yes)\\n        (on_board yes)\\n        (dnp no)\\n        (fields_autoplaced yes)\\n        (uuid \"40cfe3f0-6b98-4ee9-a158-4fa4479db71c\")\\n        (property \"Reference\" \"R1\"\\n            (at 125 75 0)\\n            (effects\\n                (font\\n                    (size 1.27 1.27)\\n                )\\n            )\\n        )\\n        (property \"Value\" \"\"\\n            (at 125 75 0)\\n            (effects\\n                (font\\n                    (size 1.27 1.27)\\n                )\\n            )\\n        )\\n        (property \"Footprint\" \"\"\\n            (at 125 75 0)\\n            (effects\\n                (font\\n                    (size 1.27 1.27)\\n                )\\n                (hide yes)\\n            )\\n        )\\n        (property \"Datasheet\" \"~\"\\n            (at 125 75 0)\\n            (effects\\n                (font\\n                    (size 1.27 1.27)\\n                )\\n                (hide yes)\\n            )\\n        )\\n        (property \"Description\" \"esistor\"\\n            (at 125 75 0)\\n            (effects\\n                (font\\n                    (size 1.27 1.27)\\n                )\\n                (hide yes)\\n            )\\n        )\\n        (instances\\n            (project \"temp_59526c9f-d2d4-4c47-ba25-9347dc717d36\"\\n                (path \"/59526c9f-d2d4-4c47-ba25-9347dc717d36\"\\n                    (reference \"R1\")\\n                    (unit 1)\\n                )\\n            )\\n        )\\n    )    \\n \\n \\t(sheet_instances\\n\\t\\t(path \"/\"\\n\\t\\t\\t(page \"1\")\\n\\t\\t)\\n\\t)\\n)'"
      ]
     },
     "execution_count": 18,
     "metadata": {},
     "output_type": "execute_result"
    }
   ],
   "source": [
    "import kicad_utils\n",
    "temp_file_path = \"testProject/testProject.kicad_sch\"\n",
    "\n",
    "temp_components = [\n",
    "    # {\"lib_id\": \":SW_DPST_x2\", \"x\": 143.51, \"y\": 77.47, \"angle\":0, \"reference_name\": \"SW1A\"},\n",
    "    # {\"lib_id\": \"Device:Ammeter_AC\", \"x\": 133.35, \"y\": 64.77, \"angle\":0, \"reference_name\": \"BT1\"},\n",
    "    # {\"lib_id\": \"Device:Ammeter_AC\", \"x\": 133.35, \"y\": 64.77, \"angle\":0, \"reference_name\": \"BT1\"},\n",
    "    {\"lib_id\": \"Device:R\", \"x\": 146.05, \"y\": 53.34, \"angle\":90, \"reference_name\": \"R1\"}\n",
    "]\n",
    "\n",
    "# kicad_utils.extract_symbol_definition(\"Device:R\")\n",
    "# kicad_utils.modify_kicad_sch_file(components = temp_components, file_path=temp_file_path)\n",
    "kicad_utils.create_kicad_sch_file(components = temp_components,)\n"
   ]
  },
  {
   "cell_type": "markdown",
   "metadata": {},
   "source": [
    "## Try adding wires\n"
   ]
  },
  {
   "cell_type": "code",
   "execution_count": 43,
   "metadata": {},
   "outputs": [],
   "source": [
    "import skip\n",
    "\n",
    "\n",
    "# load a schematic\n",
    "schem = skip.Schematic(\"testProject/testProject.kicad_sch\")\n"
   ]
  },
  {
   "cell_type": "code",
   "execution_count": 49,
   "metadata": {},
   "outputs": [
    {
     "name": "stdout",
     "output_type": "stream",
     "text": [
      "114.3\n"
     ]
    }
   ],
   "source": [
    "# # print(schem.symbol.R1.location)\n",
    "# for component in schem.symbol:\n",
    "    \n",
    "#     print(component.value)\n",
    "\n",
    "print(schem.symbol.R3.pin[0].location.x)\n",
    "    # print(type(component))"
   ]
  },
  {
   "cell_type": "code",
   "execution_count": null,
   "metadata": {},
   "outputs": [],
   "source": []
  }
 ],
 "metadata": {
  "kernelspec": {
   "display_name": ".venv",
   "language": "python",
   "name": "python3"
  },
  "language_info": {
   "codemirror_mode": {
    "name": "ipython",
    "version": 3
   },
   "file_extension": ".py",
   "mimetype": "text/x-python",
   "name": "python",
   "nbconvert_exporter": "python",
   "pygments_lexer": "ipython3",
   "version": "3.11.8"
  }
 },
 "nbformat": 4,
 "nbformat_minor": 2
}

{
 "cells": [
  {
   "cell_type": "markdown",
   "metadata": {},
   "source": [
    "## GPT/Claude based Schematic component recognition"
   ]
  },
  {
   "cell_type": "code",
   "execution_count": 8,
   "metadata": {},
   "outputs": [],
   "source": [
    "import kicad_utils\n",
    "\n",
    "# Now you can call the functions from kicad_utils.py\n",
    "# For example:\n",
    "template = kicad_utils.create_empty_kicad_sch_template()\n",
    "# print(template)\n",
    "\n",
    "# You can call other functions similarly\n",
    "# For example:\n",
    "symbol_def = kicad_utils.extract_symbol_definition(\"Device:R_US\")\n",
    "# print(symbol_def)\n"
   ]
  },
  {
   "cell_type": "code",
   "execution_count": 4,
   "metadata": {},
   "outputs": [
    {
     "name": "stdout",
     "output_type": "stream",
     "text": [
      "Modified file testProject/testProject.kicad_sch\n"
     ]
    },
    {
     "data": {
      "text/plain": [
       "'(kicad_sch\\n\\t(version 20231120)\\n\\t(generator \"eeschema\")\\n\\t(generator_version \"8.0\")\\n\\t(uuid \"59526c9f-d2d4-4c47-ba25-9347dc717d36\")\\n\\t(paper \"A4\")\\n\\t(lib_symbols\\n (symbol \"Device:R_US\"\\n\\t\\t(pin_numbers hide)\\n\\t\\t(pin_names\\n\\t\\t\\t(offset 0)\\n\\t\\t)\\n\\t\\t(exclude_from_sim no)\\n\\t\\t(in_bom yes)\\n\\t\\t(on_board yes)\\n\\t\\t(property \"Reference\" \"R\"\\n\\t\\t\\t(at 2.54 0 90)\\n\\t\\t\\t(effects\\n\\t\\t\\t\\t(font\\n\\t\\t\\t\\t\\t(size 1.27 1.27)\\n\\t\\t\\t\\t)\\n\\t\\t\\t)\\n\\t\\t)\\n\\t\\t(property \"Value\" \"R_US\"\\n\\t\\t\\t(at -2.54 0 90)\\n\\t\\t\\t(effects\\n\\t\\t\\t\\t(font\\n\\t\\t\\t\\t\\t(size 1.27 1.27)\\n\\t\\t\\t\\t)\\n\\t\\t\\t)\\n\\t\\t)\\n\\t\\t(property \"Footprint\" \"\"\\n\\t\\t\\t(at 1.016 -0.254 90)\\n\\t\\t\\t(effects\\n\\t\\t\\t\\t(font\\n\\t\\t\\t\\t\\t(size 1.27 1.27)\\n\\t\\t\\t\\t)\\n\\t\\t\\t\\t(hide yes)\\n\\t\\t\\t)\\n\\t\\t)\\n\\t\\t(property \"Datasheet\" \"~\"\\n\\t\\t\\t(at 0 0 0)\\n\\t\\t\\t(effects\\n\\t\\t\\t\\t(font\\n\\t\\t\\t\\t\\t(size 1.27 1.27)\\n\\t\\t\\t\\t)\\n\\t\\t\\t\\t(hide yes)\\n\\t\\t\\t)\\n\\t\\t)\\n\\t\\t(property \"Description\" \"Resistor, US symbol\"\\n\\t\\t\\t(at 0 0 0)\\n\\t\\t\\t(effects\\n\\t\\t\\t\\t(font\\n\\t\\t\\t\\t\\t(size 1.27 1.27)\\n\\t\\t\\t\\t)\\n\\t\\t\\t\\t(hide yes)\\n\\t\\t\\t)\\n\\t\\t)\\n\\t\\t(property \"ki_keywords\" \"R res resistor\"\\n\\t\\t\\t(at 0 0 0)\\n\\t\\t\\t(effects\\n\\t\\t\\t\\t(font\\n\\t\\t\\t\\t\\t(size 1.27 1.27)\\n\\t\\t\\t\\t)\\n\\t\\t\\t\\t(hide yes)\\n\\t\\t\\t)\\n\\t\\t)\\n\\t\\t(property \"ki_fp_filters\" \"R_*\"\\n\\t\\t\\t(at 0 0 0)\\n\\t\\t\\t(effects\\n\\t\\t\\t\\t(font\\n\\t\\t\\t\\t\\t(size 1.27 1.27)\\n\\t\\t\\t\\t)\\n\\t\\t\\t\\t(hide yes)\\n\\t\\t\\t)\\n\\t\\t)\\n\\t\\t(symbol \"R_US_0_1\"\\n\\t\\t\\t(polyline\\n\\t\\t\\t\\t(pts\\n\\t\\t\\t\\t\\t(xy 0 -2.286) (xy 0 -2.54)\\n\\t\\t\\t\\t)\\n\\t\\t\\t\\t(stroke\\n\\t\\t\\t\\t\\t(width 0)\\n\\t\\t\\t\\t\\t(type default)\\n\\t\\t\\t\\t)\\n\\t\\t\\t\\t(fill\\n\\t\\t\\t\\t\\t(type none)\\n\\t\\t\\t\\t)\\n\\t\\t\\t)\\n\\t\\t\\t(polyline\\n\\t\\t\\t\\t(pts\\n\\t\\t\\t\\t\\t(xy 0 2.286) (xy 0 2.54)\\n\\t\\t\\t\\t)\\n\\t\\t\\t\\t(stroke\\n\\t\\t\\t\\t\\t(width 0)\\n\\t\\t\\t\\t\\t(type default)\\n\\t\\t\\t\\t)\\n\\t\\t\\t\\t(fill\\n\\t\\t\\t\\t\\t(type none)\\n\\t\\t\\t\\t)\\n\\t\\t\\t)\\n\\t\\t\\t(polyline\\n\\t\\t\\t\\t(pts\\n\\t\\t\\t\\t\\t(xy 0 -0.762) (xy 1.016 -1.143) (xy 0 -1.524) (xy -1.016 -1.905) (xy 0 -2.286)\\n\\t\\t\\t\\t)\\n\\t\\t\\t\\t(stroke\\n\\t\\t\\t\\t\\t(width 0)\\n\\t\\t\\t\\t\\t(type default)\\n\\t\\t\\t\\t)\\n\\t\\t\\t\\t(fill\\n\\t\\t\\t\\t\\t(type none)\\n\\t\\t\\t\\t)\\n\\t\\t\\t)\\n\\t\\t\\t(polyline\\n\\t\\t\\t\\t(pts\\n\\t\\t\\t\\t\\t(xy 0 0.762) (xy 1.016 0.381) (xy 0 0) (xy -1.016 -0.381) (xy 0 -0.762)\\n\\t\\t\\t\\t)\\n\\t\\t\\t\\t(stroke\\n\\t\\t\\t\\t\\t(width 0)\\n\\t\\t\\t\\t\\t(type default)\\n\\t\\t\\t\\t)\\n\\t\\t\\t\\t(fill\\n\\t\\t\\t\\t\\t(type none)\\n\\t\\t\\t\\t)\\n\\t\\t\\t)\\n\\t\\t\\t(polyline\\n\\t\\t\\t\\t(pts\\n\\t\\t\\t\\t\\t(xy 0 2.286) (xy 1.016 1.905) (xy 0 1.524) (xy -1.016 1.143) (xy 0 0.762)\\n\\t\\t\\t\\t)\\n\\t\\t\\t\\t(stroke\\n\\t\\t\\t\\t\\t(width 0)\\n\\t\\t\\t\\t\\t(type default)\\n\\t\\t\\t\\t)\\n\\t\\t\\t\\t(fill\\n\\t\\t\\t\\t\\t(type none)\\n\\t\\t\\t\\t)\\n\\t\\t\\t)\\n\\t\\t)\\n\\t\\t(symbol \"R_US_1_1\"\\n\\t\\t\\t(pin passive line\\n\\t\\t\\t\\t(at 0 3.81 270)\\n\\t\\t\\t\\t(length 1.27)\\n\\t\\t\\t\\t(name \"~\"\\n\\t\\t\\t\\t\\t(effects\\n\\t\\t\\t\\t\\t\\t(font\\n\\t\\t\\t\\t\\t\\t\\t(size 1.27 1.27)\\n\\t\\t\\t\\t\\t\\t)\\n\\t\\t\\t\\t\\t)\\n\\t\\t\\t\\t)\\n\\t\\t\\t\\t(number \"1\"\\n\\t\\t\\t\\t\\t(effects\\n\\t\\t\\t\\t\\t\\t(font\\n\\t\\t\\t\\t\\t\\t\\t(size 1.27 1.27)\\n\\t\\t\\t\\t\\t\\t)\\n\\t\\t\\t\\t\\t)\\n\\t\\t\\t\\t)\\n\\t\\t\\t)\\n\\t\\t\\t(pin passive line\\n\\t\\t\\t\\t(at 0 -3.81 90)\\n\\t\\t\\t\\t(length 1.27)\\n\\t\\t\\t\\t(name \"~\"\\n\\t\\t\\t\\t\\t(effects\\n\\t\\t\\t\\t\\t\\t(font\\n\\t\\t\\t\\t\\t\\t\\t(size 1.27 1.27)\\n\\t\\t\\t\\t\\t\\t)\\n\\t\\t\\t\\t\\t)\\n\\t\\t\\t\\t)\\n\\t\\t\\t\\t(number \"2\"\\n\\t\\t\\t\\t\\t(effects\\n\\t\\t\\t\\t\\t\\t(font\\n\\t\\t\\t\\t\\t\\t\\t(size 1.27 1.27)\\n\\t\\t\\t\\t\\t\\t)\\n\\t\\t\\t\\t\\t)\\n\\t\\t\\t\\t)\\n\\t\\t\\t)\\n\\t\\t)\\n\\t) \\n )\\n\\n \\n(symbol\\n        (lib_id \"Device:R_US\")\\n        (at 146.05 53.34 90)\\n        (unit 1)\\n        (exclude_from_sim no)\\n        (in_bom yes)\\n        (on_board yes)\\n        (dnp no)\\n        (fields_autoplaced yes)\\n        (uuid \"3c9fd56a-c3b5-4c17-a5b5-e1ab505381fc\")\\n        (property \"Reference\" \"R1\"\\n            (at 146.05 53.34 0)\\n            (effects\\n                (font\\n                    (size 1.27 1.27)\\n                )\\n            )\\n        )\\n        (property \"Value\" \"_US\"\\n            (at 146.05 53.34 0)\\n            (effects\\n                (font\\n                    (size 1.27 1.27)\\n                )\\n            )\\n        )\\n        (property \"Footprint\" \"\"\\n            (at 146.05 53.34 0)\\n            (effects\\n                (font\\n                    (size 1.27 1.27)\\n                )\\n                (hide yes)\\n            )\\n        )\\n        (property \"Datasheet\" \"~\"\\n            (at 146.05 53.34 0)\\n            (effects\\n                (font\\n                    (size 1.27 1.27)\\n                )\\n                (hide yes)\\n            )\\n        )\\n        (property \"Description\" \"esistor, US symbol\"\\n            (at 146.05 53.34 0)\\n            (effects\\n                (font\\n                    (size 1.27 1.27)\\n                )\\n                (hide yes)\\n            )\\n        )\\n        (instances\\n            (project \"temp_59526c9f-d2d4-4c47-ba25-9347dc717d36\"\\n                (path \"/59526c9f-d2d4-4c47-ba25-9347dc717d36\"\\n                    (reference \"R1\")\\n                    (unit 1)\\n                )\\n            )\\n        )\\n    )    \\n \\n \\t(sheet_instances\\n\\t\\t(path \"/\"\\n\\t\\t\\t(page \"1\")\\n\\t\\t)\\n\\t)\\n)'"
      ]
     },
     "execution_count": 4,
     "metadata": {},
     "output_type": "execute_result"
    }
   ],
   "source": [
    "import kicad_utils\n",
    "temp_file_path = \"testProject/testProject.kicad_sch\"\n",
    "\n",
    "temp_components = [\n",
    "    # {\"lib_id\": \":SW_DPST_x2\", \"x\": 143.51, \"y\": 77.47, \"angle\":0, \"reference_name\": \"SW1A\"},\n",
    "    # {\"lib_id\": \"Device:Ammeter_AC\", \"x\": 133.35, \"y\": 64.77, \"angle\":0, \"reference_name\": \"BT1\"},\n",
    "    # {\"lib_id\": \"Device:Ammeter_AC\", \"x\": 133.35, \"y\": 64.77, \"angle\":0, \"reference_name\": \"BT1\"},\n",
    "    {\"lib_id\": \"Device:R_US\", \"x\": 146.05, \"y\": 53.34, \"angle\":90, \"reference_name\": \"R1\"}\n",
    "]\n",
    "\n",
    "kicad_utils.modify_kicad_sch_file(components = temp_components, file_path=temp_file_path)"
   ]
  },
  {
   "cell_type": "markdown",
   "metadata": {},
   "source": [
    "## Try adding wires\n"
   ]
  },
  {
   "cell_type": "code",
   "execution_count": 22,
   "metadata": {},
   "outputs": [],
   "source": [
    "import skip\n",
    "\n",
    "\n",
    "# load a schematic\n",
    "schem = skip.Schematic(\"testProject/testProject.kicad_sch\")\n",
    "print(schem)"
   ]
  },
  {
   "cell_type": "code",
   "execution_count": 54,
   "metadata": {},
   "outputs": [
    {
     "name": "stdout",
     "output_type": "stream",
     "text": [
      "<AtValue (142.24, 53.34, 180)>\n",
      "<AtValue (160.02, 66.04, 90)>\n"
     ]
    }
   ],
   "source": [
    "# print(schem.symbol.R1.location)\n",
    "for component in schem.symbol:\n",
    "    print(component.pin[0].location)\n",
    "\n",
    "    # print(type(component))"
   ]
  },
  {
   "cell_type": "code",
   "execution_count": null,
   "metadata": {},
   "outputs": [],
   "source": []
  }
 ],
 "metadata": {
  "kernelspec": {
   "display_name": ".venv",
   "language": "python",
   "name": "python3"
  },
  "language_info": {
   "codemirror_mode": {
    "name": "ipython",
    "version": 3
   },
   "file_extension": ".py",
   "mimetype": "text/x-python",
   "name": "python",
   "nbconvert_exporter": "python",
   "pygments_lexer": "ipython3",
   "version": "3.11.8"
  }
 },
 "nbformat": 4,
 "nbformat_minor": 2
}

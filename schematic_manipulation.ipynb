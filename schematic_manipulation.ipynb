{
 "cells": [
  {
   "cell_type": "markdown",
   "metadata": {},
   "source": [
    "## GPT/Claude based Schematic component recognition"
   ]
  },
  {
   "cell_type": "code",
   "execution_count": 1,
   "metadata": {},
   "outputs": [
    {
     "name": "stdout",
     "output_type": "stream",
     "text": [
      "OPENAI_API_KEY loaded successfully.\n",
      "\u001b[32;1m\u001b[1;3m[chain/start]\u001b[0m \u001b[1m[1:chain:RunnableSequence] Entering Chain run with input:\n",
      "\u001b[0m{\n",
      "  \"image_path\": \"simple_circuit.png\",\n",
      "  \"prompt\": \"\\n   Given the image which contains a circuit schematic drawing, provide the following information:\\n   - A count of how many components are in the image\\n   - A list of wires present on this schematic drawing, including start and end position on the image (you may approaximate using pixel locations)\\n   - A list of components present on this schematic drawing, including their name, position on the image, and orientation (you may approaximate using pixel locations)\\n   - A list of connections made by the components, you must make sure all the referneces stays consistent throught your answer!\\n   Please just reply ONLY in JSON output and nothing else!\\n   \"\n",
      "}\n",
      "\u001b[32;1m\u001b[1;3m[chain/start]\u001b[0m \u001b[1m[1:chain:RunnableSequence > 2:chain:TransformChain] Entering Chain run with input:\n",
      "\u001b[0m{\n",
      "  \"image_path\": \"simple_circuit.png\",\n",
      "  \"prompt\": \"\\n   Given the image which contains a circuit schematic drawing, provide the following information:\\n   - A count of how many components are in the image\\n   - A list of wires present on this schematic drawing, including start and end position on the image (you may approaximate using pixel locations)\\n   - A list of components present on this schematic drawing, including their name, position on the image, and orientation (you may approaximate using pixel locations)\\n   - A list of connections made by the components, you must make sure all the referneces stays consistent throught your answer!\\n   Please just reply ONLY in JSON output and nothing else!\\n   \"\n",
      "}\n",
      "\u001b[36;1m\u001b[1;3m[chain/end]\u001b[0m \u001b[1m[1:chain:RunnableSequence > 2:chain:TransformChain] [0ms] Exiting Chain run with output:\n",
      "\u001b[0m{\n",
      "  \"image\": \"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\"\n",
      "}\n",
      "\u001b[32;1m\u001b[1;3m[chain/start]\u001b[0m \u001b[1m[1:chain:RunnableSequence > 3:chain:image_model] Entering Chain run with input:\n",
      "\u001b[0m{\n",
      "  \"image_path\": \"simple_circuit.png\",\n",
      "  \"prompt\": \"\\n   Given the image which contains a circuit schematic drawing, provide the following information:\\n   - A count of how many components are in the image\\n   - A list of wires present on this schematic drawing, including start and end position on the image (you may approaximate using pixel locations)\\n   - A list of components present on this schematic drawing, including their name, position on the image, and orientation (you may approaximate using pixel locations)\\n   - A list of connections made by the components, you must make sure all the referneces stays consistent throught your answer!\\n   Please just reply ONLY in JSON output and nothing else!\\n   \",\n",
      "  \"image\": \"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\"\n",
      "}\n",
      "\u001b[32;1m\u001b[1;3m[llm/start]\u001b[0m \u001b[1m[1:chain:RunnableSequence > 3:chain:image_model > 4:llm:ChatOpenAI] Entering LLM run with input:\n",
      "\u001b[0m{\n",
      "  \"prompts\": [\n",
      "    \"Human: [{'type': 'text', 'text': '\\\\n   Given the image which contains a circuit schematic drawing, provide the following information:\\\\n   - A count of how many components are in the image\\\\n   - A list of wires present on this schematic drawing, including start and end position on the image (you may approaximate using pixel locations)\\\\n   - A list of components present on this schematic drawing, including their name, position on the image, and orientation (you may approaximate using pixel locations)\\\\n   - A list of connections made by the components, you must make sure all the referneces stays consistent throught your answer!\\\\n   Please just reply ONLY in JSON output and nothing else!\\\\n   '}, {'type': 'text', 'text': 'The output should be formatted as a JSON instance that conforms to the JSON schema below.\\\\n\\\\nAs an example, for the schema {\\\"properties\\\": {\\\"foo\\\": {\\\"title\\\": \\\"Foo\\\", \\\"description\\\": \\\"a list of strings\\\", \\\"type\\\": \\\"array\\\", \\\"items\\\": {\\\"type\\\": \\\"string\\\"}}}, \\\"required\\\": [\\\"foo\\\"]}\\\\nthe object {\\\"foo\\\": [\\\"bar\\\", \\\"baz\\\"]} is a well-formatted instance of the schema. The object {\\\"properties\\\": {\\\"foo\\\": [\\\"bar\\\", \\\"baz\\\"]}} is not well-formatted.\\\\n\\\\nHere is the output schema:\\\\n```\\\\n{\\\"description\\\": \\\"Information that describes the schematics\\\", \\\"properties\\\": {\\\"detected_wires\\\": {\\\"title\\\": \\\"Detected Wires\\\", \\\"description\\\": \\\"list of dictionary containing beginning and end coordinates of the wire\\\", \\\"type\\\": \\\"array\\\", \\\"items\\\": {\\\"$ref\\\": \\\"#/definitions/Wire\\\"}}, \\\"detected_components\\\": {\\\"title\\\": \\\"Detected Components\\\", \\\"description\\\": \\\"list of dictionary containing the name,XY coordinates, angle and reference for a circuit component\\\", \\\"type\\\": \\\"array\\\", \\\"items\\\": {\\\"$ref\\\": \\\"#/definitions/Component\\\"}}, \\\"component_connections\\\": {\\\"title\\\": \\\"Component Connections\\\", \\\"description\\\": \\\"list of discitonaty containing the connections from one pin of a reference to the pin of another reference\\\", \\\"type\\\": \\\"array\\\", \\\"items\\\": {\\\"$ref\\\": \\\"#/definitions/Connections\\\"}}}, \\\"required\\\": [\\\"detected_wires\\\", \\\"detected_components\\\", \\\"component_connections\\\"], \\\"definitions\\\": {\\\"Wire\\\": {\\\"title\\\": \\\"Wire\\\", \\\"type\\\": \\\"object\\\", \\\"properties\\\": {\\\"x\\\": {\\\"title\\\": \\\"X\\\", \\\"type\\\": \\\"number\\\"}, \\\"y\\\": {\\\"title\\\": \\\"Y\\\", \\\"type\\\": \\\"number\\\"}, \\\"end_x\\\": {\\\"title\\\": \\\"End X\\\", \\\"type\\\": \\\"number\\\"}, \\\"end_y\\\": {\\\"title\\\": \\\"End Y\\\", \\\"type\\\": \\\"number\\\"}}, \\\"required\\\": [\\\"x\\\", \\\"y\\\", \\\"end_x\\\", \\\"end_y\\\"]}, \\\"Component\\\": {\\\"title\\\": \\\"Component\\\", \\\"type\\\": \\\"object\\\", \\\"properties\\\": {\\\"lib_id\\\": {\\\"title\\\": \\\"Lib Id\\\", \\\"type\\\": \\\"string\\\"}, \\\"x\\\": {\\\"title\\\": \\\"X\\\", \\\"type\\\": \\\"number\\\"}, \\\"y\\\": {\\\"title\\\": \\\"Y\\\", \\\"type\\\": \\\"number\\\"}, \\\"angle\\\": {\\\"title\\\": \\\"Angle\\\", \\\"type\\\": \\\"number\\\"}, \\\"reference\\\": {\\\"title\\\": \\\"Reference\\\", \\\"type\\\": \\\"string\\\"}, \\\"value\\\": {\\\"title\\\": \\\"Value\\\", \\\"type\\\": \\\"string\\\"}}, \\\"required\\\": [\\\"lib_id\\\", \\\"x\\\", \\\"y\\\", \\\"angle\\\", \\\"reference\\\", \\\"value\\\"]}, \\\"Connections\\\": {\\\"title\\\": \\\"Connections\\\", \\\"type\\\": \\\"object\\\", \\\"properties\\\": {\\\"componentA_reference\\\": {\\\"title\\\": \\\"Componenta Reference\\\", \\\"type\\\": \\\"string\\\"}, \\\"componentA_pin\\\": {\\\"title\\\": \\\"Componenta Pin\\\", \\\"type\\\": \\\"integer\\\"}, \\\"componentB_reference\\\": {\\\"title\\\": \\\"Componentb Reference\\\", \\\"type\\\": \\\"string\\\"}, \\\"componentB_pin\\\": {\\\"title\\\": \\\"Componentb Pin\\\", \\\"type\\\": \\\"integer\\\"}}, \\\"required\\\": [\\\"componentA_reference\\\", \\\"componentA_pin\\\", \\\"componentB_reference\\\", \\\"componentB_pin\\\"]}}}\\\\n```'}, {'type': 'image_url', 'image_url': {'url': 'data:image/png;base64,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'}}]\"\n",
      "  ]\n",
      "}\n",
      "\u001b[36;1m\u001b[1;3m[llm/end]\u001b[0m \u001b[1m[1:chain:RunnableSequence > 3:chain:image_model > 4:llm:ChatOpenAI] [18.95s] Exiting LLM run with output:\n",
      "\u001b[0m{\n",
      "  \"generations\": [\n",
      "    [\n",
      "      {\n",
      "        \"text\": \"```json\\n{\\n  \\\"detected_wires\\\": [\\n    {\\\"x\\\": 50, \\\"y\\\": 75, \\\"end_x\\\": 100, \\\"end_y\\\": 75},\\n    {\\\"x\\\": 100, \\\"y\\\": 75, \\\"end_x\\\": 150, \\\"end_y\\\": 75},\\n    {\\\"x\\\": 150, \\\"y\\\": 75, \\\"end_x\\\": 200, \\\"end_y\\\": 75},\\n    {\\\"x\\\": 200, \\\"y\\\": 75, \\\"end_x\\\": 250, \\\"end_y\\\": 75},\\n    {\\\"x\\\": 100, \\\"y\\\": 75, \\\"end_x\\\": 100, \\\"end_y\\\": 125},\\n    {\\\"x\\\": 150, \\\"y\\\": 75, \\\"end_x\\\": 150, \\\"end_y\\\": 125}\\n  ],\\n  \\\"detected_components\\\": [\\n    {\\\"lib_id\\\": \\\"R\\\", \\\"x\\\": 75, \\\"y\\\": 75, \\\"angle\\\": 0, \\\"reference\\\": \\\"R2\\\", \\\"value\\\": \\\"R\\\"},\\n    {\\\"lib_id\\\": \\\"R\\\", \\\"x\\\": 125, \\\"y\\\": 75, \\\"angle\\\": 0, \\\"reference\\\": \\\"R1\\\", \\\"value\\\": \\\"R\\\"},\\n    {\\\"lib_id\\\": \\\"C\\\", \\\"x\\\": 225, \\\"y\\\": 75, \\\"angle\\\": 0, \\\"reference\\\": \\\"C1\\\", \\\"value\\\": \\\"C\\\"}\\n  ],\\n  \\\"component_connections\\\": [\\n    {\\\"componentA_reference\\\": \\\"R2\\\", \\\"componentA_pin\\\": 1, \\\"componentB_reference\\\": \\\"R1\\\", \\\"componentB_pin\\\": 1},\\n    {\\\"componentA_reference\\\": \\\"R2\\\", \\\"componentA_pin\\\": 2, \\\"componentB_reference\\\": \\\"R1\\\", \\\"componentB_pin\\\": 2},\\n    {\\\"componentA_reference\\\": \\\"R1\\\", \\\"componentA_pin\\\": 1, \\\"componentB_reference\\\": \\\"C1\\\", \\\"componentB_pin\\\": 1},\\n    {\\\"componentA_reference\\\": \\\"R1\\\", \\\"componentA_pin\\\": 2, \\\"componentB_reference\\\": \\\"C1\\\", \\\"componentB_pin\\\": 2}\\n  ]\\n}\\n```\",\n",
      "        \"generation_info\": {\n",
      "          \"finish_reason\": \"stop\",\n",
      "          \"logprobs\": null\n",
      "        },\n",
      "        \"type\": \"ChatGeneration\",\n",
      "        \"message\": {\n",
      "          \"lc\": 1,\n",
      "          \"type\": \"constructor\",\n",
      "          \"id\": [\n",
      "            \"langchain\",\n",
      "            \"schema\",\n",
      "            \"messages\",\n",
      "            \"AIMessage\"\n",
      "          ],\n",
      "          \"kwargs\": {\n",
      "            \"content\": \"```json\\n{\\n  \\\"detected_wires\\\": [\\n    {\\\"x\\\": 50, \\\"y\\\": 75, \\\"end_x\\\": 100, \\\"end_y\\\": 75},\\n    {\\\"x\\\": 100, \\\"y\\\": 75, \\\"end_x\\\": 150, \\\"end_y\\\": 75},\\n    {\\\"x\\\": 150, \\\"y\\\": 75, \\\"end_x\\\": 200, \\\"end_y\\\": 75},\\n    {\\\"x\\\": 200, \\\"y\\\": 75, \\\"end_x\\\": 250, \\\"end_y\\\": 75},\\n    {\\\"x\\\": 100, \\\"y\\\": 75, \\\"end_x\\\": 100, \\\"end_y\\\": 125},\\n    {\\\"x\\\": 150, \\\"y\\\": 75, \\\"end_x\\\": 150, \\\"end_y\\\": 125}\\n  ],\\n  \\\"detected_components\\\": [\\n    {\\\"lib_id\\\": \\\"R\\\", \\\"x\\\": 75, \\\"y\\\": 75, \\\"angle\\\": 0, \\\"reference\\\": \\\"R2\\\", \\\"value\\\": \\\"R\\\"},\\n    {\\\"lib_id\\\": \\\"R\\\", \\\"x\\\": 125, \\\"y\\\": 75, \\\"angle\\\": 0, \\\"reference\\\": \\\"R1\\\", \\\"value\\\": \\\"R\\\"},\\n    {\\\"lib_id\\\": \\\"C\\\", \\\"x\\\": 225, \\\"y\\\": 75, \\\"angle\\\": 0, \\\"reference\\\": \\\"C1\\\", \\\"value\\\": \\\"C\\\"}\\n  ],\\n  \\\"component_connections\\\": [\\n    {\\\"componentA_reference\\\": \\\"R2\\\", \\\"componentA_pin\\\": 1, \\\"componentB_reference\\\": \\\"R1\\\", \\\"componentB_pin\\\": 1},\\n    {\\\"componentA_reference\\\": \\\"R2\\\", \\\"componentA_pin\\\": 2, \\\"componentB_reference\\\": \\\"R1\\\", \\\"componentB_pin\\\": 2},\\n    {\\\"componentA_reference\\\": \\\"R1\\\", \\\"componentA_pin\\\": 1, \\\"componentB_reference\\\": \\\"C1\\\", \\\"componentB_pin\\\": 1},\\n    {\\\"componentA_reference\\\": \\\"R1\\\", \\\"componentA_pin\\\": 2, \\\"componentB_reference\\\": \\\"C1\\\", \\\"componentB_pin\\\": 2}\\n  ]\\n}\\n```\",\n",
      "            \"additional_kwargs\": {}\n",
      "          }\n",
      "        }\n",
      "      }\n",
      "    ]\n",
      "  ],\n",
      "  \"llm_output\": {\n",
      "    \"token_usage\": {\n",
      "      \"completion_tokens\": 452,\n",
      "      \"prompt_tokens\": 1066,\n",
      "      \"total_tokens\": 1518\n",
      "    },\n",
      "    \"model_name\": \"gpt-4-vision-preview\",\n",
      "    \"system_fingerprint\": null\n",
      "  },\n",
      "  \"run\": null\n",
      "}\n",
      "\u001b[36;1m\u001b[1;3m[chain/end]\u001b[0m \u001b[1m[1:chain:RunnableSequence > 3:chain:image_model] [19.01s] Exiting Chain run with output:\n",
      "\u001b[0m{\n",
      "  \"output\": \"```json\\n{\\n  \\\"detected_wires\\\": [\\n    {\\\"x\\\": 50, \\\"y\\\": 75, \\\"end_x\\\": 100, \\\"end_y\\\": 75},\\n    {\\\"x\\\": 100, \\\"y\\\": 75, \\\"end_x\\\": 150, \\\"end_y\\\": 75},\\n    {\\\"x\\\": 150, \\\"y\\\": 75, \\\"end_x\\\": 200, \\\"end_y\\\": 75},\\n    {\\\"x\\\": 200, \\\"y\\\": 75, \\\"end_x\\\": 250, \\\"end_y\\\": 75},\\n    {\\\"x\\\": 100, \\\"y\\\": 75, \\\"end_x\\\": 100, \\\"end_y\\\": 125},\\n    {\\\"x\\\": 150, \\\"y\\\": 75, \\\"end_x\\\": 150, \\\"end_y\\\": 125}\\n  ],\\n  \\\"detected_components\\\": [\\n    {\\\"lib_id\\\": \\\"R\\\", \\\"x\\\": 75, \\\"y\\\": 75, \\\"angle\\\": 0, \\\"reference\\\": \\\"R2\\\", \\\"value\\\": \\\"R\\\"},\\n    {\\\"lib_id\\\": \\\"R\\\", \\\"x\\\": 125, \\\"y\\\": 75, \\\"angle\\\": 0, \\\"reference\\\": \\\"R1\\\", \\\"value\\\": \\\"R\\\"},\\n    {\\\"lib_id\\\": \\\"C\\\", \\\"x\\\": 225, \\\"y\\\": 75, \\\"angle\\\": 0, \\\"reference\\\": \\\"C1\\\", \\\"value\\\": \\\"C\\\"}\\n  ],\\n  \\\"component_connections\\\": [\\n    {\\\"componentA_reference\\\": \\\"R2\\\", \\\"componentA_pin\\\": 1, \\\"componentB_reference\\\": \\\"R1\\\", \\\"componentB_pin\\\": 1},\\n    {\\\"componentA_reference\\\": \\\"R2\\\", \\\"componentA_pin\\\": 2, \\\"componentB_reference\\\": \\\"R1\\\", \\\"componentB_pin\\\": 2},\\n    {\\\"componentA_reference\\\": \\\"R1\\\", \\\"componentA_pin\\\": 1, \\\"componentB_reference\\\": \\\"C1\\\", \\\"componentB_pin\\\": 1},\\n    {\\\"componentA_reference\\\": \\\"R1\\\", \\\"componentA_pin\\\": 2, \\\"componentB_reference\\\": \\\"C1\\\", \\\"componentB_pin\\\": 2}\\n  ]\\n}\\n```\"\n",
      "}\n",
      "\u001b[32;1m\u001b[1;3m[chain/start]\u001b[0m \u001b[1m[1:chain:RunnableSequence > 5:parser:JsonOutputParser] Entering Parser run with input:\n",
      "\u001b[0m{\n",
      "  \"input\": \"```json\\n{\\n  \\\"detected_wires\\\": [\\n    {\\\"x\\\": 50, \\\"y\\\": 75, \\\"end_x\\\": 100, \\\"end_y\\\": 75},\\n    {\\\"x\\\": 100, \\\"y\\\": 75, \\\"end_x\\\": 150, \\\"end_y\\\": 75},\\n    {\\\"x\\\": 150, \\\"y\\\": 75, \\\"end_x\\\": 200, \\\"end_y\\\": 75},\\n    {\\\"x\\\": 200, \\\"y\\\": 75, \\\"end_x\\\": 250, \\\"end_y\\\": 75},\\n    {\\\"x\\\": 100, \\\"y\\\": 75, \\\"end_x\\\": 100, \\\"end_y\\\": 125},\\n    {\\\"x\\\": 150, \\\"y\\\": 75, \\\"end_x\\\": 150, \\\"end_y\\\": 125}\\n  ],\\n  \\\"detected_components\\\": [\\n    {\\\"lib_id\\\": \\\"R\\\", \\\"x\\\": 75, \\\"y\\\": 75, \\\"angle\\\": 0, \\\"reference\\\": \\\"R2\\\", \\\"value\\\": \\\"R\\\"},\\n    {\\\"lib_id\\\": \\\"R\\\", \\\"x\\\": 125, \\\"y\\\": 75, \\\"angle\\\": 0, \\\"reference\\\": \\\"R1\\\", \\\"value\\\": \\\"R\\\"},\\n    {\\\"lib_id\\\": \\\"C\\\", \\\"x\\\": 225, \\\"y\\\": 75, \\\"angle\\\": 0, \\\"reference\\\": \\\"C1\\\", \\\"value\\\": \\\"C\\\"}\\n  ],\\n  \\\"component_connections\\\": [\\n    {\\\"componentA_reference\\\": \\\"R2\\\", \\\"componentA_pin\\\": 1, \\\"componentB_reference\\\": \\\"R1\\\", \\\"componentB_pin\\\": 1},\\n    {\\\"componentA_reference\\\": \\\"R2\\\", \\\"componentA_pin\\\": 2, \\\"componentB_reference\\\": \\\"R1\\\", \\\"componentB_pin\\\": 2},\\n    {\\\"componentA_reference\\\": \\\"R1\\\", \\\"componentA_pin\\\": 1, \\\"componentB_reference\\\": \\\"C1\\\", \\\"componentB_pin\\\": 1},\\n    {\\\"componentA_reference\\\": \\\"R1\\\", \\\"componentA_pin\\\": 2, \\\"componentB_reference\\\": \\\"C1\\\", \\\"componentB_pin\\\": 2}\\n  ]\\n}\\n```\"\n",
      "}\n",
      "\u001b[36;1m\u001b[1;3m[chain/end]\u001b[0m \u001b[1m[1:chain:RunnableSequence > 5:parser:JsonOutputParser] [0ms] Exiting Parser run with output:\n",
      "\u001b[0m{\n",
      "  \"detected_wires\": [\n",
      "    {\n",
      "      \"x\": 50,\n",
      "      \"y\": 75,\n",
      "      \"end_x\": 100,\n",
      "      \"end_y\": 75\n",
      "    },\n",
      "    {\n",
      "      \"x\": 100,\n",
      "      \"y\": 75,\n",
      "      \"end_x\": 150,\n",
      "      \"end_y\": 75\n",
      "    },\n",
      "    {\n",
      "      \"x\": 150,\n",
      "      \"y\": 75,\n",
      "      \"end_x\": 200,\n",
      "      \"end_y\": 75\n",
      "    },\n",
      "    {\n",
      "      \"x\": 200,\n",
      "      \"y\": 75,\n",
      "      \"end_x\": 250,\n",
      "      \"end_y\": 75\n",
      "    },\n",
      "    {\n",
      "      \"x\": 100,\n",
      "      \"y\": 75,\n",
      "      \"end_x\": 100,\n",
      "      \"end_y\": 125\n",
      "    },\n",
      "    {\n",
      "      \"x\": 150,\n",
      "      \"y\": 75,\n",
      "      \"end_x\": 150,\n",
      "      \"end_y\": 125\n",
      "    }\n",
      "  ],\n",
      "  \"detected_components\": [\n",
      "    {\n",
      "      \"lib_id\": \"R\",\n",
      "      \"x\": 75,\n",
      "      \"y\": 75,\n",
      "      \"angle\": 0,\n",
      "      \"reference\": \"R2\",\n",
      "      \"value\": \"R\"\n",
      "    },\n",
      "    {\n",
      "      \"lib_id\": \"R\",\n",
      "      \"x\": 125,\n",
      "      \"y\": 75,\n",
      "      \"angle\": 0,\n",
      "      \"reference\": \"R1\",\n",
      "      \"value\": \"R\"\n",
      "    },\n",
      "    {\n",
      "      \"lib_id\": \"C\",\n",
      "      \"x\": 225,\n",
      "      \"y\": 75,\n",
      "      \"angle\": 0,\n",
      "      \"reference\": \"C1\",\n",
      "      \"value\": \"C\"\n",
      "    }\n",
      "  ],\n",
      "  \"component_connections\": [\n",
      "    {\n",
      "      \"componentA_reference\": \"R2\",\n",
      "      \"componentA_pin\": 1,\n",
      "      \"componentB_reference\": \"R1\",\n",
      "      \"componentB_pin\": 1\n",
      "    },\n",
      "    {\n",
      "      \"componentA_reference\": \"R2\",\n",
      "      \"componentA_pin\": 2,\n",
      "      \"componentB_reference\": \"R1\",\n",
      "      \"componentB_pin\": 2\n",
      "    },\n",
      "    {\n",
      "      \"componentA_reference\": \"R1\",\n",
      "      \"componentA_pin\": 1,\n",
      "      \"componentB_reference\": \"C1\",\n",
      "      \"componentB_pin\": 1\n",
      "    },\n",
      "    {\n",
      "      \"componentA_reference\": \"R1\",\n",
      "      \"componentA_pin\": 2,\n",
      "      \"componentB_reference\": \"C1\",\n",
      "      \"componentB_pin\": 2\n",
      "    }\n",
      "  ]\n",
      "}\n",
      "\u001b[36;1m\u001b[1;3m[chain/end]\u001b[0m \u001b[1m[1:chain:RunnableSequence] [19.01s] Exiting Chain run with output:\n",
      "\u001b[0m{\n",
      "  \"detected_wires\": [\n",
      "    {\n",
      "      \"x\": 50,\n",
      "      \"y\": 75,\n",
      "      \"end_x\": 100,\n",
      "      \"end_y\": 75\n",
      "    },\n",
      "    {\n",
      "      \"x\": 100,\n",
      "      \"y\": 75,\n",
      "      \"end_x\": 150,\n",
      "      \"end_y\": 75\n",
      "    },\n",
      "    {\n",
      "      \"x\": 150,\n",
      "      \"y\": 75,\n",
      "      \"end_x\": 200,\n",
      "      \"end_y\": 75\n",
      "    },\n",
      "    {\n",
      "      \"x\": 200,\n",
      "      \"y\": 75,\n",
      "      \"end_x\": 250,\n",
      "      \"end_y\": 75\n",
      "    },\n",
      "    {\n",
      "      \"x\": 100,\n",
      "      \"y\": 75,\n",
      "      \"end_x\": 100,\n",
      "      \"end_y\": 125\n",
      "    },\n",
      "    {\n",
      "      \"x\": 150,\n",
      "      \"y\": 75,\n",
      "      \"end_x\": 150,\n",
      "      \"end_y\": 125\n",
      "    }\n",
      "  ],\n",
      "  \"detected_components\": [\n",
      "    {\n",
      "      \"lib_id\": \"R\",\n",
      "      \"x\": 75,\n",
      "      \"y\": 75,\n",
      "      \"angle\": 0,\n",
      "      \"reference\": \"R2\",\n",
      "      \"value\": \"R\"\n",
      "    },\n",
      "    {\n",
      "      \"lib_id\": \"R\",\n",
      "      \"x\": 125,\n",
      "      \"y\": 75,\n",
      "      \"angle\": 0,\n",
      "      \"reference\": \"R1\",\n",
      "      \"value\": \"R\"\n",
      "    },\n",
      "    {\n",
      "      \"lib_id\": \"C\",\n",
      "      \"x\": 225,\n",
      "      \"y\": 75,\n",
      "      \"angle\": 0,\n",
      "      \"reference\": \"C1\",\n",
      "      \"value\": \"C\"\n",
      "    }\n",
      "  ],\n",
      "  \"component_connections\": [\n",
      "    {\n",
      "      \"componentA_reference\": \"R2\",\n",
      "      \"componentA_pin\": 1,\n",
      "      \"componentB_reference\": \"R1\",\n",
      "      \"componentB_pin\": 1\n",
      "    },\n",
      "    {\n",
      "      \"componentA_reference\": \"R2\",\n",
      "      \"componentA_pin\": 2,\n",
      "      \"componentB_reference\": \"R1\",\n",
      "      \"componentB_pin\": 2\n",
      "    },\n",
      "    {\n",
      "      \"componentA_reference\": \"R1\",\n",
      "      \"componentA_pin\": 1,\n",
      "      \"componentB_reference\": \"C1\",\n",
      "      \"componentB_pin\": 1\n",
      "    },\n",
      "    {\n",
      "      \"componentA_reference\": \"R1\",\n",
      "      \"componentA_pin\": 2,\n",
      "      \"componentB_reference\": \"C1\",\n",
      "      \"componentB_pin\": 2\n",
      "    }\n",
      "  ]\n",
      "}\n"
     ]
    }
   ],
   "source": [
    "from LLMToSchematics import image_to_schematics\n",
    "\n",
    "result= image_to_schematics(\"simple_circuit.png\")"
   ]
  },
  {
   "cell_type": "markdown",
   "metadata": {},
   "source": [
    "# GPT Output processing"
   ]
  },
  {
   "cell_type": "code",
   "execution_count": 3,
   "metadata": {},
   "outputs": [],
   "source": [
    "# save the result\n",
    "\n",
    "# save the result dictionary to a file\n",
    "import json\n",
    "with open('result.json', 'w') as f:\n",
    "    json.dump(result, f, indent=4)\n",
    "\n",
    "\n"
   ]
  },
  {
   "cell_type": "code",
   "execution_count": 6,
   "metadata": {},
   "outputs": [],
   "source": [
    "# load the dictionary from the file\n",
    "import json\n",
    "with open('result.json', 'r') as f:\n",
    "    result = json.load(f)"
   ]
  },
  {
   "cell_type": "code",
   "execution_count": 3,
   "metadata": {},
   "outputs": [
    {
     "name": "stdout",
     "output_type": "stream",
     "text": [
      "R\n",
      "R\n",
      "C\n"
     ]
    }
   ],
   "source": [
    "# iterate through the list of dicts results and remove empty dicts\n",
    "for i in range(len(result['detected_components'])):\n",
    "    if not result['detected_components'][i]:\n",
    "        del result['detected_components'][i]\n",
    "for component in result[\"detected_components\"]:\n",
    "    print(component[\"lib_id\"])"
   ]
  },
  {
   "cell_type": "code",
   "execution_count": 4,
   "metadata": {},
   "outputs": [
    {
     "name": "stdout",
     "output_type": "stream",
     "text": [
      "R 75 75 0 R2\n",
      "R 125 75 0 R1\n",
      "C 225 75 0 C1\n"
     ]
    }
   ],
   "source": [
    "import kicad_utils\n",
    "kicad_schematic_path = \"testProject/testProject.kicad_sch\"\n",
    "list_of_component_dict =[]\n",
    "\n",
    "\n",
    "for symbol in result[\"detected_components\"]:\n",
    "    print(symbol[\"lib_id\"], symbol[\"x\"], symbol[\"y\"], symbol[\"angle\"], symbol[\"reference\"])\n",
    "    \n",
    "    # Add the component to the list\n",
    "    list_of_component_dict.append({\"lib_id\": kicad_utils.match_libId(symbol[\"lib_id\"]), \"x\": symbol[\"x\"], \"y\": symbol[\"y\"], \"angle\": symbol[\"angle\"], \"reference_name\": symbol[\"reference\"]})\n",
    "\n",
    "\n",
    "    "
   ]
  },
  {
   "cell_type": "code",
   "execution_count": 12,
   "metadata": {},
   "outputs": [
    {
     "name": "stdout",
     "output_type": "stream",
     "text": [
      "Modified file testProject/testProject.kicad_sch\n"
     ]
    },
    {
     "data": {
      "text/plain": [
       "'(kicad_sch\\n\\t(version 20231120)\\n\\t(generator \"eeschema\")\\n\\t(generator_version \"8.0\")\\n\\t(uuid \"dea647a7-e0d8-45e4-9bce-23c7e387cf2b\")\\n\\t(paper \"A4\")\\n\\t(lib_symbols\\n (symbol \"Device:C\"\\n\\t\\t(pin_numbers hide)\\n\\t\\t(pin_names\\n\\t\\t\\t(offset 0.254)\\n\\t\\t)\\n\\t\\t(exclude_from_sim no)\\n\\t\\t(in_bom yes)\\n\\t\\t(on_board yes)\\n\\t\\t(property \"Reference\" \"C\"\\n\\t\\t\\t(at 0.635 2.54 0)\\n\\t\\t\\t(effects\\n\\t\\t\\t\\t(font\\n\\t\\t\\t\\t\\t(size 1.27 1.27)\\n\\t\\t\\t\\t)\\n\\t\\t\\t\\t(justify left)\\n\\t\\t\\t)\\n\\t\\t)\\n\\t\\t(property \"Value\" \"C\"\\n\\t\\t\\t(at 0.635 -2.54 0)\\n\\t\\t\\t(effects\\n\\t\\t\\t\\t(font\\n\\t\\t\\t\\t\\t(size 1.27 1.27)\\n\\t\\t\\t\\t)\\n\\t\\t\\t\\t(justify left)\\n\\t\\t\\t)\\n\\t\\t)\\n\\t\\t(property \"Footprint\" \"\"\\n\\t\\t\\t(at 0.9652 -3.81 0)\\n\\t\\t\\t(effects\\n\\t\\t\\t\\t(font\\n\\t\\t\\t\\t\\t(size 1.27 1.27)\\n\\t\\t\\t\\t)\\n\\t\\t\\t\\t(hide yes)\\n\\t\\t\\t)\\n\\t\\t)\\n\\t\\t(property \"Datasheet\" \"~\"\\n\\t\\t\\t(at 0 0 0)\\n\\t\\t\\t(effects\\n\\t\\t\\t\\t(font\\n\\t\\t\\t\\t\\t(size 1.27 1.27)\\n\\t\\t\\t\\t)\\n\\t\\t\\t\\t(hide yes)\\n\\t\\t\\t)\\n\\t\\t)\\n\\t\\t(property \"Description\" \"Unpolarized capacitor\"\\n\\t\\t\\t(at 0 0 0)\\n\\t\\t\\t(effects\\n\\t\\t\\t\\t(font\\n\\t\\t\\t\\t\\t(size 1.27 1.27)\\n\\t\\t\\t\\t)\\n\\t\\t\\t\\t(hide yes)\\n\\t\\t\\t)\\n\\t\\t)\\n\\t\\t(property \"ki_keywords\" \"cap capacitor\"\\n\\t\\t\\t(at 0 0 0)\\n\\t\\t\\t(effects\\n\\t\\t\\t\\t(font\\n\\t\\t\\t\\t\\t(size 1.27 1.27)\\n\\t\\t\\t\\t)\\n\\t\\t\\t\\t(hide yes)\\n\\t\\t\\t)\\n\\t\\t)\\n\\t\\t(property \"ki_fp_filters\" \"C_*\"\\n\\t\\t\\t(at 0 0 0)\\n\\t\\t\\t(effects\\n\\t\\t\\t\\t(font\\n\\t\\t\\t\\t\\t(size 1.27 1.27)\\n\\t\\t\\t\\t)\\n\\t\\t\\t\\t(hide yes)\\n\\t\\t\\t)\\n\\t\\t)\\n\\t\\t(symbol \"C_0_1\"\\n\\t\\t\\t(polyline\\n\\t\\t\\t\\t(pts\\n\\t\\t\\t\\t\\t(xy -2.032 -0.762) (xy 2.032 -0.762)\\n\\t\\t\\t\\t)\\n\\t\\t\\t\\t(stroke\\n\\t\\t\\t\\t\\t(width 0.508)\\n\\t\\t\\t\\t\\t(type default)\\n\\t\\t\\t\\t)\\n\\t\\t\\t\\t(fill\\n\\t\\t\\t\\t\\t(type none)\\n\\t\\t\\t\\t)\\n\\t\\t\\t)\\n\\t\\t\\t(polyline\\n\\t\\t\\t\\t(pts\\n\\t\\t\\t\\t\\t(xy -2.032 0.762) (xy 2.032 0.762)\\n\\t\\t\\t\\t)\\n\\t\\t\\t\\t(stroke\\n\\t\\t\\t\\t\\t(width 0.508)\\n\\t\\t\\t\\t\\t(type default)\\n\\t\\t\\t\\t)\\n\\t\\t\\t\\t(fill\\n\\t\\t\\t\\t\\t(type none)\\n\\t\\t\\t\\t)\\n\\t\\t\\t)\\n\\t\\t)\\n\\t\\t(symbol \"C_1_1\"\\n\\t\\t\\t(pin passive line\\n\\t\\t\\t\\t(at 0 3.81 270)\\n\\t\\t\\t\\t(length 2.794)\\n\\t\\t\\t\\t(name \"~\"\\n\\t\\t\\t\\t\\t(effects\\n\\t\\t\\t\\t\\t\\t(font\\n\\t\\t\\t\\t\\t\\t\\t(size 1.27 1.27)\\n\\t\\t\\t\\t\\t\\t)\\n\\t\\t\\t\\t\\t)\\n\\t\\t\\t\\t)\\n\\t\\t\\t\\t(number \"1\"\\n\\t\\t\\t\\t\\t(effects\\n\\t\\t\\t\\t\\t\\t(font\\n\\t\\t\\t\\t\\t\\t\\t(size 1.27 1.27)\\n\\t\\t\\t\\t\\t\\t)\\n\\t\\t\\t\\t\\t)\\n\\t\\t\\t\\t)\\n\\t\\t\\t)\\n\\t\\t\\t(pin passive line\\n\\t\\t\\t\\t(at 0 -3.81 90)\\n\\t\\t\\t\\t(length 2.794)\\n\\t\\t\\t\\t(name \"~\"\\n\\t\\t\\t\\t\\t(effects\\n\\t\\t\\t\\t\\t\\t(font\\n\\t\\t\\t\\t\\t\\t\\t(size 1.27 1.27)\\n\\t\\t\\t\\t\\t\\t)\\n\\t\\t\\t\\t\\t)\\n\\t\\t\\t\\t)\\n\\t\\t\\t\\t(number \"2\"\\n\\t\\t\\t\\t\\t(effects\\n\\t\\t\\t\\t\\t\\t(font\\n\\t\\t\\t\\t\\t\\t\\t(size 1.27 1.27)\\n\\t\\t\\t\\t\\t\\t)\\n\\t\\t\\t\\t\\t)\\n\\t\\t\\t\\t)\\n\\t\\t\\t)\\n\\t\\t)\\n\\t) \\n \\n (symbol \"Device:R\"\\n\\t\\t(pin_numbers hide)\\n\\t\\t(pin_names\\n\\t\\t\\t(offset 0)\\n\\t\\t)\\n\\t\\t(exclude_from_sim no)\\n\\t\\t(in_bom yes)\\n\\t\\t(on_board yes)\\n\\t\\t(property \"Reference\" \"R\"\\n\\t\\t\\t(at 2.032 0 90)\\n\\t\\t\\t(effects\\n\\t\\t\\t\\t(font\\n\\t\\t\\t\\t\\t(size 1.27 1.27)\\n\\t\\t\\t\\t)\\n\\t\\t\\t)\\n\\t\\t)\\n\\t\\t(property \"Value\" \"R\"\\n\\t\\t\\t(at 0 0 90)\\n\\t\\t\\t(effects\\n\\t\\t\\t\\t(font\\n\\t\\t\\t\\t\\t(size 1.27 1.27)\\n\\t\\t\\t\\t)\\n\\t\\t\\t)\\n\\t\\t)\\n\\t\\t(property \"Footprint\" \"\"\\n\\t\\t\\t(at -1.778 0 90)\\n\\t\\t\\t(effects\\n\\t\\t\\t\\t(font\\n\\t\\t\\t\\t\\t(size 1.27 1.27)\\n\\t\\t\\t\\t)\\n\\t\\t\\t\\t(hide yes)\\n\\t\\t\\t)\\n\\t\\t)\\n\\t\\t(property \"Datasheet\" \"~\"\\n\\t\\t\\t(at 0 0 0)\\n\\t\\t\\t(effects\\n\\t\\t\\t\\t(font\\n\\t\\t\\t\\t\\t(size 1.27 1.27)\\n\\t\\t\\t\\t)\\n\\t\\t\\t\\t(hide yes)\\n\\t\\t\\t)\\n\\t\\t)\\n\\t\\t(property \"Description\" \"Resistor\"\\n\\t\\t\\t(at 0 0 0)\\n\\t\\t\\t(effects\\n\\t\\t\\t\\t(font\\n\\t\\t\\t\\t\\t(size 1.27 1.27)\\n\\t\\t\\t\\t)\\n\\t\\t\\t\\t(hide yes)\\n\\t\\t\\t)\\n\\t\\t)\\n\\t\\t(property \"ki_keywords\" \"R res resistor\"\\n\\t\\t\\t(at 0 0 0)\\n\\t\\t\\t(effects\\n\\t\\t\\t\\t(font\\n\\t\\t\\t\\t\\t(size 1.27 1.27)\\n\\t\\t\\t\\t)\\n\\t\\t\\t\\t(hide yes)\\n\\t\\t\\t)\\n\\t\\t)\\n\\t\\t(property \"ki_fp_filters\" \"R_*\"\\n\\t\\t\\t(at 0 0 0)\\n\\t\\t\\t(effects\\n\\t\\t\\t\\t(font\\n\\t\\t\\t\\t\\t(size 1.27 1.27)\\n\\t\\t\\t\\t)\\n\\t\\t\\t\\t(hide yes)\\n\\t\\t\\t)\\n\\t\\t)\\n\\t\\t(symbol \"R_0_1\"\\n\\t\\t\\t(rectangle\\n\\t\\t\\t\\t(start -1.016 -2.54)\\n\\t\\t\\t\\t(end 1.016 2.54)\\n\\t\\t\\t\\t(stroke\\n\\t\\t\\t\\t\\t(width 0.254)\\n\\t\\t\\t\\t\\t(type default)\\n\\t\\t\\t\\t)\\n\\t\\t\\t\\t(fill\\n\\t\\t\\t\\t\\t(type none)\\n\\t\\t\\t\\t)\\n\\t\\t\\t)\\n\\t\\t)\\n\\t\\t(symbol \"R_1_1\"\\n\\t\\t\\t(pin passive line\\n\\t\\t\\t\\t(at 0 3.81 270)\\n\\t\\t\\t\\t(length 1.27)\\n\\t\\t\\t\\t(name \"~\"\\n\\t\\t\\t\\t\\t(effects\\n\\t\\t\\t\\t\\t\\t(font\\n\\t\\t\\t\\t\\t\\t\\t(size 1.27 1.27)\\n\\t\\t\\t\\t\\t\\t)\\n\\t\\t\\t\\t\\t)\\n\\t\\t\\t\\t)\\n\\t\\t\\t\\t(number \"1\"\\n\\t\\t\\t\\t\\t(effects\\n\\t\\t\\t\\t\\t\\t(font\\n\\t\\t\\t\\t\\t\\t\\t(size 1.27 1.27)\\n\\t\\t\\t\\t\\t\\t)\\n\\t\\t\\t\\t\\t)\\n\\t\\t\\t\\t)\\n\\t\\t\\t)\\n\\t\\t\\t(pin passive line\\n\\t\\t\\t\\t(at 0 -3.81 90)\\n\\t\\t\\t\\t(length 1.27)\\n\\t\\t\\t\\t(name \"~\"\\n\\t\\t\\t\\t\\t(effects\\n\\t\\t\\t\\t\\t\\t(font\\n\\t\\t\\t\\t\\t\\t\\t(size 1.27 1.27)\\n\\t\\t\\t\\t\\t\\t)\\n\\t\\t\\t\\t\\t)\\n\\t\\t\\t\\t)\\n\\t\\t\\t\\t(number \"2\"\\n\\t\\t\\t\\t\\t(effects\\n\\t\\t\\t\\t\\t\\t(font\\n\\t\\t\\t\\t\\t\\t\\t(size 1.27 1.27)\\n\\t\\t\\t\\t\\t\\t)\\n\\t\\t\\t\\t\\t)\\n\\t\\t\\t\\t)\\n\\t\\t\\t)\\n\\t\\t)\\n\\t) \\n \\n (symbol \"Device:R\"\\n\\t\\t(pin_numbers hide)\\n\\t\\t(pin_names\\n\\t\\t\\t(offset 0)\\n\\t\\t)\\n\\t\\t(exclude_from_sim no)\\n\\t\\t(in_bom yes)\\n\\t\\t(on_board yes)\\n\\t\\t(property \"Reference\" \"R\"\\n\\t\\t\\t(at 2.032 0 90)\\n\\t\\t\\t(effects\\n\\t\\t\\t\\t(font\\n\\t\\t\\t\\t\\t(size 1.27 1.27)\\n\\t\\t\\t\\t)\\n\\t\\t\\t)\\n\\t\\t)\\n\\t\\t(property \"Value\" \"R\"\\n\\t\\t\\t(at 0 0 90)\\n\\t\\t\\t(effects\\n\\t\\t\\t\\t(font\\n\\t\\t\\t\\t\\t(size 1.27 1.27)\\n\\t\\t\\t\\t)\\n\\t\\t\\t)\\n\\t\\t)\\n\\t\\t(property \"Footprint\" \"\"\\n\\t\\t\\t(at -1.778 0 90)\\n\\t\\t\\t(effects\\n\\t\\t\\t\\t(font\\n\\t\\t\\t\\t\\t(size 1.27 1.27)\\n\\t\\t\\t\\t)\\n\\t\\t\\t\\t(hide yes)\\n\\t\\t\\t)\\n\\t\\t)\\n\\t\\t(property \"Datasheet\" \"~\"\\n\\t\\t\\t(at 0 0 0)\\n\\t\\t\\t(effects\\n\\t\\t\\t\\t(font\\n\\t\\t\\t\\t\\t(size 1.27 1.27)\\n\\t\\t\\t\\t)\\n\\t\\t\\t\\t(hide yes)\\n\\t\\t\\t)\\n\\t\\t)\\n\\t\\t(property \"Description\" \"Resistor\"\\n\\t\\t\\t(at 0 0 0)\\n\\t\\t\\t(effects\\n\\t\\t\\t\\t(font\\n\\t\\t\\t\\t\\t(size 1.27 1.27)\\n\\t\\t\\t\\t)\\n\\t\\t\\t\\t(hide yes)\\n\\t\\t\\t)\\n\\t\\t)\\n\\t\\t(property \"ki_keywords\" \"R res resistor\"\\n\\t\\t\\t(at 0 0 0)\\n\\t\\t\\t(effects\\n\\t\\t\\t\\t(font\\n\\t\\t\\t\\t\\t(size 1.27 1.27)\\n\\t\\t\\t\\t)\\n\\t\\t\\t\\t(hide yes)\\n\\t\\t\\t)\\n\\t\\t)\\n\\t\\t(property \"ki_fp_filters\" \"R_*\"\\n\\t\\t\\t(at 0 0 0)\\n\\t\\t\\t(effects\\n\\t\\t\\t\\t(font\\n\\t\\t\\t\\t\\t(size 1.27 1.27)\\n\\t\\t\\t\\t)\\n\\t\\t\\t\\t(hide yes)\\n\\t\\t\\t)\\n\\t\\t)\\n\\t\\t(symbol \"R_0_1\"\\n\\t\\t\\t(rectangle\\n\\t\\t\\t\\t(start -1.016 -2.54)\\n\\t\\t\\t\\t(end 1.016 2.54)\\n\\t\\t\\t\\t(stroke\\n\\t\\t\\t\\t\\t(width 0.254)\\n\\t\\t\\t\\t\\t(type default)\\n\\t\\t\\t\\t)\\n\\t\\t\\t\\t(fill\\n\\t\\t\\t\\t\\t(type none)\\n\\t\\t\\t\\t)\\n\\t\\t\\t)\\n\\t\\t)\\n\\t\\t(symbol \"R_1_1\"\\n\\t\\t\\t(pin passive line\\n\\t\\t\\t\\t(at 0 3.81 270)\\n\\t\\t\\t\\t(length 1.27)\\n\\t\\t\\t\\t(name \"~\"\\n\\t\\t\\t\\t\\t(effects\\n\\t\\t\\t\\t\\t\\t(font\\n\\t\\t\\t\\t\\t\\t\\t(size 1.27 1.27)\\n\\t\\t\\t\\t\\t\\t)\\n\\t\\t\\t\\t\\t)\\n\\t\\t\\t\\t)\\n\\t\\t\\t\\t(number \"1\"\\n\\t\\t\\t\\t\\t(effects\\n\\t\\t\\t\\t\\t\\t(font\\n\\t\\t\\t\\t\\t\\t\\t(size 1.27 1.27)\\n\\t\\t\\t\\t\\t\\t)\\n\\t\\t\\t\\t\\t)\\n\\t\\t\\t\\t)\\n\\t\\t\\t)\\n\\t\\t\\t(pin passive line\\n\\t\\t\\t\\t(at 0 -3.81 90)\\n\\t\\t\\t\\t(length 1.27)\\n\\t\\t\\t\\t(name \"~\"\\n\\t\\t\\t\\t\\t(effects\\n\\t\\t\\t\\t\\t\\t(font\\n\\t\\t\\t\\t\\t\\t\\t(size 1.27 1.27)\\n\\t\\t\\t\\t\\t\\t)\\n\\t\\t\\t\\t\\t)\\n\\t\\t\\t\\t)\\n\\t\\t\\t\\t(number \"2\"\\n\\t\\t\\t\\t\\t(effects\\n\\t\\t\\t\\t\\t\\t(font\\n\\t\\t\\t\\t\\t\\t\\t(size 1.27 1.27)\\n\\t\\t\\t\\t\\t\\t)\\n\\t\\t\\t\\t\\t)\\n\\t\\t\\t\\t)\\n\\t\\t\\t)\\n\\t\\t)\\n\\t) \\n )\\n\\n \\n(symbol\\n        (lib_id \"Device:C\")\\n        (at 225 75 0)\\n        (unit 1)\\n        (exclude_from_sim no)\\n        (in_bom yes)\\n        (on_board yes)\\n        (dnp no)\\n        (fields_autoplaced yes)\\n        (uuid \"f31e8111-f572-47f6-9e59-6a53a857f2e7\")\\n        (property \"Reference\" \"C1\"\\n            (at 225 75 0)\\n            (effects\\n                (font\\n                    (size 1.27 1.27)\\n                )\\n            )\\n        )\\n        (property \"Value\" \"\"\\n            (at 225 75 0)\\n            (effects\\n                (font\\n                    (size 1.27 1.27)\\n                )\\n            )\\n        )\\n        (property \"Footprint\" \"\"\\n            (at 225 75 0)\\n            (effects\\n                (font\\n                    (size 1.27 1.27)\\n                )\\n                (hide yes)\\n            )\\n        )\\n        (property \"Datasheet\" \"~\"\\n            (at 225 75 0)\\n            (effects\\n                (font\\n                    (size 1.27 1.27)\\n                )\\n                (hide yes)\\n            )\\n        )\\n        (property \"Description\" \"npolarized capacitor\"\\n            (at 225 75 0)\\n            (effects\\n                (font\\n                    (size 1.27 1.27)\\n                )\\n                (hide yes)\\n            )\\n        )\\n        (instances\\n            (project \"temp_dea647a7-e0d8-45e4-9bce-23c7e387cf2b\"\\n                (path \"/dea647a7-e0d8-45e4-9bce-23c7e387cf2b\"\\n                    (reference \"C1\")\\n                    (unit 1)\\n                )\\n            )\\n        )\\n    )    \\n \\n \\n \\n(symbol\\n        (lib_id \"Device:R\")\\n        (at 125 75 0)\\n        (unit 1)\\n        (exclude_from_sim no)\\n        (in_bom yes)\\n        (on_board yes)\\n        (dnp no)\\n        (fields_autoplaced yes)\\n        (uuid \"acc21404-8ca1-4ede-92fa-66a486f159e8\")\\n        (property \"Reference\" \"R1\"\\n            (at 125 75 0)\\n            (effects\\n                (font\\n                    (size 1.27 1.27)\\n                )\\n            )\\n        )\\n        (property \"Value\" \"\"\\n            (at 125 75 0)\\n            (effects\\n                (font\\n                    (size 1.27 1.27)\\n                )\\n            )\\n        )\\n        (property \"Footprint\" \"\"\\n            (at 125 75 0)\\n            (effects\\n                (font\\n                    (size 1.27 1.27)\\n                )\\n                (hide yes)\\n            )\\n        )\\n        (property \"Datasheet\" \"~\"\\n            (at 125 75 0)\\n            (effects\\n                (font\\n                    (size 1.27 1.27)\\n                )\\n                (hide yes)\\n            )\\n        )\\n        (property \"Description\" \"esistor\"\\n            (at 125 75 0)\\n            (effects\\n                (font\\n                    (size 1.27 1.27)\\n                )\\n                (hide yes)\\n            )\\n        )\\n        (instances\\n            (project \"temp_dea647a7-e0d8-45e4-9bce-23c7e387cf2b\"\\n                (path \"/dea647a7-e0d8-45e4-9bce-23c7e387cf2b\"\\n                    (reference \"R1\")\\n                    (unit 1)\\n                )\\n            )\\n        )\\n    )    \\n \\n \\n \\n(symbol\\n        (lib_id \"Device:R\")\\n        (at 75 75 0)\\n        (unit 1)\\n        (exclude_from_sim no)\\n        (in_bom yes)\\n        (on_board yes)\\n        (dnp no)\\n        (fields_autoplaced yes)\\n        (uuid \"73cedef9-f315-438c-8af6-bcee7e6ae0f0\")\\n        (property \"Reference\" \"R2\"\\n            (at 75 75 0)\\n            (effects\\n                (font\\n                    (size 1.27 1.27)\\n                )\\n            )\\n        )\\n        (property \"Value\" \"\"\\n            (at 75 75 0)\\n            (effects\\n                (font\\n                    (size 1.27 1.27)\\n                )\\n            )\\n        )\\n        (property \"Footprint\" \"\"\\n            (at 75 75 0)\\n            (effects\\n                (font\\n                    (size 1.27 1.27)\\n                )\\n                (hide yes)\\n            )\\n        )\\n        (property \"Datasheet\" \"~\"\\n            (at 75 75 0)\\n            (effects\\n                (font\\n                    (size 1.27 1.27)\\n                )\\n                (hide yes)\\n            )\\n        )\\n        (property \"Description\" \"esistor\"\\n            (at 75 75 0)\\n            (effects\\n                (font\\n                    (size 1.27 1.27)\\n                )\\n                (hide yes)\\n            )\\n        )\\n        (instances\\n            (project \"temp_dea647a7-e0d8-45e4-9bce-23c7e387cf2b\"\\n                (path \"/dea647a7-e0d8-45e4-9bce-23c7e387cf2b\"\\n                    (reference \"R2\")\\n                    (unit 1)\\n                )\\n            )\\n        )\\n    )    \\n \\n \\t(sheet_instances\\n\\t\\t(path \"/\"\\n\\t\\t\\t(page \"1\")\\n\\t\\t)\\n\\t)\\n)'"
      ]
     },
     "execution_count": 12,
     "metadata": {},
     "output_type": "execute_result"
    }
   ],
   "source": [
    "kicad_utils.modify_kicad_sch_file(components = list_of_component_dict, file_path=kicad_schematic_path)"
   ]
  },
  {
   "cell_type": "code",
   "execution_count": 11,
   "metadata": {},
   "outputs": [
    {
     "name": "stdout",
     "output_type": "stream",
     "text": [
      "Modified file testProject/testProject.kicad_sch\n"
     ]
    },
    {
     "data": {
      "text/plain": [
       "'(kicad_sch\\n\\t(version 20231120)\\n\\t(generator \"eeschema\")\\n\\t(generator_version \"8.0\")\\n\\t(uuid \"dea647a7-e0d8-45e4-9bce-23c7e387cf2b\")\\n\\t(paper \"A4\")\\n\\t(lib_symbols\\n (symbol \"Device:C\"\\n\\t\\t(pin_numbers hide)\\n\\t\\t(pin_names\\n\\t\\t\\t(offset 0.254)\\n\\t\\t)\\n\\t\\t(exclude_from_sim no)\\n\\t\\t(in_bom yes)\\n\\t\\t(on_board yes)\\n\\t\\t(property \"Reference\" \"C\"\\n\\t\\t\\t(at 0.635 2.54 0)\\n\\t\\t\\t(effects\\n\\t\\t\\t\\t(font\\n\\t\\t\\t\\t\\t(size 1.27 1.27)\\n\\t\\t\\t\\t)\\n\\t\\t\\t\\t(justify left)\\n\\t\\t\\t)\\n\\t\\t)\\n\\t\\t(property \"Value\" \"C\"\\n\\t\\t\\t(at 0.635 -2.54 0)\\n\\t\\t\\t(effects\\n\\t\\t\\t\\t(font\\n\\t\\t\\t\\t\\t(size 1.27 1.27)\\n\\t\\t\\t\\t)\\n\\t\\t\\t\\t(justify left)\\n\\t\\t\\t)\\n\\t\\t)\\n\\t\\t(property \"Footprint\" \"\"\\n\\t\\t\\t(at 0.9652 -3.81 0)\\n\\t\\t\\t(effects\\n\\t\\t\\t\\t(font\\n\\t\\t\\t\\t\\t(size 1.27 1.27)\\n\\t\\t\\t\\t)\\n\\t\\t\\t\\t(hide yes)\\n\\t\\t\\t)\\n\\t\\t)\\n\\t\\t(property \"Datasheet\" \"~\"\\n\\t\\t\\t(at 0 0 0)\\n\\t\\t\\t(effects\\n\\t\\t\\t\\t(font\\n\\t\\t\\t\\t\\t(size 1.27 1.27)\\n\\t\\t\\t\\t)\\n\\t\\t\\t\\t(hide yes)\\n\\t\\t\\t)\\n\\t\\t)\\n\\t\\t(property \"Description\" \"Unpolarized capacitor\"\\n\\t\\t\\t(at 0 0 0)\\n\\t\\t\\t(effects\\n\\t\\t\\t\\t(font\\n\\t\\t\\t\\t\\t(size 1.27 1.27)\\n\\t\\t\\t\\t)\\n\\t\\t\\t\\t(hide yes)\\n\\t\\t\\t)\\n\\t\\t)\\n\\t\\t(property \"ki_keywords\" \"cap capacitor\"\\n\\t\\t\\t(at 0 0 0)\\n\\t\\t\\t(effects\\n\\t\\t\\t\\t(font\\n\\t\\t\\t\\t\\t(size 1.27 1.27)\\n\\t\\t\\t\\t)\\n\\t\\t\\t\\t(hide yes)\\n\\t\\t\\t)\\n\\t\\t)\\n\\t\\t(property \"ki_fp_filters\" \"C_*\"\\n\\t\\t\\t(at 0 0 0)\\n\\t\\t\\t(effects\\n\\t\\t\\t\\t(font\\n\\t\\t\\t\\t\\t(size 1.27 1.27)\\n\\t\\t\\t\\t)\\n\\t\\t\\t\\t(hide yes)\\n\\t\\t\\t)\\n\\t\\t)\\n\\t\\t(symbol \"C_0_1\"\\n\\t\\t\\t(polyline\\n\\t\\t\\t\\t(pts\\n\\t\\t\\t\\t\\t(xy -2.032 -0.762) (xy 2.032 -0.762)\\n\\t\\t\\t\\t)\\n\\t\\t\\t\\t(stroke\\n\\t\\t\\t\\t\\t(width 0.508)\\n\\t\\t\\t\\t\\t(type default)\\n\\t\\t\\t\\t)\\n\\t\\t\\t\\t(fill\\n\\t\\t\\t\\t\\t(type none)\\n\\t\\t\\t\\t)\\n\\t\\t\\t)\\n\\t\\t\\t(polyline\\n\\t\\t\\t\\t(pts\\n\\t\\t\\t\\t\\t(xy -2.032 0.762) (xy 2.032 0.762)\\n\\t\\t\\t\\t)\\n\\t\\t\\t\\t(stroke\\n\\t\\t\\t\\t\\t(width 0.508)\\n\\t\\t\\t\\t\\t(type default)\\n\\t\\t\\t\\t)\\n\\t\\t\\t\\t(fill\\n\\t\\t\\t\\t\\t(type none)\\n\\t\\t\\t\\t)\\n\\t\\t\\t)\\n\\t\\t)\\n\\t\\t(symbol \"C_1_1\"\\n\\t\\t\\t(pin passive line\\n\\t\\t\\t\\t(at 0 3.81 270)\\n\\t\\t\\t\\t(length 2.794)\\n\\t\\t\\t\\t(name \"~\"\\n\\t\\t\\t\\t\\t(effects\\n\\t\\t\\t\\t\\t\\t(font\\n\\t\\t\\t\\t\\t\\t\\t(size 1.27 1.27)\\n\\t\\t\\t\\t\\t\\t)\\n\\t\\t\\t\\t\\t)\\n\\t\\t\\t\\t)\\n\\t\\t\\t\\t(number \"1\"\\n\\t\\t\\t\\t\\t(effects\\n\\t\\t\\t\\t\\t\\t(font\\n\\t\\t\\t\\t\\t\\t\\t(size 1.27 1.27)\\n\\t\\t\\t\\t\\t\\t)\\n\\t\\t\\t\\t\\t)\\n\\t\\t\\t\\t)\\n\\t\\t\\t)\\n\\t\\t\\t(pin passive line\\n\\t\\t\\t\\t(at 0 -3.81 90)\\n\\t\\t\\t\\t(length 2.794)\\n\\t\\t\\t\\t(name \"~\"\\n\\t\\t\\t\\t\\t(effects\\n\\t\\t\\t\\t\\t\\t(font\\n\\t\\t\\t\\t\\t\\t\\t(size 1.27 1.27)\\n\\t\\t\\t\\t\\t\\t)\\n\\t\\t\\t\\t\\t)\\n\\t\\t\\t\\t)\\n\\t\\t\\t\\t(number \"2\"\\n\\t\\t\\t\\t\\t(effects\\n\\t\\t\\t\\t\\t\\t(font\\n\\t\\t\\t\\t\\t\\t\\t(size 1.27 1.27)\\n\\t\\t\\t\\t\\t\\t)\\n\\t\\t\\t\\t\\t)\\n\\t\\t\\t\\t)\\n\\t\\t\\t)\\n\\t\\t)\\n\\t) \\n \\n (symbol \"Device:R\"\\n\\t\\t(pin_numbers hide)\\n\\t\\t(pin_names\\n\\t\\t\\t(offset 0)\\n\\t\\t)\\n\\t\\t(exclude_from_sim no)\\n\\t\\t(in_bom yes)\\n\\t\\t(on_board yes)\\n\\t\\t(property \"Reference\" \"R\"\\n\\t\\t\\t(at 2.032 0 90)\\n\\t\\t\\t(effects\\n\\t\\t\\t\\t(font\\n\\t\\t\\t\\t\\t(size 1.27 1.27)\\n\\t\\t\\t\\t)\\n\\t\\t\\t)\\n\\t\\t)\\n\\t\\t(property \"Value\" \"R\"\\n\\t\\t\\t(at 0 0 90)\\n\\t\\t\\t(effects\\n\\t\\t\\t\\t(font\\n\\t\\t\\t\\t\\t(size 1.27 1.27)\\n\\t\\t\\t\\t)\\n\\t\\t\\t)\\n\\t\\t)\\n\\t\\t(property \"Footprint\" \"\"\\n\\t\\t\\t(at -1.778 0 90)\\n\\t\\t\\t(effects\\n\\t\\t\\t\\t(font\\n\\t\\t\\t\\t\\t(size 1.27 1.27)\\n\\t\\t\\t\\t)\\n\\t\\t\\t\\t(hide yes)\\n\\t\\t\\t)\\n\\t\\t)\\n\\t\\t(property \"Datasheet\" \"~\"\\n\\t\\t\\t(at 0 0 0)\\n\\t\\t\\t(effects\\n\\t\\t\\t\\t(font\\n\\t\\t\\t\\t\\t(size 1.27 1.27)\\n\\t\\t\\t\\t)\\n\\t\\t\\t\\t(hide yes)\\n\\t\\t\\t)\\n\\t\\t)\\n\\t\\t(property \"Description\" \"Resistor\"\\n\\t\\t\\t(at 0 0 0)\\n\\t\\t\\t(effects\\n\\t\\t\\t\\t(font\\n\\t\\t\\t\\t\\t(size 1.27 1.27)\\n\\t\\t\\t\\t)\\n\\t\\t\\t\\t(hide yes)\\n\\t\\t\\t)\\n\\t\\t)\\n\\t\\t(property \"ki_keywords\" \"R res resistor\"\\n\\t\\t\\t(at 0 0 0)\\n\\t\\t\\t(effects\\n\\t\\t\\t\\t(font\\n\\t\\t\\t\\t\\t(size 1.27 1.27)\\n\\t\\t\\t\\t)\\n\\t\\t\\t\\t(hide yes)\\n\\t\\t\\t)\\n\\t\\t)\\n\\t\\t(property \"ki_fp_filters\" \"R_*\"\\n\\t\\t\\t(at 0 0 0)\\n\\t\\t\\t(effects\\n\\t\\t\\t\\t(font\\n\\t\\t\\t\\t\\t(size 1.27 1.27)\\n\\t\\t\\t\\t)\\n\\t\\t\\t\\t(hide yes)\\n\\t\\t\\t)\\n\\t\\t)\\n\\t\\t(symbol \"R_0_1\"\\n\\t\\t\\t(rectangle\\n\\t\\t\\t\\t(start -1.016 -2.54)\\n\\t\\t\\t\\t(end 1.016 2.54)\\n\\t\\t\\t\\t(stroke\\n\\t\\t\\t\\t\\t(width 0.254)\\n\\t\\t\\t\\t\\t(type default)\\n\\t\\t\\t\\t)\\n\\t\\t\\t\\t(fill\\n\\t\\t\\t\\t\\t(type none)\\n\\t\\t\\t\\t)\\n\\t\\t\\t)\\n\\t\\t)\\n\\t\\t(symbol \"R_1_1\"\\n\\t\\t\\t(pin passive line\\n\\t\\t\\t\\t(at 0 3.81 270)\\n\\t\\t\\t\\t(length 1.27)\\n\\t\\t\\t\\t(name \"~\"\\n\\t\\t\\t\\t\\t(effects\\n\\t\\t\\t\\t\\t\\t(font\\n\\t\\t\\t\\t\\t\\t\\t(size 1.27 1.27)\\n\\t\\t\\t\\t\\t\\t)\\n\\t\\t\\t\\t\\t)\\n\\t\\t\\t\\t)\\n\\t\\t\\t\\t(number \"1\"\\n\\t\\t\\t\\t\\t(effects\\n\\t\\t\\t\\t\\t\\t(font\\n\\t\\t\\t\\t\\t\\t\\t(size 1.27 1.27)\\n\\t\\t\\t\\t\\t\\t)\\n\\t\\t\\t\\t\\t)\\n\\t\\t\\t\\t)\\n\\t\\t\\t)\\n\\t\\t\\t(pin passive line\\n\\t\\t\\t\\t(at 0 -3.81 90)\\n\\t\\t\\t\\t(length 1.27)\\n\\t\\t\\t\\t(name \"~\"\\n\\t\\t\\t\\t\\t(effects\\n\\t\\t\\t\\t\\t\\t(font\\n\\t\\t\\t\\t\\t\\t\\t(size 1.27 1.27)\\n\\t\\t\\t\\t\\t\\t)\\n\\t\\t\\t\\t\\t)\\n\\t\\t\\t\\t)\\n\\t\\t\\t\\t(number \"2\"\\n\\t\\t\\t\\t\\t(effects\\n\\t\\t\\t\\t\\t\\t(font\\n\\t\\t\\t\\t\\t\\t\\t(size 1.27 1.27)\\n\\t\\t\\t\\t\\t\\t)\\n\\t\\t\\t\\t\\t)\\n\\t\\t\\t\\t)\\n\\t\\t\\t)\\n\\t\\t)\\n\\t) \\n \\n (symbol \"Device:R\"\\n\\t\\t(pin_numbers hide)\\n\\t\\t(pin_names\\n\\t\\t\\t(offset 0)\\n\\t\\t)\\n\\t\\t(exclude_from_sim no)\\n\\t\\t(in_bom yes)\\n\\t\\t(on_board yes)\\n\\t\\t(property \"Reference\" \"R\"\\n\\t\\t\\t(at 2.032 0 90)\\n\\t\\t\\t(effects\\n\\t\\t\\t\\t(font\\n\\t\\t\\t\\t\\t(size 1.27 1.27)\\n\\t\\t\\t\\t)\\n\\t\\t\\t)\\n\\t\\t)\\n\\t\\t(property \"Value\" \"R\"\\n\\t\\t\\t(at 0 0 90)\\n\\t\\t\\t(effects\\n\\t\\t\\t\\t(font\\n\\t\\t\\t\\t\\t(size 1.27 1.27)\\n\\t\\t\\t\\t)\\n\\t\\t\\t)\\n\\t\\t)\\n\\t\\t(property \"Footprint\" \"\"\\n\\t\\t\\t(at -1.778 0 90)\\n\\t\\t\\t(effects\\n\\t\\t\\t\\t(font\\n\\t\\t\\t\\t\\t(size 1.27 1.27)\\n\\t\\t\\t\\t)\\n\\t\\t\\t\\t(hide yes)\\n\\t\\t\\t)\\n\\t\\t)\\n\\t\\t(property \"Datasheet\" \"~\"\\n\\t\\t\\t(at 0 0 0)\\n\\t\\t\\t(effects\\n\\t\\t\\t\\t(font\\n\\t\\t\\t\\t\\t(size 1.27 1.27)\\n\\t\\t\\t\\t)\\n\\t\\t\\t\\t(hide yes)\\n\\t\\t\\t)\\n\\t\\t)\\n\\t\\t(property \"Description\" \"Resistor\"\\n\\t\\t\\t(at 0 0 0)\\n\\t\\t\\t(effects\\n\\t\\t\\t\\t(font\\n\\t\\t\\t\\t\\t(size 1.27 1.27)\\n\\t\\t\\t\\t)\\n\\t\\t\\t\\t(hide yes)\\n\\t\\t\\t)\\n\\t\\t)\\n\\t\\t(property \"ki_keywords\" \"R res resistor\"\\n\\t\\t\\t(at 0 0 0)\\n\\t\\t\\t(effects\\n\\t\\t\\t\\t(font\\n\\t\\t\\t\\t\\t(size 1.27 1.27)\\n\\t\\t\\t\\t)\\n\\t\\t\\t\\t(hide yes)\\n\\t\\t\\t)\\n\\t\\t)\\n\\t\\t(property \"ki_fp_filters\" \"R_*\"\\n\\t\\t\\t(at 0 0 0)\\n\\t\\t\\t(effects\\n\\t\\t\\t\\t(font\\n\\t\\t\\t\\t\\t(size 1.27 1.27)\\n\\t\\t\\t\\t)\\n\\t\\t\\t\\t(hide yes)\\n\\t\\t\\t)\\n\\t\\t)\\n\\t\\t(symbol \"R_0_1\"\\n\\t\\t\\t(rectangle\\n\\t\\t\\t\\t(start -1.016 -2.54)\\n\\t\\t\\t\\t(end 1.016 2.54)\\n\\t\\t\\t\\t(stroke\\n\\t\\t\\t\\t\\t(width 0.254)\\n\\t\\t\\t\\t\\t(type default)\\n\\t\\t\\t\\t)\\n\\t\\t\\t\\t(fill\\n\\t\\t\\t\\t\\t(type none)\\n\\t\\t\\t\\t)\\n\\t\\t\\t)\\n\\t\\t)\\n\\t\\t(symbol \"R_1_1\"\\n\\t\\t\\t(pin passive line\\n\\t\\t\\t\\t(at 0 3.81 270)\\n\\t\\t\\t\\t(length 1.27)\\n\\t\\t\\t\\t(name \"~\"\\n\\t\\t\\t\\t\\t(effects\\n\\t\\t\\t\\t\\t\\t(font\\n\\t\\t\\t\\t\\t\\t\\t(size 1.27 1.27)\\n\\t\\t\\t\\t\\t\\t)\\n\\t\\t\\t\\t\\t)\\n\\t\\t\\t\\t)\\n\\t\\t\\t\\t(number \"1\"\\n\\t\\t\\t\\t\\t(effects\\n\\t\\t\\t\\t\\t\\t(font\\n\\t\\t\\t\\t\\t\\t\\t(size 1.27 1.27)\\n\\t\\t\\t\\t\\t\\t)\\n\\t\\t\\t\\t\\t)\\n\\t\\t\\t\\t)\\n\\t\\t\\t)\\n\\t\\t\\t(pin passive line\\n\\t\\t\\t\\t(at 0 -3.81 90)\\n\\t\\t\\t\\t(length 1.27)\\n\\t\\t\\t\\t(name \"~\"\\n\\t\\t\\t\\t\\t(effects\\n\\t\\t\\t\\t\\t\\t(font\\n\\t\\t\\t\\t\\t\\t\\t(size 1.27 1.27)\\n\\t\\t\\t\\t\\t\\t)\\n\\t\\t\\t\\t\\t)\\n\\t\\t\\t\\t)\\n\\t\\t\\t\\t(number \"2\"\\n\\t\\t\\t\\t\\t(effects\\n\\t\\t\\t\\t\\t\\t(font\\n\\t\\t\\t\\t\\t\\t\\t(size 1.27 1.27)\\n\\t\\t\\t\\t\\t\\t)\\n\\t\\t\\t\\t\\t)\\n\\t\\t\\t\\t)\\n\\t\\t\\t)\\n\\t\\t)\\n\\t) \\n )\\n\\n (wire\\n\\t\\t(pts\\n\\t\\t\\t(xy 150 75) (xy 150 125)\\n\\t\\t)\\n\\t\\t(stroke\\n\\t\\t\\t(width 0)\\n\\t\\t\\t(type default)\\n\\t\\t)\\n\\t\\t(uuid \"137ee4e8-9dc4-455c-acae-9ea06b79deca\")\\n\\t) \\n \\n (wire\\n\\t\\t(pts\\n\\t\\t\\t(xy 100 75) (xy 100 125)\\n\\t\\t)\\n\\t\\t(stroke\\n\\t\\t\\t(width 0)\\n\\t\\t\\t(type default)\\n\\t\\t)\\n\\t\\t(uuid \"823b7b80-daca-48f6-ad13-2007dc638a77\")\\n\\t) \\n \\n (wire\\n\\t\\t(pts\\n\\t\\t\\t(xy 200 75) (xy 250 75)\\n\\t\\t)\\n\\t\\t(stroke\\n\\t\\t\\t(width 0)\\n\\t\\t\\t(type default)\\n\\t\\t)\\n\\t\\t(uuid \"6c33d0b6-62e1-4fd7-b4dd-7f9a1ba43d9d\")\\n\\t) \\n \\n (wire\\n\\t\\t(pts\\n\\t\\t\\t(xy 150 75) (xy 200 75)\\n\\t\\t)\\n\\t\\t(stroke\\n\\t\\t\\t(width 0)\\n\\t\\t\\t(type default)\\n\\t\\t)\\n\\t\\t(uuid \"f7110f99-9869-471f-9802-1163270a9057\")\\n\\t) \\n \\n (wire\\n\\t\\t(pts\\n\\t\\t\\t(xy 100 75) (xy 150 75)\\n\\t\\t)\\n\\t\\t(stroke\\n\\t\\t\\t(width 0)\\n\\t\\t\\t(type default)\\n\\t\\t)\\n\\t\\t(uuid \"5cf7cf63-a5b6-42c2-b8c0-c94d884f1aeb\")\\n\\t) \\n \\n (wire\\n\\t\\t(pts\\n\\t\\t\\t(xy 50 75) (xy 100 75)\\n\\t\\t)\\n\\t\\t(stroke\\n\\t\\t\\t(width 0)\\n\\t\\t\\t(type default)\\n\\t\\t)\\n\\t\\t(uuid \"77ca7216-37f6-46f9-9192-ea05a41b4ec3\")\\n\\t) \\n \\n \\n(symbol\\n        (lib_id \"Device:C\")\\n        (at 225 75 0)\\n        (unit 1)\\n        (exclude_from_sim no)\\n        (in_bom yes)\\n        (on_board yes)\\n        (dnp no)\\n        (fields_autoplaced yes)\\n        (uuid \"9ceacf4c-9392-4bc3-9ab8-47838afb58bf\")\\n        (property \"Reference\" \"C1\"\\n            (at 225 75 0)\\n            (effects\\n                (font\\n                    (size 1.27 1.27)\\n                )\\n            )\\n        )\\n        (property \"Value\" \"\"\\n            (at 225 75 0)\\n            (effects\\n                (font\\n                    (size 1.27 1.27)\\n                )\\n            )\\n        )\\n        (property \"Footprint\" \"\"\\n            (at 225 75 0)\\n            (effects\\n                (font\\n                    (size 1.27 1.27)\\n                )\\n                (hide yes)\\n            )\\n        )\\n        (property \"Datasheet\" \"~\"\\n            (at 225 75 0)\\n            (effects\\n                (font\\n                    (size 1.27 1.27)\\n                )\\n                (hide yes)\\n            )\\n        )\\n        (property \"Description\" \"npolarized capacitor\"\\n            (at 225 75 0)\\n            (effects\\n                (font\\n                    (size 1.27 1.27)\\n                )\\n                (hide yes)\\n            )\\n        )\\n        (instances\\n            (project \"temp_dea647a7-e0d8-45e4-9bce-23c7e387cf2b\"\\n                (path \"/dea647a7-e0d8-45e4-9bce-23c7e387cf2b\"\\n                    (reference \"C1\")\\n                    (unit 1)\\n                )\\n            )\\n        )\\n    )    \\n \\n \\n \\n(symbol\\n        (lib_id \"Device:R\")\\n        (at 125 75 0)\\n        (unit 1)\\n        (exclude_from_sim no)\\n        (in_bom yes)\\n        (on_board yes)\\n        (dnp no)\\n        (fields_autoplaced yes)\\n        (uuid \"17550ec0-3429-47f4-90a3-253af2d4ea19\")\\n        (property \"Reference\" \"R1\"\\n            (at 125 75 0)\\n            (effects\\n                (font\\n                    (size 1.27 1.27)\\n                )\\n            )\\n        )\\n        (property \"Value\" \"\"\\n            (at 125 75 0)\\n            (effects\\n                (font\\n                    (size 1.27 1.27)\\n                )\\n            )\\n        )\\n        (property \"Footprint\" \"\"\\n            (at 125 75 0)\\n            (effects\\n                (font\\n                    (size 1.27 1.27)\\n                )\\n                (hide yes)\\n            )\\n        )\\n        (property \"Datasheet\" \"~\"\\n            (at 125 75 0)\\n            (effects\\n                (font\\n                    (size 1.27 1.27)\\n                )\\n                (hide yes)\\n            )\\n        )\\n        (property \"Description\" \"esistor\"\\n            (at 125 75 0)\\n            (effects\\n                (font\\n                    (size 1.27 1.27)\\n                )\\n                (hide yes)\\n            )\\n        )\\n        (instances\\n            (project \"temp_dea647a7-e0d8-45e4-9bce-23c7e387cf2b\"\\n                (path \"/dea647a7-e0d8-45e4-9bce-23c7e387cf2b\"\\n                    (reference \"R1\")\\n                    (unit 1)\\n                )\\n            )\\n        )\\n    )    \\n \\n \\n \\n(symbol\\n        (lib_id \"Device:R\")\\n        (at 75 75 0)\\n        (unit 1)\\n        (exclude_from_sim no)\\n        (in_bom yes)\\n        (on_board yes)\\n        (dnp no)\\n        (fields_autoplaced yes)\\n        (uuid \"dc64b28f-d851-46c7-9216-a2c580ba9868\")\\n        (property \"Reference\" \"R2\"\\n            (at 75 75 0)\\n            (effects\\n                (font\\n                    (size 1.27 1.27)\\n                )\\n            )\\n        )\\n        (property \"Value\" \"\"\\n            (at 75 75 0)\\n            (effects\\n                (font\\n                    (size 1.27 1.27)\\n                )\\n            )\\n        )\\n        (property \"Footprint\" \"\"\\n            (at 75 75 0)\\n            (effects\\n                (font\\n                    (size 1.27 1.27)\\n                )\\n                (hide yes)\\n            )\\n        )\\n        (property \"Datasheet\" \"~\"\\n            (at 75 75 0)\\n            (effects\\n                (font\\n                    (size 1.27 1.27)\\n                )\\n                (hide yes)\\n            )\\n        )\\n        (property \"Description\" \"esistor\"\\n            (at 75 75 0)\\n            (effects\\n                (font\\n                    (size 1.27 1.27)\\n                )\\n                (hide yes)\\n            )\\n        )\\n        (instances\\n            (project \"temp_dea647a7-e0d8-45e4-9bce-23c7e387cf2b\"\\n                (path \"/dea647a7-e0d8-45e4-9bce-23c7e387cf2b\"\\n                    (reference \"R2\")\\n                    (unit 1)\\n                )\\n            )\\n        )\\n    )    \\n \\n \\t(sheet_instances\\n\\t\\t(path \"/\"\\n\\t\\t\\t(page \"1\")\\n\\t\\t)\\n\\t)\\n)'"
      ]
     },
     "execution_count": 11,
     "metadata": {},
     "output_type": "execute_result"
    }
   ],
   "source": [
    "# kicad_utils.modify_kicad_sch_file(wires= result['detected_wires'], file_path=kicad_schematic_path)"
   ]
  },
  {
   "cell_type": "code",
   "execution_count": 10,
   "metadata": {},
   "outputs": [
    {
     "name": "stdout",
     "output_type": "stream",
     "text": [
      "R2 1 R1 1\n",
      "R2 2 R1 2\n",
      "R1 1 C1 1\n",
      "R1 2 C1 2\n"
     ]
    }
   ],
   "source": [
    "for connection in result[\"component_connections\"]:\n",
    "    print(connection['componentA_reference'], connection['componentA_pin'], connection['componentB_reference'], connection['componentB_pin'])\n",
    "\n",
    "    "
   ]
  },
  {
   "cell_type": "code",
   "execution_count": null,
   "metadata": {},
   "outputs": [],
   "source": [
    "# code which maps R2.1 to x and y position\n"
   ]
  },
  {
   "cell_type": "code",
   "execution_count": null,
   "metadata": {},
   "outputs": [],
   "source": []
  },
  {
   "cell_type": "markdown",
   "metadata": {},
   "source": [
    "# THIS IS THE MOST IMPORTANT CELL"
   ]
  },
  {
   "cell_type": "code",
   "execution_count": 50,
   "metadata": {},
   "outputs": [
    {
     "name": "stdout",
     "output_type": "stream",
     "text": [
      "R2\n",
      "R1\n",
      "C1\n",
      "75\n"
     ]
    }
   ],
   "source": [
    "# result[\"component_connections\"][0]['componentA_reference']\n",
    "import skip\n",
    "schem = skip.Schematic(\"testProject/testProject.kicad_sch\")\n",
    "wire_list = []\n",
    "\n",
    "for symbol in schem.symbol:\n",
    "    print(symbol.property.Reference.value)\n",
    "    \n",
    "print(schem.symbol[0].pin[0].location.x)"
   ]
  },
  {
   "cell_type": "code",
   "execution_count": 55,
   "metadata": {},
   "outputs": [
    {
     "data": {
      "text/plain": [
       "75"
      ]
     },
     "execution_count": 55,
     "metadata": {},
     "output_type": "execute_result"
    }
   ],
   "source": [
    "def find_component_in_schem(component_reference, skip_schematic):\n",
    "    for symbol in skip_schematic.symbol:\n",
    "        if symbol.property.Reference.value == component_reference:\n",
    "            return symbol\n",
    "found_symbol = find_component_in_schem(\"R2\", schem)\n",
    "found_symbol.pin[0].location.x"
   ]
  },
  {
   "cell_type": "code",
   "execution_count": 62,
   "metadata": {},
   "outputs": [
    {
     "name": "stdout",
     "output_type": "stream",
     "text": [
      "R2\n",
      "R1\n",
      "{'componentA_reference': 'R2', 'componentA_pin': 1, 'componentB_reference': 'R1', 'componentB_pin': 1}\n",
      "{'componentA_reference': 'R2', 'componentA_pin': 2, 'componentB_reference': 'R1', 'componentB_pin': 2}\n",
      "C1\n",
      "{'componentA_reference': 'R1', 'componentA_pin': 1, 'componentB_reference': 'C1', 'componentB_pin': 1}\n",
      "{'componentA_reference': 'R1', 'componentA_pin': 2, 'componentB_reference': 'C1', 'componentB_pin': 2}\n",
      "Wire List\n",
      "[{'x': 75, 'y': 71.19, 'end_x': 125, 'end_y': 78.81}, {'x': 75, 'y': 78.81, 'end_x': 125, 'end_y': 71.19}, {'x': 125, 'y': 78.81, 'end_x': 225, 'end_y': 71.19}, {'x': 125, 'y': 71.19, 'end_x': 225, 'end_y': 78.81}]\n"
     ]
    }
   ],
   "source": [
    "# Pseudo code\n",
    "\n",
    "wire_list = []\n",
    "\n",
    "\n",
    "# make a copy of detected connections\n",
    "all_connections = result[\"component_connections\"].copy()\n",
    "\n",
    "# Iterate through the list of generated components in kicad shematic\n",
    "for curr_component in schem.symbol:\n",
    "    print(curr_component.property.Reference.value)\n",
    "    curr_component_ref = curr_component.property.Reference.value\n",
    "#   iterate through the list of detected connections\n",
    "    for curr_connection in all_connections:\n",
    "        # if curr component is compA in curr connection\n",
    "        if curr_connection['componentA_reference'] == curr_component_ref:\n",
    "            curr_component_A_pin = curr_component.pin[curr_connection['componentA_pin']-1]\n",
    "            #find component B\n",
    "            curr_component_B = find_component_in_schem(curr_connection['componentB_reference'], schem)\n",
    "            curr_component_B_pin = curr_component_B.pin[curr_connection['componentB_pin']-1]\n",
    "            # add a wire to connect\n",
    "            wire_list.append({\"x\": curr_component_A_pin.location.x, \"y\": curr_component_A_pin.location.y, \"end_x\": curr_component_B_pin.location.x, \"end_y\":curr_component_B_pin.location.y})\n",
    "            # print(f\"\")\n",
    "            # remove connection from all_connections\n",
    "        \n",
    "        # if curr component is compB in curr connection\n",
    "        elif curr_connection['componentB_reference'] == curr_component_ref:\n",
    "            print(curr_connection)\n",
    "            # add a wire to connect\n",
    "            # wire_list.append({\"x\": curr_component., \"y\": , \"end_x\": , \"end_y\": })\n",
    "\n",
    "            # remove connection from all_connections\n",
    "print(\"Wire List\")\n",
    "print(wire_list)"
   ]
  },
  {
   "cell_type": "code",
   "execution_count": 63,
   "metadata": {},
   "outputs": [
    {
     "data": {
      "text/plain": [
       "[{'x': 75, 'y': 71.19, 'end_x': 125, 'end_y': 78.81},\n",
       " {'x': 75, 'y': 78.81, 'end_x': 125, 'end_y': 71.19},\n",
       " {'x': 125, 'y': 78.81, 'end_x': 225, 'end_y': 71.19},\n",
       " {'x': 125, 'y': 71.19, 'end_x': 225, 'end_y': 78.81}]"
      ]
     },
     "execution_count": 63,
     "metadata": {},
     "output_type": "execute_result"
    }
   ],
   "source": [
    "wire_list"
   ]
  },
  {
   "cell_type": "code",
   "execution_count": 65,
   "metadata": {},
   "outputs": [
    {
     "ename": "NameError",
     "evalue": "name 'kicad_schematic_path' is not defined",
     "output_type": "error",
     "traceback": [
      "\u001b[0;31m---------------------------------------------------------------------------\u001b[0m",
      "\u001b[0;31mNameError\u001b[0m                                 Traceback (most recent call last)",
      "Cell \u001b[0;32mIn[65], line 2\u001b[0m\n\u001b[1;32m      1\u001b[0m \u001b[38;5;28;01mimport\u001b[39;00m \u001b[38;5;21;01mkicad_utils\u001b[39;00m\n\u001b[0;32m----> 2\u001b[0m kicad_utils\u001b[38;5;241m.\u001b[39mmodify_kicad_sch_file(wires\u001b[38;5;241m=\u001b[39m wire_list, file_path\u001b[38;5;241m=\u001b[39m\u001b[43mkicad_schematic_path\u001b[49m)\n",
      "\u001b[0;31mNameError\u001b[0m: name 'kicad_schematic_path' is not defined"
     ]
    }
   ],
   "source": [
    "import kicad_utils\n",
    "kicad_schematic_path = \"testProject/testProject.kicad_sch\"\n",
    "kicad_utils.modify_kicad_sch_file(wires= wire_list, file_path=kicad_schematic_path)"
   ]
  },
  {
   "cell_type": "code",
   "execution_count": null,
   "metadata": {},
   "outputs": [],
   "source": [
    "# find a symbol by reference \"R1\" using skip library\n",
    "\n",
    "\n",
    "schem.symbol"
   ]
  },
  {
   "cell_type": "code",
   "execution_count": 15,
   "metadata": {},
   "outputs": [
    {
     "name": "stdout",
     "output_type": "stream",
     "text": [
      "75\n"
     ]
    }
   ],
   "source": [
    "import skip\n",
    "schem = skip.Schematic(\"testProject/testProject.kicad_sch\")\n",
    "wire_list = []\n",
    "\n",
    "\n",
    "print(schem.symbol[0].pin[0].location.x)"
   ]
  },
  {
   "cell_type": "code",
   "execution_count": 49,
   "metadata": {},
   "outputs": [
    {
     "name": "stdout",
     "output_type": "stream",
     "text": [
      "[{'x': 121.92, 'y': 67.31, 'end_x': 156.21, 'end_y': 67.31}, {'x': 1221.92, 'y': 672.31, 'end_x': 156.21, 'end_y': 67.31}]\n"
     ]
    }
   ],
   "source": [
    "wire_list = []\n",
    "wire_list.append({\"x\": 121.92, \"y\": 67.31, \"end_x\": 156.21, \"end_y\": 67.31})\n",
    "wire_list.append({\"x\": 1221.92, \"y\": 672.31, \"end_x\": 156.21, \"end_y\": 67.31})\n",
    "\n",
    "print(wire_list)"
   ]
  },
  {
   "cell_type": "code",
   "execution_count": 14,
   "metadata": {},
   "outputs": [
    {
     "ename": "SyntaxError",
     "evalue": "expression expected after dictionary key and ':' (2901676847.py, line 8)",
     "output_type": "error",
     "traceback": [
      "\u001b[0;36m  Cell \u001b[0;32mIn[14], line 8\u001b[0;36m\u001b[0m\n\u001b[0;31m    wire_list.append({\"x\":, \"y\": 67.31, \"end_x\": 156.21, \"end_y\": 67.31})\u001b[0m\n\u001b[0m                         ^\u001b[0m\n\u001b[0;31mSyntaxError\u001b[0m\u001b[0;31m:\u001b[0m expression expected after dictionary key and ':'\n"
     ]
    }
   ],
   "source": [
    "\n",
    "for connection in result[\"component_connections\"]:\n",
    "    wire_list.append({\"x\":, \"y\": 67.31, \"end_x\": 156.21, \"end_y\": 67.31})\n",
    "    \n",
    "\n",
    "for component in schem.symbol:\n",
    "    print(component.pin[0].location.x)\n"
   ]
  },
  {
   "cell_type": "code",
   "execution_count": 18,
   "metadata": {},
   "outputs": [
    {
     "name": "stdout",
     "output_type": "stream",
     "text": [
      "Reading file /usr/share/kicad/symbols/Device.kicad_sym\n",
      "Modified file testProject/testProject.kicad_sch\n"
     ]
    },
    {
     "data": {
      "text/plain": [
       "'(kicad_sch\\n\\t(version 20231120)\\n\\t(generator \"eeschema\")\\n\\t(generator_version \"8.0\")\\n\\t(uuid \"59526c9f-d2d4-4c47-ba25-9347dc717d36\")\\n\\t(paper \"A4\")\\n\\t(lib_symbols\\n (symbol \"Device:R\"\\n\\t\\t(pin_numbers hide)\\n\\t\\t(pin_names\\n\\t\\t\\t(offset 0)\\n\\t\\t)\\n\\t\\t(exclude_from_sim no)\\n\\t\\t(in_bom yes)\\n\\t\\t(on_board yes)\\n\\t\\t(property \"Reference\" \"R\"\\n\\t\\t\\t(at 2.032 0 90)\\n\\t\\t\\t(effects\\n\\t\\t\\t\\t(font\\n\\t\\t\\t\\t\\t(size 1.27 1.27)\\n\\t\\t\\t\\t)\\n\\t\\t\\t)\\n\\t\\t)\\n\\t\\t(property \"Value\" \"R\"\\n\\t\\t\\t(at 0 0 90)\\n\\t\\t\\t(effects\\n\\t\\t\\t\\t(font\\n\\t\\t\\t\\t\\t(size 1.27 1.27)\\n\\t\\t\\t\\t)\\n\\t\\t\\t)\\n\\t\\t)\\n\\t\\t(property \"Footprint\" \"\"\\n\\t\\t\\t(at -1.778 0 90)\\n\\t\\t\\t(effects\\n\\t\\t\\t\\t(font\\n\\t\\t\\t\\t\\t(size 1.27 1.27)\\n\\t\\t\\t\\t)\\n\\t\\t\\t\\t(hide yes)\\n\\t\\t\\t)\\n\\t\\t)\\n\\t\\t(property \"Datasheet\" \"~\"\\n\\t\\t\\t(at 0 0 0)\\n\\t\\t\\t(effects\\n\\t\\t\\t\\t(font\\n\\t\\t\\t\\t\\t(size 1.27 1.27)\\n\\t\\t\\t\\t)\\n\\t\\t\\t\\t(hide yes)\\n\\t\\t\\t)\\n\\t\\t)\\n\\t\\t(property \"Description\" \"Resistor\"\\n\\t\\t\\t(at 0 0 0)\\n\\t\\t\\t(effects\\n\\t\\t\\t\\t(font\\n\\t\\t\\t\\t\\t(size 1.27 1.27)\\n\\t\\t\\t\\t)\\n\\t\\t\\t\\t(hide yes)\\n\\t\\t\\t)\\n\\t\\t)\\n\\t\\t(property \"ki_keywords\" \"R res resistor\"\\n\\t\\t\\t(at 0 0 0)\\n\\t\\t\\t(effects\\n\\t\\t\\t\\t(font\\n\\t\\t\\t\\t\\t(size 1.27 1.27)\\n\\t\\t\\t\\t)\\n\\t\\t\\t\\t(hide yes)\\n\\t\\t\\t)\\n\\t\\t)\\n\\t\\t(property \"ki_fp_filters\" \"R_*\"\\n\\t\\t\\t(at 0 0 0)\\n\\t\\t\\t(effects\\n\\t\\t\\t\\t(font\\n\\t\\t\\t\\t\\t(size 1.27 1.27)\\n\\t\\t\\t\\t)\\n\\t\\t\\t\\t(hide yes)\\n\\t\\t\\t)\\n\\t\\t)\\n\\t\\t(symbol \"R_0_1\"\\n\\t\\t\\t(rectangle\\n\\t\\t\\t\\t(start -1.016 -2.54)\\n\\t\\t\\t\\t(end 1.016 2.54)\\n\\t\\t\\t\\t(stroke\\n\\t\\t\\t\\t\\t(width 0.254)\\n\\t\\t\\t\\t\\t(type default)\\n\\t\\t\\t\\t)\\n\\t\\t\\t\\t(fill\\n\\t\\t\\t\\t\\t(type none)\\n\\t\\t\\t\\t)\\n\\t\\t\\t)\\n\\t\\t)\\n\\t\\t(symbol \"R_1_1\"\\n\\t\\t\\t(pin passive line\\n\\t\\t\\t\\t(at 0 3.81 270)\\n\\t\\t\\t\\t(length 1.27)\\n\\t\\t\\t\\t(name \"~\"\\n\\t\\t\\t\\t\\t(effects\\n\\t\\t\\t\\t\\t\\t(font\\n\\t\\t\\t\\t\\t\\t\\t(size 1.27 1.27)\\n\\t\\t\\t\\t\\t\\t)\\n\\t\\t\\t\\t\\t)\\n\\t\\t\\t\\t)\\n\\t\\t\\t\\t(number \"1\"\\n\\t\\t\\t\\t\\t(effects\\n\\t\\t\\t\\t\\t\\t(font\\n\\t\\t\\t\\t\\t\\t\\t(size 1.27 1.27)\\n\\t\\t\\t\\t\\t\\t)\\n\\t\\t\\t\\t\\t)\\n\\t\\t\\t\\t)\\n\\t\\t\\t)\\n\\t\\t\\t(pin passive line\\n\\t\\t\\t\\t(at 0 -3.81 90)\\n\\t\\t\\t\\t(length 1.27)\\n\\t\\t\\t\\t(name \"~\"\\n\\t\\t\\t\\t\\t(effects\\n\\t\\t\\t\\t\\t\\t(font\\n\\t\\t\\t\\t\\t\\t\\t(size 1.27 1.27)\\n\\t\\t\\t\\t\\t\\t)\\n\\t\\t\\t\\t\\t)\\n\\t\\t\\t\\t)\\n\\t\\t\\t\\t(number \"2\"\\n\\t\\t\\t\\t\\t(effects\\n\\t\\t\\t\\t\\t\\t(font\\n\\t\\t\\t\\t\\t\\t\\t(size 1.27 1.27)\\n\\t\\t\\t\\t\\t\\t)\\n\\t\\t\\t\\t\\t)\\n\\t\\t\\t\\t)\\n\\t\\t\\t)\\n\\t\\t)\\n\\t) \\n \\n (symbol \"Device:R\"\\n\\t\\t(pin_numbers hide)\\n\\t\\t(pin_names\\n\\t\\t\\t(offset 0)\\n\\t\\t)\\n\\t\\t(exclude_from_sim no)\\n\\t\\t(in_bom yes)\\n\\t\\t(on_board yes)\\n\\t\\t(property \"Reference\" \"R\"\\n\\t\\t\\t(at 2.032 0 90)\\n\\t\\t\\t(effects\\n\\t\\t\\t\\t(font\\n\\t\\t\\t\\t\\t(size 1.27 1.27)\\n\\t\\t\\t\\t)\\n\\t\\t\\t)\\n\\t\\t)\\n\\t\\t(property \"Value\" \"R\"\\n\\t\\t\\t(at 0 0 90)\\n\\t\\t\\t(effects\\n\\t\\t\\t\\t(font\\n\\t\\t\\t\\t\\t(size 1.27 1.27)\\n\\t\\t\\t\\t)\\n\\t\\t\\t)\\n\\t\\t)\\n\\t\\t(property \"Footprint\" \"\"\\n\\t\\t\\t(at -1.778 0 90)\\n\\t\\t\\t(effects\\n\\t\\t\\t\\t(font\\n\\t\\t\\t\\t\\t(size 1.27 1.27)\\n\\t\\t\\t\\t)\\n\\t\\t\\t\\t(hide yes)\\n\\t\\t\\t)\\n\\t\\t)\\n\\t\\t(property \"Datasheet\" \"~\"\\n\\t\\t\\t(at 0 0 0)\\n\\t\\t\\t(effects\\n\\t\\t\\t\\t(font\\n\\t\\t\\t\\t\\t(size 1.27 1.27)\\n\\t\\t\\t\\t)\\n\\t\\t\\t\\t(hide yes)\\n\\t\\t\\t)\\n\\t\\t)\\n\\t\\t(property \"Description\" \"Resistor\"\\n\\t\\t\\t(at 0 0 0)\\n\\t\\t\\t(effects\\n\\t\\t\\t\\t(font\\n\\t\\t\\t\\t\\t(size 1.27 1.27)\\n\\t\\t\\t\\t)\\n\\t\\t\\t\\t(hide yes)\\n\\t\\t\\t)\\n\\t\\t)\\n\\t\\t(property \"ki_keywords\" \"R res resistor\"\\n\\t\\t\\t(at 0 0 0)\\n\\t\\t\\t(effects\\n\\t\\t\\t\\t(font\\n\\t\\t\\t\\t\\t(size 1.27 1.27)\\n\\t\\t\\t\\t)\\n\\t\\t\\t\\t(hide yes)\\n\\t\\t\\t)\\n\\t\\t)\\n\\t\\t(property \"ki_fp_filters\" \"R_*\"\\n\\t\\t\\t(at 0 0 0)\\n\\t\\t\\t(effects\\n\\t\\t\\t\\t(font\\n\\t\\t\\t\\t\\t(size 1.27 1.27)\\n\\t\\t\\t\\t)\\n\\t\\t\\t\\t(hide yes)\\n\\t\\t\\t)\\n\\t\\t)\\n\\t\\t(symbol \"R_0_1\"\\n\\t\\t\\t(rectangle\\n\\t\\t\\t\\t(start -1.016 -2.54)\\n\\t\\t\\t\\t(end 1.016 2.54)\\n\\t\\t\\t\\t(stroke\\n\\t\\t\\t\\t\\t(width 0.254)\\n\\t\\t\\t\\t\\t(type default)\\n\\t\\t\\t\\t)\\n\\t\\t\\t\\t(fill\\n\\t\\t\\t\\t\\t(type none)\\n\\t\\t\\t\\t)\\n\\t\\t\\t)\\n\\t\\t)\\n\\t\\t(symbol \"R_1_1\"\\n\\t\\t\\t(pin passive line\\n\\t\\t\\t\\t(at 0 3.81 270)\\n\\t\\t\\t\\t(length 1.27)\\n\\t\\t\\t\\t(name \"~\"\\n\\t\\t\\t\\t\\t(effects\\n\\t\\t\\t\\t\\t\\t(font\\n\\t\\t\\t\\t\\t\\t\\t(size 1.27 1.27)\\n\\t\\t\\t\\t\\t\\t)\\n\\t\\t\\t\\t\\t)\\n\\t\\t\\t\\t)\\n\\t\\t\\t\\t(number \"1\"\\n\\t\\t\\t\\t\\t(effects\\n\\t\\t\\t\\t\\t\\t(font\\n\\t\\t\\t\\t\\t\\t\\t(size 1.27 1.27)\\n\\t\\t\\t\\t\\t\\t)\\n\\t\\t\\t\\t\\t)\\n\\t\\t\\t\\t)\\n\\t\\t\\t)\\n\\t\\t\\t(pin passive line\\n\\t\\t\\t\\t(at 0 -3.81 90)\\n\\t\\t\\t\\t(length 1.27)\\n\\t\\t\\t\\t(name \"~\"\\n\\t\\t\\t\\t\\t(effects\\n\\t\\t\\t\\t\\t\\t(font\\n\\t\\t\\t\\t\\t\\t\\t(size 1.27 1.27)\\n\\t\\t\\t\\t\\t\\t)\\n\\t\\t\\t\\t\\t)\\n\\t\\t\\t\\t)\\n\\t\\t\\t\\t(number \"2\"\\n\\t\\t\\t\\t\\t(effects\\n\\t\\t\\t\\t\\t\\t(font\\n\\t\\t\\t\\t\\t\\t\\t(size 1.27 1.27)\\n\\t\\t\\t\\t\\t\\t)\\n\\t\\t\\t\\t\\t)\\n\\t\\t\\t\\t)\\n\\t\\t\\t)\\n\\t\\t)\\n\\t) \\n \\n (symbol \"Device:R\"\\n\\t\\t(pin_numbers hide)\\n\\t\\t(pin_names\\n\\t\\t\\t(offset 0)\\n\\t\\t)\\n\\t\\t(exclude_from_sim no)\\n\\t\\t(in_bom yes)\\n\\t\\t(on_board yes)\\n\\t\\t(property \"Reference\" \"R\"\\n\\t\\t\\t(at 2.032 0 90)\\n\\t\\t\\t(effects\\n\\t\\t\\t\\t(font\\n\\t\\t\\t\\t\\t(size 1.27 1.27)\\n\\t\\t\\t\\t)\\n\\t\\t\\t)\\n\\t\\t)\\n\\t\\t(property \"Value\" \"R\"\\n\\t\\t\\t(at 0 0 90)\\n\\t\\t\\t(effects\\n\\t\\t\\t\\t(font\\n\\t\\t\\t\\t\\t(size 1.27 1.27)\\n\\t\\t\\t\\t)\\n\\t\\t\\t)\\n\\t\\t)\\n\\t\\t(property \"Footprint\" \"\"\\n\\t\\t\\t(at -1.778 0 90)\\n\\t\\t\\t(effects\\n\\t\\t\\t\\t(font\\n\\t\\t\\t\\t\\t(size 1.27 1.27)\\n\\t\\t\\t\\t)\\n\\t\\t\\t\\t(hide yes)\\n\\t\\t\\t)\\n\\t\\t)\\n\\t\\t(property \"Datasheet\" \"~\"\\n\\t\\t\\t(at 0 0 0)\\n\\t\\t\\t(effects\\n\\t\\t\\t\\t(font\\n\\t\\t\\t\\t\\t(size 1.27 1.27)\\n\\t\\t\\t\\t)\\n\\t\\t\\t\\t(hide yes)\\n\\t\\t\\t)\\n\\t\\t)\\n\\t\\t(property \"Description\" \"Resistor\"\\n\\t\\t\\t(at 0 0 0)\\n\\t\\t\\t(effects\\n\\t\\t\\t\\t(font\\n\\t\\t\\t\\t\\t(size 1.27 1.27)\\n\\t\\t\\t\\t)\\n\\t\\t\\t\\t(hide yes)\\n\\t\\t\\t)\\n\\t\\t)\\n\\t\\t(property \"ki_keywords\" \"R res resistor\"\\n\\t\\t\\t(at 0 0 0)\\n\\t\\t\\t(effects\\n\\t\\t\\t\\t(font\\n\\t\\t\\t\\t\\t(size 1.27 1.27)\\n\\t\\t\\t\\t)\\n\\t\\t\\t\\t(hide yes)\\n\\t\\t\\t)\\n\\t\\t)\\n\\t\\t(property \"ki_fp_filters\" \"R_*\"\\n\\t\\t\\t(at 0 0 0)\\n\\t\\t\\t(effects\\n\\t\\t\\t\\t(font\\n\\t\\t\\t\\t\\t(size 1.27 1.27)\\n\\t\\t\\t\\t)\\n\\t\\t\\t\\t(hide yes)\\n\\t\\t\\t)\\n\\t\\t)\\n\\t\\t(symbol \"R_0_1\"\\n\\t\\t\\t(rectangle\\n\\t\\t\\t\\t(start -1.016 -2.54)\\n\\t\\t\\t\\t(end 1.016 2.54)\\n\\t\\t\\t\\t(stroke\\n\\t\\t\\t\\t\\t(width 0.254)\\n\\t\\t\\t\\t\\t(type default)\\n\\t\\t\\t\\t)\\n\\t\\t\\t\\t(fill\\n\\t\\t\\t\\t\\t(type none)\\n\\t\\t\\t\\t)\\n\\t\\t\\t)\\n\\t\\t)\\n\\t\\t(symbol \"R_1_1\"\\n\\t\\t\\t(pin passive line\\n\\t\\t\\t\\t(at 0 3.81 270)\\n\\t\\t\\t\\t(length 1.27)\\n\\t\\t\\t\\t(name \"~\"\\n\\t\\t\\t\\t\\t(effects\\n\\t\\t\\t\\t\\t\\t(font\\n\\t\\t\\t\\t\\t\\t\\t(size 1.27 1.27)\\n\\t\\t\\t\\t\\t\\t)\\n\\t\\t\\t\\t\\t)\\n\\t\\t\\t\\t)\\n\\t\\t\\t\\t(number \"1\"\\n\\t\\t\\t\\t\\t(effects\\n\\t\\t\\t\\t\\t\\t(font\\n\\t\\t\\t\\t\\t\\t\\t(size 1.27 1.27)\\n\\t\\t\\t\\t\\t\\t)\\n\\t\\t\\t\\t\\t)\\n\\t\\t\\t\\t)\\n\\t\\t\\t)\\n\\t\\t\\t(pin passive line\\n\\t\\t\\t\\t(at 0 -3.81 90)\\n\\t\\t\\t\\t(length 1.27)\\n\\t\\t\\t\\t(name \"~\"\\n\\t\\t\\t\\t\\t(effects\\n\\t\\t\\t\\t\\t\\t(font\\n\\t\\t\\t\\t\\t\\t\\t(size 1.27 1.27)\\n\\t\\t\\t\\t\\t\\t)\\n\\t\\t\\t\\t\\t)\\n\\t\\t\\t\\t)\\n\\t\\t\\t\\t(number \"2\"\\n\\t\\t\\t\\t\\t(effects\\n\\t\\t\\t\\t\\t\\t(font\\n\\t\\t\\t\\t\\t\\t\\t(size 1.27 1.27)\\n\\t\\t\\t\\t\\t\\t)\\n\\t\\t\\t\\t\\t)\\n\\t\\t\\t\\t)\\n\\t\\t\\t)\\n\\t\\t)\\n\\t) \\n \\n (symbol \"Device:C\"\\n\\t\\t(pin_numbers hide)\\n\\t\\t(pin_names\\n\\t\\t\\t(offset 0.254)\\n\\t\\t)\\n\\t\\t(exclude_from_sim no)\\n\\t\\t(in_bom yes)\\n\\t\\t(on_board yes)\\n\\t\\t(property \"Reference\" \"C\"\\n\\t\\t\\t(at 0.635 2.54 0)\\n\\t\\t\\t(effects\\n\\t\\t\\t\\t(font\\n\\t\\t\\t\\t\\t(size 1.27 1.27)\\n\\t\\t\\t\\t)\\n\\t\\t\\t\\t(justify left)\\n\\t\\t\\t)\\n\\t\\t)\\n\\t\\t(property \"Value\" \"C\"\\n\\t\\t\\t(at 0.635 -2.54 0)\\n\\t\\t\\t(effects\\n\\t\\t\\t\\t(font\\n\\t\\t\\t\\t\\t(size 1.27 1.27)\\n\\t\\t\\t\\t)\\n\\t\\t\\t\\t(justify left)\\n\\t\\t\\t)\\n\\t\\t)\\n\\t\\t(property \"Footprint\" \"\"\\n\\t\\t\\t(at 0.9652 -3.81 0)\\n\\t\\t\\t(effects\\n\\t\\t\\t\\t(font\\n\\t\\t\\t\\t\\t(size 1.27 1.27)\\n\\t\\t\\t\\t)\\n\\t\\t\\t\\t(hide yes)\\n\\t\\t\\t)\\n\\t\\t)\\n\\t\\t(property \"Datasheet\" \"~\"\\n\\t\\t\\t(at 0 0 0)\\n\\t\\t\\t(effects\\n\\t\\t\\t\\t(font\\n\\t\\t\\t\\t\\t(size 1.27 1.27)\\n\\t\\t\\t\\t)\\n\\t\\t\\t\\t(hide yes)\\n\\t\\t\\t)\\n\\t\\t)\\n\\t\\t(property \"Description\" \"Unpolarized capacitor\"\\n\\t\\t\\t(at 0 0 0)\\n\\t\\t\\t(effects\\n\\t\\t\\t\\t(font\\n\\t\\t\\t\\t\\t(size 1.27 1.27)\\n\\t\\t\\t\\t)\\n\\t\\t\\t\\t(hide yes)\\n\\t\\t\\t)\\n\\t\\t)\\n\\t\\t(property \"ki_keywords\" \"cap capacitor\"\\n\\t\\t\\t(at 0 0 0)\\n\\t\\t\\t(effects\\n\\t\\t\\t\\t(font\\n\\t\\t\\t\\t\\t(size 1.27 1.27)\\n\\t\\t\\t\\t)\\n\\t\\t\\t\\t(hide yes)\\n\\t\\t\\t)\\n\\t\\t)\\n\\t\\t(property \"ki_fp_filters\" \"C_*\"\\n\\t\\t\\t(at 0 0 0)\\n\\t\\t\\t(effects\\n\\t\\t\\t\\t(font\\n\\t\\t\\t\\t\\t(size 1.27 1.27)\\n\\t\\t\\t\\t)\\n\\t\\t\\t\\t(hide yes)\\n\\t\\t\\t)\\n\\t\\t)\\n\\t\\t(symbol \"C_0_1\"\\n\\t\\t\\t(polyline\\n\\t\\t\\t\\t(pts\\n\\t\\t\\t\\t\\t(xy -2.032 -0.762) (xy 2.032 -0.762)\\n\\t\\t\\t\\t)\\n\\t\\t\\t\\t(stroke\\n\\t\\t\\t\\t\\t(width 0.508)\\n\\t\\t\\t\\t\\t(type default)\\n\\t\\t\\t\\t)\\n\\t\\t\\t\\t(fill\\n\\t\\t\\t\\t\\t(type none)\\n\\t\\t\\t\\t)\\n\\t\\t\\t)\\n\\t\\t\\t(polyline\\n\\t\\t\\t\\t(pts\\n\\t\\t\\t\\t\\t(xy -2.032 0.762) (xy 2.032 0.762)\\n\\t\\t\\t\\t)\\n\\t\\t\\t\\t(stroke\\n\\t\\t\\t\\t\\t(width 0.508)\\n\\t\\t\\t\\t\\t(type default)\\n\\t\\t\\t\\t)\\n\\t\\t\\t\\t(fill\\n\\t\\t\\t\\t\\t(type none)\\n\\t\\t\\t\\t)\\n\\t\\t\\t)\\n\\t\\t)\\n\\t\\t(symbol \"C_1_1\"\\n\\t\\t\\t(pin passive line\\n\\t\\t\\t\\t(at 0 3.81 270)\\n\\t\\t\\t\\t(length 2.794)\\n\\t\\t\\t\\t(name \"~\"\\n\\t\\t\\t\\t\\t(effects\\n\\t\\t\\t\\t\\t\\t(font\\n\\t\\t\\t\\t\\t\\t\\t(size 1.27 1.27)\\n\\t\\t\\t\\t\\t\\t)\\n\\t\\t\\t\\t\\t)\\n\\t\\t\\t\\t)\\n\\t\\t\\t\\t(number \"1\"\\n\\t\\t\\t\\t\\t(effects\\n\\t\\t\\t\\t\\t\\t(font\\n\\t\\t\\t\\t\\t\\t\\t(size 1.27 1.27)\\n\\t\\t\\t\\t\\t\\t)\\n\\t\\t\\t\\t\\t)\\n\\t\\t\\t\\t)\\n\\t\\t\\t)\\n\\t\\t\\t(pin passive line\\n\\t\\t\\t\\t(at 0 -3.81 90)\\n\\t\\t\\t\\t(length 2.794)\\n\\t\\t\\t\\t(name \"~\"\\n\\t\\t\\t\\t\\t(effects\\n\\t\\t\\t\\t\\t\\t(font\\n\\t\\t\\t\\t\\t\\t\\t(size 1.27 1.27)\\n\\t\\t\\t\\t\\t\\t)\\n\\t\\t\\t\\t\\t)\\n\\t\\t\\t\\t)\\n\\t\\t\\t\\t(number \"2\"\\n\\t\\t\\t\\t\\t(effects\\n\\t\\t\\t\\t\\t\\t(font\\n\\t\\t\\t\\t\\t\\t\\t(size 1.27 1.27)\\n\\t\\t\\t\\t\\t\\t)\\n\\t\\t\\t\\t\\t)\\n\\t\\t\\t\\t)\\n\\t\\t\\t)\\n\\t\\t)\\n\\t) \\n \\n (symbol \"Device:C\"\\n\\t\\t(pin_numbers hide)\\n\\t\\t(pin_names\\n\\t\\t\\t(offset 0.254)\\n\\t\\t)\\n\\t\\t(exclude_from_sim no)\\n\\t\\t(in_bom yes)\\n\\t\\t(on_board yes)\\n\\t\\t(property \"Reference\" \"C\"\\n\\t\\t\\t(at 0.635 2.54 0)\\n\\t\\t\\t(effects\\n\\t\\t\\t\\t(font\\n\\t\\t\\t\\t\\t(size 1.27 1.27)\\n\\t\\t\\t\\t)\\n\\t\\t\\t\\t(justify left)\\n\\t\\t\\t)\\n\\t\\t)\\n\\t\\t(property \"Value\" \"C\"\\n\\t\\t\\t(at 0.635 -2.54 0)\\n\\t\\t\\t(effects\\n\\t\\t\\t\\t(font\\n\\t\\t\\t\\t\\t(size 1.27 1.27)\\n\\t\\t\\t\\t)\\n\\t\\t\\t\\t(justify left)\\n\\t\\t\\t)\\n\\t\\t)\\n\\t\\t(property \"Footprint\" \"\"\\n\\t\\t\\t(at 0.9652 -3.81 0)\\n\\t\\t\\t(effects\\n\\t\\t\\t\\t(font\\n\\t\\t\\t\\t\\t(size 1.27 1.27)\\n\\t\\t\\t\\t)\\n\\t\\t\\t\\t(hide yes)\\n\\t\\t\\t)\\n\\t\\t)\\n\\t\\t(property \"Datasheet\" \"~\"\\n\\t\\t\\t(at 0 0 0)\\n\\t\\t\\t(effects\\n\\t\\t\\t\\t(font\\n\\t\\t\\t\\t\\t(size 1.27 1.27)\\n\\t\\t\\t\\t)\\n\\t\\t\\t\\t(hide yes)\\n\\t\\t\\t)\\n\\t\\t)\\n\\t\\t(property \"Description\" \"Unpolarized capacitor\"\\n\\t\\t\\t(at 0 0 0)\\n\\t\\t\\t(effects\\n\\t\\t\\t\\t(font\\n\\t\\t\\t\\t\\t(size 1.27 1.27)\\n\\t\\t\\t\\t)\\n\\t\\t\\t\\t(hide yes)\\n\\t\\t\\t)\\n\\t\\t)\\n\\t\\t(property \"ki_keywords\" \"cap capacitor\"\\n\\t\\t\\t(at 0 0 0)\\n\\t\\t\\t(effects\\n\\t\\t\\t\\t(font\\n\\t\\t\\t\\t\\t(size 1.27 1.27)\\n\\t\\t\\t\\t)\\n\\t\\t\\t\\t(hide yes)\\n\\t\\t\\t)\\n\\t\\t)\\n\\t\\t(property \"ki_fp_filters\" \"C_*\"\\n\\t\\t\\t(at 0 0 0)\\n\\t\\t\\t(effects\\n\\t\\t\\t\\t(font\\n\\t\\t\\t\\t\\t(size 1.27 1.27)\\n\\t\\t\\t\\t)\\n\\t\\t\\t\\t(hide yes)\\n\\t\\t\\t)\\n\\t\\t)\\n\\t\\t(symbol \"C_0_1\"\\n\\t\\t\\t(polyline\\n\\t\\t\\t\\t(pts\\n\\t\\t\\t\\t\\t(xy -2.032 -0.762) (xy 2.032 -0.762)\\n\\t\\t\\t\\t)\\n\\t\\t\\t\\t(stroke\\n\\t\\t\\t\\t\\t(width 0.508)\\n\\t\\t\\t\\t\\t(type default)\\n\\t\\t\\t\\t)\\n\\t\\t\\t\\t(fill\\n\\t\\t\\t\\t\\t(type none)\\n\\t\\t\\t\\t)\\n\\t\\t\\t)\\n\\t\\t\\t(polyline\\n\\t\\t\\t\\t(pts\\n\\t\\t\\t\\t\\t(xy -2.032 0.762) (xy 2.032 0.762)\\n\\t\\t\\t\\t)\\n\\t\\t\\t\\t(stroke\\n\\t\\t\\t\\t\\t(width 0.508)\\n\\t\\t\\t\\t\\t(type default)\\n\\t\\t\\t\\t)\\n\\t\\t\\t\\t(fill\\n\\t\\t\\t\\t\\t(type none)\\n\\t\\t\\t\\t)\\n\\t\\t\\t)\\n\\t\\t)\\n\\t\\t(symbol \"C_1_1\"\\n\\t\\t\\t(pin passive line\\n\\t\\t\\t\\t(at 0 3.81 270)\\n\\t\\t\\t\\t(length 2.794)\\n\\t\\t\\t\\t(name \"~\"\\n\\t\\t\\t\\t\\t(effects\\n\\t\\t\\t\\t\\t\\t(font\\n\\t\\t\\t\\t\\t\\t\\t(size 1.27 1.27)\\n\\t\\t\\t\\t\\t\\t)\\n\\t\\t\\t\\t\\t)\\n\\t\\t\\t\\t)\\n\\t\\t\\t\\t(number \"1\"\\n\\t\\t\\t\\t\\t(effects\\n\\t\\t\\t\\t\\t\\t(font\\n\\t\\t\\t\\t\\t\\t\\t(size 1.27 1.27)\\n\\t\\t\\t\\t\\t\\t)\\n\\t\\t\\t\\t\\t)\\n\\t\\t\\t\\t)\\n\\t\\t\\t)\\n\\t\\t\\t(pin passive line\\n\\t\\t\\t\\t(at 0 -3.81 90)\\n\\t\\t\\t\\t(length 2.794)\\n\\t\\t\\t\\t(name \"~\"\\n\\t\\t\\t\\t\\t(effects\\n\\t\\t\\t\\t\\t\\t(font\\n\\t\\t\\t\\t\\t\\t\\t(size 1.27 1.27)\\n\\t\\t\\t\\t\\t\\t)\\n\\t\\t\\t\\t\\t)\\n\\t\\t\\t\\t)\\n\\t\\t\\t\\t(number \"2\"\\n\\t\\t\\t\\t\\t(effects\\n\\t\\t\\t\\t\\t\\t(font\\n\\t\\t\\t\\t\\t\\t\\t(size 1.27 1.27)\\n\\t\\t\\t\\t\\t\\t)\\n\\t\\t\\t\\t\\t)\\n\\t\\t\\t\\t)\\n\\t\\t\\t)\\n\\t\\t)\\n\\t) \\n \\n (symbol \"Device:R\"\\n\\t\\t(pin_numbers hide)\\n\\t\\t(pin_names\\n\\t\\t\\t(offset 0)\\n\\t\\t)\\n\\t\\t(exclude_from_sim no)\\n\\t\\t(in_bom yes)\\n\\t\\t(on_board yes)\\n\\t\\t(property \"Reference\" \"R\"\\n\\t\\t\\t(at 2.032 0 90)\\n\\t\\t\\t(effects\\n\\t\\t\\t\\t(font\\n\\t\\t\\t\\t\\t(size 1.27 1.27)\\n\\t\\t\\t\\t)\\n\\t\\t\\t)\\n\\t\\t)\\n\\t\\t(property \"Value\" \"R\"\\n\\t\\t\\t(at 0 0 90)\\n\\t\\t\\t(effects\\n\\t\\t\\t\\t(font\\n\\t\\t\\t\\t\\t(size 1.27 1.27)\\n\\t\\t\\t\\t)\\n\\t\\t\\t)\\n\\t\\t)\\n\\t\\t(property \"Footprint\" \"\"\\n\\t\\t\\t(at -1.778 0 90)\\n\\t\\t\\t(effects\\n\\t\\t\\t\\t(font\\n\\t\\t\\t\\t\\t(size 1.27 1.27)\\n\\t\\t\\t\\t)\\n\\t\\t\\t\\t(hide yes)\\n\\t\\t\\t)\\n\\t\\t)\\n\\t\\t(property \"Datasheet\" \"~\"\\n\\t\\t\\t(at 0 0 0)\\n\\t\\t\\t(effects\\n\\t\\t\\t\\t(font\\n\\t\\t\\t\\t\\t(size 1.27 1.27)\\n\\t\\t\\t\\t)\\n\\t\\t\\t\\t(hide yes)\\n\\t\\t\\t)\\n\\t\\t)\\n\\t\\t(property \"Description\" \"Resistor\"\\n\\t\\t\\t(at 0 0 0)\\n\\t\\t\\t(effects\\n\\t\\t\\t\\t(font\\n\\t\\t\\t\\t\\t(size 1.27 1.27)\\n\\t\\t\\t\\t)\\n\\t\\t\\t\\t(hide yes)\\n\\t\\t\\t)\\n\\t\\t)\\n\\t\\t(property \"ki_keywords\" \"R res resistor\"\\n\\t\\t\\t(at 0 0 0)\\n\\t\\t\\t(effects\\n\\t\\t\\t\\t(font\\n\\t\\t\\t\\t\\t(size 1.27 1.27)\\n\\t\\t\\t\\t)\\n\\t\\t\\t\\t(hide yes)\\n\\t\\t\\t)\\n\\t\\t)\\n\\t\\t(property \"ki_fp_filters\" \"R_*\"\\n\\t\\t\\t(at 0 0 0)\\n\\t\\t\\t(effects\\n\\t\\t\\t\\t(font\\n\\t\\t\\t\\t\\t(size 1.27 1.27)\\n\\t\\t\\t\\t)\\n\\t\\t\\t\\t(hide yes)\\n\\t\\t\\t)\\n\\t\\t)\\n\\t\\t(symbol \"R_0_1\"\\n\\t\\t\\t(rectangle\\n\\t\\t\\t\\t(start -1.016 -2.54)\\n\\t\\t\\t\\t(end 1.016 2.54)\\n\\t\\t\\t\\t(stroke\\n\\t\\t\\t\\t\\t(width 0.254)\\n\\t\\t\\t\\t\\t(type default)\\n\\t\\t\\t\\t)\\n\\t\\t\\t\\t(fill\\n\\t\\t\\t\\t\\t(type none)\\n\\t\\t\\t\\t)\\n\\t\\t\\t)\\n\\t\\t)\\n\\t\\t(symbol \"R_1_1\"\\n\\t\\t\\t(pin passive line\\n\\t\\t\\t\\t(at 0 3.81 270)\\n\\t\\t\\t\\t(length 1.27)\\n\\t\\t\\t\\t(name \"~\"\\n\\t\\t\\t\\t\\t(effects\\n\\t\\t\\t\\t\\t\\t(font\\n\\t\\t\\t\\t\\t\\t\\t(size 1.27 1.27)\\n\\t\\t\\t\\t\\t\\t)\\n\\t\\t\\t\\t\\t)\\n\\t\\t\\t\\t)\\n\\t\\t\\t\\t(number \"1\"\\n\\t\\t\\t\\t\\t(effects\\n\\t\\t\\t\\t\\t\\t(font\\n\\t\\t\\t\\t\\t\\t\\t(size 1.27 1.27)\\n\\t\\t\\t\\t\\t\\t)\\n\\t\\t\\t\\t\\t)\\n\\t\\t\\t\\t)\\n\\t\\t\\t)\\n\\t\\t\\t(pin passive line\\n\\t\\t\\t\\t(at 0 -3.81 90)\\n\\t\\t\\t\\t(length 1.27)\\n\\t\\t\\t\\t(name \"~\"\\n\\t\\t\\t\\t\\t(effects\\n\\t\\t\\t\\t\\t\\t(font\\n\\t\\t\\t\\t\\t\\t\\t(size 1.27 1.27)\\n\\t\\t\\t\\t\\t\\t)\\n\\t\\t\\t\\t\\t)\\n\\t\\t\\t\\t)\\n\\t\\t\\t\\t(number \"2\"\\n\\t\\t\\t\\t\\t(effects\\n\\t\\t\\t\\t\\t\\t(font\\n\\t\\t\\t\\t\\t\\t\\t(size 1.27 1.27)\\n\\t\\t\\t\\t\\t\\t)\\n\\t\\t\\t\\t\\t)\\n\\t\\t\\t\\t)\\n\\t\\t\\t)\\n\\t\\t)\\n\\t) \\n \\n (symbol \"Device:R\"\\n\\t\\t(pin_numbers hide)\\n\\t\\t(pin_names\\n\\t\\t\\t(offset 0)\\n\\t\\t)\\n\\t\\t(exclude_from_sim no)\\n\\t\\t(in_bom yes)\\n\\t\\t(on_board yes)\\n\\t\\t(property \"Reference\" \"R\"\\n\\t\\t\\t(at 2.032 0 90)\\n\\t\\t\\t(effects\\n\\t\\t\\t\\t(font\\n\\t\\t\\t\\t\\t(size 1.27 1.27)\\n\\t\\t\\t\\t)\\n\\t\\t\\t)\\n\\t\\t)\\n\\t\\t(property \"Value\" \"R\"\\n\\t\\t\\t(at 0 0 90)\\n\\t\\t\\t(effects\\n\\t\\t\\t\\t(font\\n\\t\\t\\t\\t\\t(size 1.27 1.27)\\n\\t\\t\\t\\t)\\n\\t\\t\\t)\\n\\t\\t)\\n\\t\\t(property \"Footprint\" \"\"\\n\\t\\t\\t(at -1.778 0 90)\\n\\t\\t\\t(effects\\n\\t\\t\\t\\t(font\\n\\t\\t\\t\\t\\t(size 1.27 1.27)\\n\\t\\t\\t\\t)\\n\\t\\t\\t\\t(hide yes)\\n\\t\\t\\t)\\n\\t\\t)\\n\\t\\t(property \"Datasheet\" \"~\"\\n\\t\\t\\t(at 0 0 0)\\n\\t\\t\\t(effects\\n\\t\\t\\t\\t(font\\n\\t\\t\\t\\t\\t(size 1.27 1.27)\\n\\t\\t\\t\\t)\\n\\t\\t\\t\\t(hide yes)\\n\\t\\t\\t)\\n\\t\\t)\\n\\t\\t(property \"Description\" \"Resistor\"\\n\\t\\t\\t(at 0 0 0)\\n\\t\\t\\t(effects\\n\\t\\t\\t\\t(font\\n\\t\\t\\t\\t\\t(size 1.27 1.27)\\n\\t\\t\\t\\t)\\n\\t\\t\\t\\t(hide yes)\\n\\t\\t\\t)\\n\\t\\t)\\n\\t\\t(property \"ki_keywords\" \"R res resistor\"\\n\\t\\t\\t(at 0 0 0)\\n\\t\\t\\t(effects\\n\\t\\t\\t\\t(font\\n\\t\\t\\t\\t\\t(size 1.27 1.27)\\n\\t\\t\\t\\t)\\n\\t\\t\\t\\t(hide yes)\\n\\t\\t\\t)\\n\\t\\t)\\n\\t\\t(property \"ki_fp_filters\" \"R_*\"\\n\\t\\t\\t(at 0 0 0)\\n\\t\\t\\t(effects\\n\\t\\t\\t\\t(font\\n\\t\\t\\t\\t\\t(size 1.27 1.27)\\n\\t\\t\\t\\t)\\n\\t\\t\\t\\t(hide yes)\\n\\t\\t\\t)\\n\\t\\t)\\n\\t\\t(symbol \"R_0_1\"\\n\\t\\t\\t(rectangle\\n\\t\\t\\t\\t(start -1.016 -2.54)\\n\\t\\t\\t\\t(end 1.016 2.54)\\n\\t\\t\\t\\t(stroke\\n\\t\\t\\t\\t\\t(width 0.254)\\n\\t\\t\\t\\t\\t(type default)\\n\\t\\t\\t\\t)\\n\\t\\t\\t\\t(fill\\n\\t\\t\\t\\t\\t(type none)\\n\\t\\t\\t\\t)\\n\\t\\t\\t)\\n\\t\\t)\\n\\t\\t(symbol \"R_1_1\"\\n\\t\\t\\t(pin passive line\\n\\t\\t\\t\\t(at 0 3.81 270)\\n\\t\\t\\t\\t(length 1.27)\\n\\t\\t\\t\\t(name \"~\"\\n\\t\\t\\t\\t\\t(effects\\n\\t\\t\\t\\t\\t\\t(font\\n\\t\\t\\t\\t\\t\\t\\t(size 1.27 1.27)\\n\\t\\t\\t\\t\\t\\t)\\n\\t\\t\\t\\t\\t)\\n\\t\\t\\t\\t)\\n\\t\\t\\t\\t(number \"1\"\\n\\t\\t\\t\\t\\t(effects\\n\\t\\t\\t\\t\\t\\t(font\\n\\t\\t\\t\\t\\t\\t\\t(size 1.27 1.27)\\n\\t\\t\\t\\t\\t\\t)\\n\\t\\t\\t\\t\\t)\\n\\t\\t\\t\\t)\\n\\t\\t\\t)\\n\\t\\t\\t(pin passive line\\n\\t\\t\\t\\t(at 0 -3.81 90)\\n\\t\\t\\t\\t(length 1.27)\\n\\t\\t\\t\\t(name \"~\"\\n\\t\\t\\t\\t\\t(effects\\n\\t\\t\\t\\t\\t\\t(font\\n\\t\\t\\t\\t\\t\\t\\t(size 1.27 1.27)\\n\\t\\t\\t\\t\\t\\t)\\n\\t\\t\\t\\t\\t)\\n\\t\\t\\t\\t)\\n\\t\\t\\t\\t(number \"2\"\\n\\t\\t\\t\\t\\t(effects\\n\\t\\t\\t\\t\\t\\t(font\\n\\t\\t\\t\\t\\t\\t\\t(size 1.27 1.27)\\n\\t\\t\\t\\t\\t\\t)\\n\\t\\t\\t\\t\\t)\\n\\t\\t\\t\\t)\\n\\t\\t\\t)\\n\\t\\t)\\n\\t) \\n \\n (symbol \"Device:R\"\\n\\t\\t(pin_numbers hide)\\n\\t\\t(pin_names\\n\\t\\t\\t(offset 0)\\n\\t\\t)\\n\\t\\t(exclude_from_sim no)\\n\\t\\t(in_bom yes)\\n\\t\\t(on_board yes)\\n\\t\\t(property \"Reference\" \"R\"\\n\\t\\t\\t(at 2.032 0 90)\\n\\t\\t\\t(effects\\n\\t\\t\\t\\t(font\\n\\t\\t\\t\\t\\t(size 1.27 1.27)\\n\\t\\t\\t\\t)\\n\\t\\t\\t)\\n\\t\\t)\\n\\t\\t(property \"Value\" \"R\"\\n\\t\\t\\t(at 0 0 90)\\n\\t\\t\\t(effects\\n\\t\\t\\t\\t(font\\n\\t\\t\\t\\t\\t(size 1.27 1.27)\\n\\t\\t\\t\\t)\\n\\t\\t\\t)\\n\\t\\t)\\n\\t\\t(property \"Footprint\" \"\"\\n\\t\\t\\t(at -1.778 0 90)\\n\\t\\t\\t(effects\\n\\t\\t\\t\\t(font\\n\\t\\t\\t\\t\\t(size 1.27 1.27)\\n\\t\\t\\t\\t)\\n\\t\\t\\t\\t(hide yes)\\n\\t\\t\\t)\\n\\t\\t)\\n\\t\\t(property \"Datasheet\" \"~\"\\n\\t\\t\\t(at 0 0 0)\\n\\t\\t\\t(effects\\n\\t\\t\\t\\t(font\\n\\t\\t\\t\\t\\t(size 1.27 1.27)\\n\\t\\t\\t\\t)\\n\\t\\t\\t\\t(hide yes)\\n\\t\\t\\t)\\n\\t\\t)\\n\\t\\t(property \"Description\" \"Resistor\"\\n\\t\\t\\t(at 0 0 0)\\n\\t\\t\\t(effects\\n\\t\\t\\t\\t(font\\n\\t\\t\\t\\t\\t(size 1.27 1.27)\\n\\t\\t\\t\\t)\\n\\t\\t\\t\\t(hide yes)\\n\\t\\t\\t)\\n\\t\\t)\\n\\t\\t(property \"ki_keywords\" \"R res resistor\"\\n\\t\\t\\t(at 0 0 0)\\n\\t\\t\\t(effects\\n\\t\\t\\t\\t(font\\n\\t\\t\\t\\t\\t(size 1.27 1.27)\\n\\t\\t\\t\\t)\\n\\t\\t\\t\\t(hide yes)\\n\\t\\t\\t)\\n\\t\\t)\\n\\t\\t(property \"ki_fp_filters\" \"R_*\"\\n\\t\\t\\t(at 0 0 0)\\n\\t\\t\\t(effects\\n\\t\\t\\t\\t(font\\n\\t\\t\\t\\t\\t(size 1.27 1.27)\\n\\t\\t\\t\\t)\\n\\t\\t\\t\\t(hide yes)\\n\\t\\t\\t)\\n\\t\\t)\\n\\t\\t(symbol \"R_0_1\"\\n\\t\\t\\t(rectangle\\n\\t\\t\\t\\t(start -1.016 -2.54)\\n\\t\\t\\t\\t(end 1.016 2.54)\\n\\t\\t\\t\\t(stroke\\n\\t\\t\\t\\t\\t(width 0.254)\\n\\t\\t\\t\\t\\t(type default)\\n\\t\\t\\t\\t)\\n\\t\\t\\t\\t(fill\\n\\t\\t\\t\\t\\t(type none)\\n\\t\\t\\t\\t)\\n\\t\\t\\t)\\n\\t\\t)\\n\\t\\t(symbol \"R_1_1\"\\n\\t\\t\\t(pin passive line\\n\\t\\t\\t\\t(at 0 3.81 270)\\n\\t\\t\\t\\t(length 1.27)\\n\\t\\t\\t\\t(name \"~\"\\n\\t\\t\\t\\t\\t(effects\\n\\t\\t\\t\\t\\t\\t(font\\n\\t\\t\\t\\t\\t\\t\\t(size 1.27 1.27)\\n\\t\\t\\t\\t\\t\\t)\\n\\t\\t\\t\\t\\t)\\n\\t\\t\\t\\t)\\n\\t\\t\\t\\t(number \"1\"\\n\\t\\t\\t\\t\\t(effects\\n\\t\\t\\t\\t\\t\\t(font\\n\\t\\t\\t\\t\\t\\t\\t(size 1.27 1.27)\\n\\t\\t\\t\\t\\t\\t)\\n\\t\\t\\t\\t\\t)\\n\\t\\t\\t\\t)\\n\\t\\t\\t)\\n\\t\\t\\t(pin passive line\\n\\t\\t\\t\\t(at 0 -3.81 90)\\n\\t\\t\\t\\t(length 1.27)\\n\\t\\t\\t\\t(name \"~\"\\n\\t\\t\\t\\t\\t(effects\\n\\t\\t\\t\\t\\t\\t(font\\n\\t\\t\\t\\t\\t\\t\\t(size 1.27 1.27)\\n\\t\\t\\t\\t\\t\\t)\\n\\t\\t\\t\\t\\t)\\n\\t\\t\\t\\t)\\n\\t\\t\\t\\t(number \"2\"\\n\\t\\t\\t\\t\\t(effects\\n\\t\\t\\t\\t\\t\\t(font\\n\\t\\t\\t\\t\\t\\t\\t(size 1.27 1.27)\\n\\t\\t\\t\\t\\t\\t)\\n\\t\\t\\t\\t\\t)\\n\\t\\t\\t\\t)\\n\\t\\t\\t)\\n\\t\\t)\\n\\t) \\n \\n (symbol \"Device:R\"\\n\\t\\t(pin_numbers hide)\\n\\t\\t(pin_names\\n\\t\\t\\t(offset 0)\\n\\t\\t)\\n\\t\\t(exclude_from_sim no)\\n\\t\\t(in_bom yes)\\n\\t\\t(on_board yes)\\n\\t\\t(property \"Reference\" \"R\"\\n\\t\\t\\t(at 2.032 0 90)\\n\\t\\t\\t(effects\\n\\t\\t\\t\\t(font\\n\\t\\t\\t\\t\\t(size 1.27 1.27)\\n\\t\\t\\t\\t)\\n\\t\\t\\t)\\n\\t\\t)\\n\\t\\t(property \"Value\" \"R\"\\n\\t\\t\\t(at 0 0 90)\\n\\t\\t\\t(effects\\n\\t\\t\\t\\t(font\\n\\t\\t\\t\\t\\t(size 1.27 1.27)\\n\\t\\t\\t\\t)\\n\\t\\t\\t)\\n\\t\\t)\\n\\t\\t(property \"Footprint\" \"\"\\n\\t\\t\\t(at -1.778 0 90)\\n\\t\\t\\t(effects\\n\\t\\t\\t\\t(font\\n\\t\\t\\t\\t\\t(size 1.27 1.27)\\n\\t\\t\\t\\t)\\n\\t\\t\\t\\t(hide yes)\\n\\t\\t\\t)\\n\\t\\t)\\n\\t\\t(property \"Datasheet\" \"~\"\\n\\t\\t\\t(at 0 0 0)\\n\\t\\t\\t(effects\\n\\t\\t\\t\\t(font\\n\\t\\t\\t\\t\\t(size 1.27 1.27)\\n\\t\\t\\t\\t)\\n\\t\\t\\t\\t(hide yes)\\n\\t\\t\\t)\\n\\t\\t)\\n\\t\\t(property \"Description\" \"Resistor\"\\n\\t\\t\\t(at 0 0 0)\\n\\t\\t\\t(effects\\n\\t\\t\\t\\t(font\\n\\t\\t\\t\\t\\t(size 1.27 1.27)\\n\\t\\t\\t\\t)\\n\\t\\t\\t\\t(hide yes)\\n\\t\\t\\t)\\n\\t\\t)\\n\\t\\t(property \"ki_keywords\" \"R res resistor\"\\n\\t\\t\\t(at 0 0 0)\\n\\t\\t\\t(effects\\n\\t\\t\\t\\t(font\\n\\t\\t\\t\\t\\t(size 1.27 1.27)\\n\\t\\t\\t\\t)\\n\\t\\t\\t\\t(hide yes)\\n\\t\\t\\t)\\n\\t\\t)\\n\\t\\t(property \"ki_fp_filters\" \"R_*\"\\n\\t\\t\\t(at 0 0 0)\\n\\t\\t\\t(effects\\n\\t\\t\\t\\t(font\\n\\t\\t\\t\\t\\t(size 1.27 1.27)\\n\\t\\t\\t\\t)\\n\\t\\t\\t\\t(hide yes)\\n\\t\\t\\t)\\n\\t\\t)\\n\\t\\t(symbol \"R_0_1\"\\n\\t\\t\\t(rectangle\\n\\t\\t\\t\\t(start -1.016 -2.54)\\n\\t\\t\\t\\t(end 1.016 2.54)\\n\\t\\t\\t\\t(stroke\\n\\t\\t\\t\\t\\t(width 0.254)\\n\\t\\t\\t\\t\\t(type default)\\n\\t\\t\\t\\t)\\n\\t\\t\\t\\t(fill\\n\\t\\t\\t\\t\\t(type none)\\n\\t\\t\\t\\t)\\n\\t\\t\\t)\\n\\t\\t)\\n\\t\\t(symbol \"R_1_1\"\\n\\t\\t\\t(pin passive line\\n\\t\\t\\t\\t(at 0 3.81 270)\\n\\t\\t\\t\\t(length 1.27)\\n\\t\\t\\t\\t(name \"~\"\\n\\t\\t\\t\\t\\t(effects\\n\\t\\t\\t\\t\\t\\t(font\\n\\t\\t\\t\\t\\t\\t\\t(size 1.27 1.27)\\n\\t\\t\\t\\t\\t\\t)\\n\\t\\t\\t\\t\\t)\\n\\t\\t\\t\\t)\\n\\t\\t\\t\\t(number \"1\"\\n\\t\\t\\t\\t\\t(effects\\n\\t\\t\\t\\t\\t\\t(font\\n\\t\\t\\t\\t\\t\\t\\t(size 1.27 1.27)\\n\\t\\t\\t\\t\\t\\t)\\n\\t\\t\\t\\t\\t)\\n\\t\\t\\t\\t)\\n\\t\\t\\t)\\n\\t\\t\\t(pin passive line\\n\\t\\t\\t\\t(at 0 -3.81 90)\\n\\t\\t\\t\\t(length 1.27)\\n\\t\\t\\t\\t(name \"~\"\\n\\t\\t\\t\\t\\t(effects\\n\\t\\t\\t\\t\\t\\t(font\\n\\t\\t\\t\\t\\t\\t\\t(size 1.27 1.27)\\n\\t\\t\\t\\t\\t\\t)\\n\\t\\t\\t\\t\\t)\\n\\t\\t\\t\\t)\\n\\t\\t\\t\\t(number \"2\"\\n\\t\\t\\t\\t\\t(effects\\n\\t\\t\\t\\t\\t\\t(font\\n\\t\\t\\t\\t\\t\\t\\t(size 1.27 1.27)\\n\\t\\t\\t\\t\\t\\t)\\n\\t\\t\\t\\t\\t)\\n\\t\\t\\t\\t)\\n\\t\\t\\t)\\n\\t\\t)\\n\\t) \\n )\\n\\n \\n(symbol\\n        (lib_id \"Device:R\")\\n        (at 146.05 53.34 90)\\n        (unit 1)\\n        (exclude_from_sim no)\\n        (in_bom yes)\\n        (on_board yes)\\n        (dnp no)\\n        (fields_autoplaced yes)\\n        (uuid \"70e7bec2-984b-4e54-8029-b24bd28c08e3\")\\n        (property \"Reference\" \"R1\"\\n            (at 146.05 53.34 0)\\n            (effects\\n                (font\\n                    (size 1.27 1.27)\\n                )\\n            )\\n        )\\n        (property \"Value\" \"\"\\n            (at 146.05 53.34 0)\\n            (effects\\n                (font\\n                    (size 1.27 1.27)\\n                )\\n            )\\n        )\\n        (property \"Footprint\" \"\"\\n            (at 146.05 53.34 0)\\n            (effects\\n                (font\\n                    (size 1.27 1.27)\\n                )\\n                (hide yes)\\n            )\\n        )\\n        (property \"Datasheet\" \"~\"\\n            (at 146.05 53.34 0)\\n            (effects\\n                (font\\n                    (size 1.27 1.27)\\n                )\\n                (hide yes)\\n            )\\n        )\\n        (property \"Description\" \"esistor\"\\n            (at 146.05 53.34 0)\\n            (effects\\n                (font\\n                    (size 1.27 1.27)\\n                )\\n                (hide yes)\\n            )\\n        )\\n        (instances\\n            (project \"temp_59526c9f-d2d4-4c47-ba25-9347dc717d36\"\\n                (path \"/59526c9f-d2d4-4c47-ba25-9347dc717d36\"\\n                    (reference \"R1\")\\n                    (unit 1)\\n                )\\n            )\\n        )\\n    )    \\n \\n \\n \\n(symbol\\n        (lib_id \"Device:R\")\\n        (at 325 250 0)\\n        (unit 1)\\n        (exclude_from_sim no)\\n        (in_bom yes)\\n        (on_board yes)\\n        (dnp no)\\n        (fields_autoplaced yes)\\n        (uuid \"d3f61c5a-dd33-48f9-ad5e-50da90b63751\")\\n        (property \"Reference\" \"RV1\"\\n            (at 325 250 0)\\n            (effects\\n                (font\\n                    (size 1.27 1.27)\\n                )\\n            )\\n        )\\n        (property \"Value\" \"\"\\n            (at 325 250 0)\\n            (effects\\n                (font\\n                    (size 1.27 1.27)\\n                )\\n            )\\n        )\\n        (property \"Footprint\" \"\"\\n            (at 325 250 0)\\n            (effects\\n                (font\\n                    (size 1.27 1.27)\\n                )\\n                (hide yes)\\n            )\\n        )\\n        (property \"Datasheet\" \"~\"\\n            (at 325 250 0)\\n            (effects\\n                (font\\n                    (size 1.27 1.27)\\n                )\\n                (hide yes)\\n            )\\n        )\\n        (property \"Description\" \"esistor\"\\n            (at 325 250 0)\\n            (effects\\n                (font\\n                    (size 1.27 1.27)\\n                )\\n                (hide yes)\\n            )\\n        )\\n        (instances\\n            (project \"temp_59526c9f-d2d4-4c47-ba25-9347dc717d36\"\\n                (path \"/59526c9f-d2d4-4c47-ba25-9347dc717d36\"\\n                    (reference \"RV1\")\\n                    (unit 1)\\n                )\\n            )\\n        )\\n    )    \\n \\n \\n \\n(symbol\\n        (lib_id \"Device:R\")\\n        (at 175 150 0)\\n        (unit 1)\\n        (exclude_from_sim no)\\n        (in_bom yes)\\n        (on_board yes)\\n        (dnp no)\\n        (fields_autoplaced yes)\\n        (uuid \"0611cab8-9b58-4605-ad7a-57c24ff60c45\")\\n        (property \"Reference\" \"Q1\"\\n            (at 175 150 0)\\n            (effects\\n                (font\\n                    (size 1.27 1.27)\\n                )\\n            )\\n        )\\n        (property \"Value\" \"\"\\n            (at 175 150 0)\\n            (effects\\n                (font\\n                    (size 1.27 1.27)\\n                )\\n            )\\n        )\\n        (property \"Footprint\" \"\"\\n            (at 175 150 0)\\n            (effects\\n                (font\\n                    (size 1.27 1.27)\\n                )\\n                (hide yes)\\n            )\\n        )\\n        (property \"Datasheet\" \"~\"\\n            (at 175 150 0)\\n            (effects\\n                (font\\n                    (size 1.27 1.27)\\n                )\\n                (hide yes)\\n            )\\n        )\\n        (property \"Description\" \"esistor\"\\n            (at 175 150 0)\\n            (effects\\n                (font\\n                    (size 1.27 1.27)\\n                )\\n                (hide yes)\\n            )\\n        )\\n        (instances\\n            (project \"temp_59526c9f-d2d4-4c47-ba25-9347dc717d36\"\\n                (path \"/59526c9f-d2d4-4c47-ba25-9347dc717d36\"\\n                    (reference \"Q1\")\\n                    (unit 1)\\n                )\\n            )\\n        )\\n    )    \\n \\n \\n \\n(symbol\\n        (lib_id \"Device:C\")\\n        (at 275 75 0)\\n        (unit 1)\\n        (exclude_from_sim no)\\n        (in_bom yes)\\n        (on_board yes)\\n        (dnp no)\\n        (fields_autoplaced yes)\\n        (uuid \"e10ef3c5-5fe8-43e9-97c3-5945ce811f32\")\\n        (property \"Reference\" \"C2\"\\n            (at 275 75 0)\\n            (effects\\n                (font\\n                    (size 1.27 1.27)\\n                )\\n            )\\n        )\\n        (property \"Value\" \"\"\\n            (at 275 75 0)\\n            (effects\\n                (font\\n                    (size 1.27 1.27)\\n                )\\n            )\\n        )\\n        (property \"Footprint\" \"\"\\n            (at 275 75 0)\\n            (effects\\n                (font\\n                    (size 1.27 1.27)\\n                )\\n                (hide yes)\\n            )\\n        )\\n        (property \"Datasheet\" \"~\"\\n            (at 275 75 0)\\n            (effects\\n                (font\\n                    (size 1.27 1.27)\\n                )\\n                (hide yes)\\n            )\\n        )\\n        (property \"Description\" \"npolarized capacitor\"\\n            (at 275 75 0)\\n            (effects\\n                (font\\n                    (size 1.27 1.27)\\n                )\\n                (hide yes)\\n            )\\n        )\\n        (instances\\n            (project \"temp_59526c9f-d2d4-4c47-ba25-9347dc717d36\"\\n                (path \"/59526c9f-d2d4-4c47-ba25-9347dc717d36\"\\n                    (reference \"C2\")\\n                    (unit 1)\\n                )\\n            )\\n        )\\n    )    \\n \\n \\n \\n(symbol\\n        (lib_id \"Device:C\")\\n        (at 175 75 0)\\n        (unit 1)\\n        (exclude_from_sim no)\\n        (in_bom yes)\\n        (on_board yes)\\n        (dnp no)\\n        (fields_autoplaced yes)\\n        (uuid \"bb0ec497-8e95-4df1-b3ad-c59beb25ffa7\")\\n        (property \"Reference\" \"C1\"\\n            (at 175 75 0)\\n            (effects\\n                (font\\n                    (size 1.27 1.27)\\n                )\\n            )\\n        )\\n        (property \"Value\" \"\"\\n            (at 175 75 0)\\n            (effects\\n                (font\\n                    (size 1.27 1.27)\\n                )\\n            )\\n        )\\n        (property \"Footprint\" \"\"\\n            (at 175 75 0)\\n            (effects\\n                (font\\n                    (size 1.27 1.27)\\n                )\\n                (hide yes)\\n            )\\n        )\\n        (property \"Datasheet\" \"~\"\\n            (at 175 75 0)\\n            (effects\\n                (font\\n                    (size 1.27 1.27)\\n                )\\n                (hide yes)\\n            )\\n        )\\n        (property \"Description\" \"npolarized capacitor\"\\n            (at 175 75 0)\\n            (effects\\n                (font\\n                    (size 1.27 1.27)\\n                )\\n                (hide yes)\\n            )\\n        )\\n        (instances\\n            (project \"temp_59526c9f-d2d4-4c47-ba25-9347dc717d36\"\\n                (path \"/59526c9f-d2d4-4c47-ba25-9347dc717d36\"\\n                    (reference \"C1\")\\n                    (unit 1)\\n                )\\n            )\\n        )\\n    )    \\n \\n \\n \\n(symbol\\n        (lib_id \"Device:R\")\\n        (at 225 175 90)\\n        (unit 1)\\n        (exclude_from_sim no)\\n        (in_bom yes)\\n        (on_board yes)\\n        (dnp no)\\n        (fields_autoplaced yes)\\n        (uuid \"d57930e8-fc2f-408c-9226-c6428ff83498\")\\n        (property \"Reference\" \"R4\"\\n            (at 225 175 0)\\n            (effects\\n                (font\\n                    (size 1.27 1.27)\\n                )\\n            )\\n        )\\n        (property \"Value\" \"\"\\n            (at 225 175 0)\\n            (effects\\n                (font\\n                    (size 1.27 1.27)\\n                )\\n            )\\n        )\\n        (property \"Footprint\" \"\"\\n            (at 225 175 0)\\n            (effects\\n                (font\\n                    (size 1.27 1.27)\\n                )\\n                (hide yes)\\n            )\\n        )\\n        (property \"Datasheet\" \"~\"\\n            (at 225 175 0)\\n            (effects\\n                (font\\n                    (size 1.27 1.27)\\n                )\\n                (hide yes)\\n            )\\n        )\\n        (property \"Description\" \"esistor\"\\n            (at 225 175 0)\\n            (effects\\n                (font\\n                    (size 1.27 1.27)\\n                )\\n                (hide yes)\\n            )\\n        )\\n        (instances\\n            (project \"temp_59526c9f-d2d4-4c47-ba25-9347dc717d36\"\\n                (path \"/59526c9f-d2d4-4c47-ba25-9347dc717d36\"\\n                    (reference \"R4\")\\n                    (unit 1)\\n                )\\n            )\\n        )\\n    )    \\n \\n \\n \\n(symbol\\n        (lib_id \"Device:R\")\\n        (at 125 175 90)\\n        (unit 1)\\n        (exclude_from_sim no)\\n        (in_bom yes)\\n        (on_board yes)\\n        (dnp no)\\n        (fields_autoplaced yes)\\n        (uuid \"d2348311-54e2-401a-b8d2-1ac202b16b50\")\\n        (property \"Reference\" \"R3\"\\n            (at 125 175 0)\\n            (effects\\n                (font\\n                    (size 1.27 1.27)\\n                )\\n            )\\n        )\\n        (property \"Value\" \"\"\\n            (at 125 175 0)\\n            (effects\\n                (font\\n                    (size 1.27 1.27)\\n                )\\n            )\\n        )\\n        (property \"Footprint\" \"\"\\n            (at 125 175 0)\\n            (effects\\n                (font\\n                    (size 1.27 1.27)\\n                )\\n                (hide yes)\\n            )\\n        )\\n        (property \"Datasheet\" \"~\"\\n            (at 125 175 0)\\n            (effects\\n                (font\\n                    (size 1.27 1.27)\\n                )\\n                (hide yes)\\n            )\\n        )\\n        (property \"Description\" \"esistor\"\\n            (at 125 175 0)\\n            (effects\\n                (font\\n                    (size 1.27 1.27)\\n                )\\n                (hide yes)\\n            )\\n        )\\n        (instances\\n            (project \"temp_59526c9f-d2d4-4c47-ba25-9347dc717d36\"\\n                (path \"/59526c9f-d2d4-4c47-ba25-9347dc717d36\"\\n                    (reference \"R3\")\\n                    (unit 1)\\n                )\\n            )\\n        )\\n    )    \\n \\n \\n \\n(symbol\\n        (lib_id \"Device:R\")\\n        (at 225 75 90)\\n        (unit 1)\\n        (exclude_from_sim no)\\n        (in_bom yes)\\n        (on_board yes)\\n        (dnp no)\\n        (fields_autoplaced yes)\\n        (uuid \"599dc9d1-9adf-40c9-8c2a-331b81f40fa1\")\\n        (property \"Reference\" \"R2\"\\n            (at 225 75 0)\\n            (effects\\n                (font\\n                    (size 1.27 1.27)\\n                )\\n            )\\n        )\\n        (property \"Value\" \"\"\\n            (at 225 75 0)\\n            (effects\\n                (font\\n                    (size 1.27 1.27)\\n                )\\n            )\\n        )\\n        (property \"Footprint\" \"\"\\n            (at 225 75 0)\\n            (effects\\n                (font\\n                    (size 1.27 1.27)\\n                )\\n                (hide yes)\\n            )\\n        )\\n        (property \"Datasheet\" \"~\"\\n            (at 225 75 0)\\n            (effects\\n                (font\\n                    (size 1.27 1.27)\\n                )\\n                (hide yes)\\n            )\\n        )\\n        (property \"Description\" \"esistor\"\\n            (at 225 75 0)\\n            (effects\\n                (font\\n                    (size 1.27 1.27)\\n                )\\n                (hide yes)\\n            )\\n        )\\n        (instances\\n            (project \"temp_59526c9f-d2d4-4c47-ba25-9347dc717d36\"\\n                (path \"/59526c9f-d2d4-4c47-ba25-9347dc717d36\"\\n                    (reference \"R2\")\\n                    (unit 1)\\n                )\\n            )\\n        )\\n    )    \\n \\n \\n \\n(symbol\\n        (lib_id \"Device:R\")\\n        (at 125 75 90)\\n        (unit 1)\\n        (exclude_from_sim no)\\n        (in_bom yes)\\n        (on_board yes)\\n        (dnp no)\\n        (fields_autoplaced yes)\\n        (uuid \"40cfe3f0-6b98-4ee9-a158-4fa4479db71c\")\\n        (property \"Reference\" \"R1\"\\n            (at 125 75 0)\\n            (effects\\n                (font\\n                    (size 1.27 1.27)\\n                )\\n            )\\n        )\\n        (property \"Value\" \"\"\\n            (at 125 75 0)\\n            (effects\\n                (font\\n                    (size 1.27 1.27)\\n                )\\n            )\\n        )\\n        (property \"Footprint\" \"\"\\n            (at 125 75 0)\\n            (effects\\n                (font\\n                    (size 1.27 1.27)\\n                )\\n                (hide yes)\\n            )\\n        )\\n        (property \"Datasheet\" \"~\"\\n            (at 125 75 0)\\n            (effects\\n                (font\\n                    (size 1.27 1.27)\\n                )\\n                (hide yes)\\n            )\\n        )\\n        (property \"Description\" \"esistor\"\\n            (at 125 75 0)\\n            (effects\\n                (font\\n                    (size 1.27 1.27)\\n                )\\n                (hide yes)\\n            )\\n        )\\n        (instances\\n            (project \"temp_59526c9f-d2d4-4c47-ba25-9347dc717d36\"\\n                (path \"/59526c9f-d2d4-4c47-ba25-9347dc717d36\"\\n                    (reference \"R1\")\\n                    (unit 1)\\n                )\\n            )\\n        )\\n    )    \\n \\n \\t(sheet_instances\\n\\t\\t(path \"/\"\\n\\t\\t\\t(page \"1\")\\n\\t\\t)\\n\\t)\\n)'"
      ]
     },
     "execution_count": 18,
     "metadata": {},
     "output_type": "execute_result"
    }
   ],
   "source": [
    "import kicad_utils\n",
    "temp_file_path = \"testProject/testProject.kicad_sch\"\n",
    "\n",
    "temp_components = [\n",
    "    # {\"lib_id\": \":SW_DPST_x2\", \"x\": 143.51, \"y\": 77.47, \"angle\":0, \"reference_name\": \"SW1A\"},\n",
    "    # {\"lib_id\": \"Device:Ammeter_AC\", \"x\": 133.35, \"y\": 64.77, \"angle\":0, \"reference_name\": \"BT1\"},\n",
    "    # {\"lib_id\": \"Device:Ammeter_AC\", \"x\": 133.35, \"y\": 64.77, \"angle\":0, \"reference_name\": \"BT1\"},\n",
    "    {\"lib_id\": \"Device:R\", \"x\": 146.05, \"y\": 53.34, \"angle\":90, \"reference_name\": \"R1\"}\n",
    "]\n",
    "\n",
    "# kicad_utils.extract_symbol_definition(\"Device:R\")\n",
    "# kicad_utils.modify_kicad_sch_file(components = temp_components, file_path=temp_file_path)\n",
    "kicad_utils.create_kicad_sch_file(components = temp_components,)\n"
   ]
  },
  {
   "cell_type": "markdown",
   "metadata": {},
   "source": [
    "## Try adding wires\n"
   ]
  },
  {
   "cell_type": "code",
   "execution_count": 43,
   "metadata": {},
   "outputs": [],
   "source": [
    "import skip\n",
    "\n",
    "\n",
    "# load a schematic\n",
    "schem = skip.Schematic(\"testProject/testProject.kicad_sch\")\n"
   ]
  },
  {
   "cell_type": "code",
   "execution_count": 49,
   "metadata": {},
   "outputs": [
    {
     "name": "stdout",
     "output_type": "stream",
     "text": [
      "114.3\n"
     ]
    }
   ],
   "source": [
    "# # print(schem.symbol.R1.location)\n",
    "# for component in schem.symbol:\n",
    "    \n",
    "#     print(component.value)\n",
    "\n",
    "print(schem.symbol.R3.pin[0].location.x)\n",
    "    # print(type(component))"
   ]
  },
  {
   "cell_type": "code",
   "execution_count": null,
   "metadata": {},
   "outputs": [],
   "source": []
  }
 ],
 "metadata": {
  "kernelspec": {
   "display_name": ".venv",
   "language": "python",
   "name": "python3"
  },
  "language_info": {
   "codemirror_mode": {
    "name": "ipython",
    "version": 3
   },
   "file_extension": ".py",
   "mimetype": "text/x-python",
   "name": "python",
   "nbconvert_exporter": "python",
   "pygments_lexer": "ipython3",
   "version": "3.11.8"
  }
 },
 "nbformat": 4,
 "nbformat_minor": 2
}

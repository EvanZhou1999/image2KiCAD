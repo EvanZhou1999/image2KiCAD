{
 "cells": [
  {
   "cell_type": "markdown",
   "metadata": {},
   "source": [
    "## Parse image through an LLM (GPT4/Claude/Gemini)\n",
    "From our initial test GPT4-turbo seems to work fine."
   ]
  },
  {
   "cell_type": "code",
   "execution_count": null,
   "metadata": {},
   "outputs": [],
   "source": [
    "from scripts.LLMToSchematics import image_to_schematics\n",
    "\n",
    "LLM_output= image_to_schematics(\"testImages/led_array.jpeg\")\n",
    "print(LLM_output)"
   ]
  },
  {
   "cell_type": "markdown",
   "metadata": {},
   "source": [
    "# GPT Output processing"
   ]
  },
  {
   "cell_type": "markdown",
   "metadata": {},
   "source": [
    "#### Save and load the json from LLM output, so that you can save API requests during development :)"
   ]
  },
  {
   "cell_type": "code",
   "execution_count": null,
   "metadata": {},
   "outputs": [],
   "source": [
    "\n",
    "# save the result dictionary to a file\n",
    "import json\n",
    "with open('result.json', 'w') as f:\n",
    "    json.dump(LLM_output, f, indent=4)\n",
    "\n"
   ]
  },
  {
   "cell_type": "code",
   "execution_count": null,
   "metadata": {},
   "outputs": [],
   "source": [
    "# load the dictionary from the file\n",
    "import json\n",
    "with open('result.json', 'r') as f:\n",
    "    result = json.load(f)"
   ]
  },
  {
   "cell_type": "markdown",
   "metadata": {},
   "source": [
    "#### Clean data"
   ]
  },
  {
   "cell_type": "code",
   "execution_count": null,
   "metadata": {},
   "outputs": [],
   "source": [
    "# iterate through the list of dicts results and remove empty dicts\n",
    "for i in range(len(result['detected_components'])):\n",
    "    if not result['detected_components'][i]:\n",
    "        del result['detected_components'][i]\n",
    "for component in result[\"detected_components\"]:\n",
    "    print(component[\"lib_id\"])"
   ]
  },
  {
   "cell_type": "markdown",
   "metadata": {},
   "source": [
    "#### Scale component coordinates for KiCAD schematics"
   ]
  },
  {
   "cell_type": "code",
   "execution_count": null,
   "metadata": {},
   "outputs": [],
   "source": [
    "from scripts import kicad_utils\n",
    "\n",
    "kicad_schematic_path = \"testProject/testProject.kicad_sch\"\n",
    "list_of_component_dict =[]\n",
    "\n",
    "\n",
    "for symbol in result[\"detected_components\"]:\n",
    "    print(symbol[\"lib_id\"], symbol[\"x\"], symbol[\"y\"], symbol[\"angle\"], symbol[\"reference\"])\n",
    "    \n",
    "    # Add the component to the list\n",
    "    list_of_component_dict.append({\"lib_id\": kicad_utils.match_libId(symbol[\"lib_id\"]), \"x\": symbol[\"x\"], \"y\": symbol[\"y\"], \"angle\": symbol[\"angle\"], \"reference_name\": symbol[\"reference\"]})\n",
    "\n",
    "print(\"List of component dictionaries:\")\n",
    "print(list_of_component_dict)\n",
    "# Accepts a list of component dictionaries and a scaling factor\n",
    "def scale_components(components, scaling_factor):\n",
    "    # Find the minimum and maximum x and y coordinates\n",
    "    min_x = min(component['x'] for component in components)\n",
    "    max_x = max(component['x'] for component in components)\n",
    "    min_y = min(component['y'] for component in components)\n",
    "    max_y = max(component['y'] for component in components)\n",
    "    \n",
    "    # Scale the components\n",
    "    scaled_components = []\n",
    "    for component in components:\n",
    "        scaled_x = min_x + (component['x'] - min_x) * scaling_factor\n",
    "        scaled_y = min_y + (component['y'] - min_y) * scaling_factor\n",
    "        scaled_component = component.copy()\n",
    "        scaled_component['x'] = int(scaled_x)\n",
    "        scaled_component['y'] = int(scaled_y)\n",
    "        scaled_components.append(scaled_component)\n",
    "    \n",
    "    return scaled_components\n",
    "\n",
    "\n",
    "scaled_components = scale_components(list_of_component_dict, 0.2)\n",
    "print(\"Scaled Components:\")\n",
    "print(scaled_components)\n",
    "\n",
    "\n"
   ]
  },
  {
   "cell_type": "markdown",
   "metadata": {},
   "source": [
    "#### Hardcoded temporary fixes\n",
    "- Resistors are always rotated by 90 degrees, since the symbol library describes them in a vertical orientation"
   ]
  },
  {
   "cell_type": "code",
   "execution_count": null,
   "metadata": {},
   "outputs": [],
   "source": [
    "\n",
    "\n",
    "# Change angle t0 90 for all resistors having angle 0 and 0 for all resistors having angle 90\n",
    "for component in scaled_components:\n",
    "    if component[\"lib_id\"] == \"Device:R\":\n",
    "        if component[\"angle\"] == 0:\n",
    "            component[\"angle\"] = 90\n",
    "        else:\n",
    "            component[\"angle\"] = 0\n",
    "\n",
    "print(\"Components after changing angles:\")\n",
    "print(scaled_components)"
   ]
  },
  {
   "cell_type": "markdown",
   "metadata": {},
   "source": [
    "# Add symbols to schematic!"
   ]
  },
  {
   "cell_type": "code",
   "execution_count": null,
   "metadata": {},
   "outputs": [],
   "source": [
    "from scripts import kicad_utils\n",
    "kicad_utils.modify_kicad_sch_file(components = scaled_components, file_path=kicad_schematic_path)"
   ]
  },
  {
   "cell_type": "code",
   "execution_count": null,
   "metadata": {},
   "outputs": [],
   "source": [
    "import skip\n",
    "\n",
    "def find_component_in_schem(component_reference, skip_schematic):\n",
    "    for symbol in skip_schematic.symbol:\n",
    "        if symbol.property.Reference.value == component_reference:\n",
    "            return symbol\n",
    "\n",
    "schem = skip.Schematic(\"testProject/testProject.kicad_sch\")\n",
    "wire_list = []\n",
    "\n",
    "# make a copy of detected connections\n",
    "all_connections = result[\"component_connections\"].copy()\n",
    "\n",
    "# Iterate through the list of generated components in kicad schematic\n",
    "for curr_component in schem.symbol:\n",
    "    print(curr_component.property.Reference.value)\n",
    "    curr_component_ref = curr_component.property.Reference.value\n",
    "    # Iterate through the list of detected connections\n",
    "    for curr_connection in all_connections:\n",
    "        # If curr component is compA in curr connection\n",
    "        if curr_connection['A_ref'] == curr_component_ref:\n",
    "            try:\n",
    "                curr_component_A_pin = curr_component.pin[curr_connection['A_pin'] - 1]\n",
    "                # Find component B\n",
    "                curr_component_B = find_component_in_schem(curr_connection['B_ref'], schem)\n",
    "                curr_component_B_pin = curr_component_B.pin[curr_connection['B_pin'] - 1]\n",
    "                # Add a wire to connect\n",
    "            \n",
    "                wire_list.append({\"x\": curr_component_A_pin.location.x, \"y\": curr_component_A_pin.location.y,\n",
    "                                  \"end_x\": curr_component_B_pin.location.x, \"end_y\": curr_component_B_pin.location.y})\n",
    "            except:\n",
    "                print(\"Skipped a wire\")\n",
    "                continue\n",
    "\n"
   ]
  },
  {
   "cell_type": "markdown",
   "metadata": {},
   "source": [
    "#### Split diagonal wires into horizontal and vertical wires"
   ]
  },
  {
   "cell_type": "code",
   "execution_count": null,
   "metadata": {},
   "outputs": [],
   "source": [
    "def split_diagonal_segments(wire_list):\n",
    "    new_wire_list = []\n",
    "    for segment in wire_list:\n",
    "        # Check if the segment is diagonal\n",
    "        if segment['x'] != segment['end_x'] and segment['y'] != segment['end_y']:\n",
    "            # Split the diagonal segment into horizontal and vertical segments\n",
    "            horizontal_segment = {'x': segment['x'], 'y': segment['y'], 'end_x': segment['end_x'], 'end_y': segment['y']}\n",
    "            vertical_segment = {'x': segment['end_x'], 'y': segment['y'], 'end_x': segment['end_x'], 'end_y': segment['end_y']}\n",
    "            new_wire_list.append(horizontal_segment)\n",
    "            new_wire_list.append(vertical_segment)\n",
    "        else:\n",
    "            new_wire_list.append(segment)  # Keep non-diagonal segments unchanged\n",
    "    return new_wire_list\n",
    "\n",
    "\n",
    "new_wire_list = split_diagonal_segments(wire_list)\n",
    "print(new_wire_list)"
   ]
  },
  {
   "cell_type": "markdown",
   "metadata": {},
   "source": [
    "# Add wires to schematic!"
   ]
  },
  {
   "cell_type": "code",
   "execution_count": null,
   "metadata": {},
   "outputs": [],
   "source": [
    "from scripts import kicad_utils\n",
    "kicad_schematic_path = \"testProject/testProject.kicad_sch\"\n",
    "kicad_utils.modify_kicad_sch_file(wires= new_wire_list, file_path=kicad_schematic_path)"
   ]
  },
  {
   "cell_type": "code",
   "execution_count": 11,
   "metadata": {},
   "outputs": [
    {
     "name": "stdout",
     "output_type": "stream",
     "text": [
      "/usr/share/kicad/symbols/\n"
     ]
    }
   ],
   "source": [
    "import yaml\n",
    "# Path to your config.yaml file\n",
    "config_file_path = 'configuration.yaml'\n",
    "\n",
    "# Read the YAML file\n",
    "with open(config_file_path, 'r') as file:\n",
    "    config = yaml.safe_load(file)\n",
    "\n",
    "# Extract the OPENAI_API_KEY value\n",
    "symbol_library_path = config.get('symbol_library_path', None)\n",
    "print(symbol_library_path)"
   ]
  },
  {
   "cell_type": "markdown",
   "metadata": {},
   "source": [
    "### R&D\n",
    "#### Try to get symbols in a json and then search for unindentified symbols in the llm output"
   ]
  },
  {
   "cell_type": "code",
   "execution_count": 43,
   "metadata": {},
   "outputs": [],
   "source": [
    "import os\n",
    "import re\n",
    "import json\n",
    "\n",
    "def extract_top_level_symbol_names(file_path):\n",
    "    symbol_names = []\n",
    "    with open(file_path, \"r\") as f:\n",
    "        content = f.read()\n",
    "        symbol_matches = re.findall(r'\\(symbol\\s+\"([^\"]+)\"', content)\n",
    "        previous_symbol = \"\"\n",
    "        for symbol_match in symbol_matches:\n",
    "            escaped_symbol = re.escape(previous_symbol) if previous_symbol else \"\"\n",
    "            if bool(re.search(fr'{escaped_symbol}_\\d+', symbol_match)):\n",
    "                continue\n",
    "            else:\n",
    "                previous_symbol = symbol_match\n",
    "                symbol_names.append(symbol_match)\n",
    "    return symbol_names\n",
    "\n",
    "def extract_and_write_symbol_data(directory_path, output_file):\n",
    "    with open(output_file, \"w\") as json_file:\n",
    "        json_file.write('{\"symbols\": [')\n",
    "        first_symbol = True\n",
    "        for filename in os.listdir(directory_path):\n",
    "            if filename.endswith(\".kicad_sym\"):\n",
    "                # Extract the library name from the file name\n",
    "                libname= filename.split(\".\")[0]\n",
    "                file_path = os.path.join(directory_path, filename)\n",
    "                symbols = extract_top_level_symbol_names(file_path)\n",
    "                if symbols:\n",
    "                    if not first_symbol:\n",
    "                        json_file.write(',')\n",
    "                    json.dump({\"lib\": filename, \"symbols\": symbols}, json_file, indent=2)\n",
    "                    first_symbol = False\n",
    "        json_file.write(']}')\n",
    "\n",
    "# Specify the directory containing the KiCad symbol files\n",
    "directory_path = \"/usr/share/kicad/symbols\"\n",
    "\n",
    "# Specify the output file\n",
    "output_file = \"symbol_data.json\"\n",
    "\n",
    "# Extract and write symbol data\n",
    "extract_and_write_symbol_data(directory_path, output_file)\n"
   ]
  },
  {
   "cell_type": "markdown",
   "metadata": {},
   "source": [
    "### Find file in json"
   ]
  },
  {
   "cell_type": "code",
   "execution_count": 54,
   "metadata": {},
   "outputs": [
    {
     "name": "stdout",
     "output_type": "stream",
     "text": [
      "Symbol 'STM' not found.\n"
     ]
    }
   ],
   "source": [
    "# Naive Search\n",
    "\n",
    "import json\n",
    "\n",
    "def search_symbol(json_data, symbol_name):\n",
    "    for symbol_file in json_data[\"symbols\"]:\n",
    "        if symbol_name in symbol_file[\"symbols\"]:\n",
    "            return symbol_file[\"lib\"]\n",
    "    return None\n",
    "\n",
    "# Load JSON data from file (assuming data is stored in \"data.json\")\n",
    "with open(\"symbol_data.json\", \"r\") as f:\n",
    "    json_data = json.load(f)\n",
    "\n",
    "# Search for symbol \"symbolC\"\n",
    "symbol_to_find = \"STM\"\n",
    "symbol_file_found = search_symbol(json_data, symbol_to_find)\n",
    "\n",
    "if symbol_file_found:\n",
    "    print(f\"Symbol '{symbol_to_find}' found in file: {symbol_file_found}\")\n",
    "else:\n",
    "    print(f\"Symbol '{symbol_to_find}' not found.\")"
   ]
  },
  {
   "cell_type": "code",
   "execution_count": 52,
   "metadata": {},
   "outputs": [
    {
     "name": "stdout",
     "output_type": "stream",
     "text": [
      "Match 1: Library: power.kicad_sym, Symbol: +BATT, Distance: 1\n",
      "Match 2: Library: power.kicad_sym, Symbol: -BATT, Distance: 1\n",
      "Match 3: Library: Diode.kicad_sym, Symbol: BAT41, Distance: 2\n"
     ]
    }
   ],
   "source": [
    "# Levenshtein Search\n",
    "\n",
    "import json\n",
    "import Levenshtein\n",
    "\n",
    "def load_symbol_data(file_path):\n",
    "    with open(file_path, \"r\") as f:\n",
    "        symbol_data = json.load(f)\n",
    "    return symbol_data\n",
    "\n",
    "def find_closest_matches(term, symbol_data, top_n=3):\n",
    "    matches = []\n",
    "    for lib_data in symbol_data[\"symbols\"]:\n",
    "        lib_name = lib_data[\"lib\"]\n",
    "        symbols = lib_data[\"symbols\"]\n",
    "        for symbol in symbols:\n",
    "            distance = Levenshtein.distance(term.lower(), symbol.lower())\n",
    "            matches.append((lib_name, symbol, distance))\n",
    "    \n",
    "    # Sort the matches based on distance\n",
    "    sorted_matches = sorted(matches, key=lambda x: x[2])\n",
    "    \n",
    "    # Extract top N matches\n",
    "    top_matches = sorted_matches[:top_n]\n",
    "    \n",
    "    return top_matches\n",
    "\n",
    "# Load symbol data from symbol.json\n",
    "symbol_data_path = \"symbol_data.json\"\n",
    "symbol_data = load_symbol_data(symbol_data_path)\n",
    "\n",
    "# Example usage:\n",
    "term = \"Batt\"\n",
    "top_matches = find_closest_matches(term, symbol_data)\n",
    "for i, match in enumerate(top_matches, start=1):\n",
    "    print(f\"Match {i}: Library: {match[0]}, Symbol: {match[1]}, Distance: {match[2]}\")\n"
   ]
  },
  {
   "cell_type": "code",
   "execution_count": null,
   "metadata": {},
   "outputs": [],
   "source": []
  }
 ],
 "metadata": {
  "kernelspec": {
   "display_name": ".venv",
   "language": "python",
   "name": "python3"
  },
  "language_info": {
   "codemirror_mode": {
    "name": "ipython",
    "version": 3
   },
   "file_extension": ".py",
   "mimetype": "text/x-python",
   "name": "python",
   "nbconvert_exporter": "python",
   "pygments_lexer": "ipython3",
   "version": "3.11.8"
  }
 },
 "nbformat": 4,
 "nbformat_minor": 2
}
